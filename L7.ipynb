{
 "metadata": {
  "kernelspec": {
   "display_name": "Python 2",
   "language": "python",
   "name": "python2"
  },
  "language_info": {
   "codemirror_mode": {
    "name": "ipython",
    "version": 2
   },
   "file_extension": ".py",
   "mimetype": "text/x-python",
   "name": "python",
   "nbconvert_exporter": "python",
   "pygments_lexer": "ipython2",
   "version": "2.7.9"
  },
  "name": ""
 },
 "nbformat": 3,
 "nbformat_minor": 0,
 "worksheets": [
  {
   "cells": [
    {
     "cell_type": "heading",
     "level": 1,
     "metadata": {},
     "source": [
      "J\u0119zyk Python - Wyk\u0142ad 7."
     ]
    },
    {
     "cell_type": "heading",
     "level": 2,
     "metadata": {},
     "source": [
      "Jeszcze wi\u0119cej o testowaniu naszej aplikacji, modu\u0142u, package'u"
     ]
    },
    {
     "cell_type": "code",
     "collapsed": true,
     "input": [
      "import timeit"
     ],
     "language": "python",
     "metadata": {},
     "outputs": [],
     "prompt_number": null
    },
    {
     "cell_type": "code",
     "collapsed": false,
     "input": [
      "print timeit.timeit('for i in range(100000): i', number=100)"
     ],
     "language": "python",
     "metadata": {
      "scrolled": true
     },
     "outputs": [],
     "prompt_number": null
    },
    {
     "cell_type": "code",
     "collapsed": false,
     "input": [
      "print timeit.timeit('char in text', setup='text = \"sample string\"; char = \"g\"')\n",
      "print timeit.timeit('text.find(char)', setup='text = \"sample string\"; char = \"g\"')\n",
      "print timeit.timeit('len([a==char for a in text])>0', setup='text = \"sample string\"; char = \"g\"')\n"
     ],
     "language": "python",
     "metadata": {},
     "outputs": [],
     "prompt_number": null
    },
    {
     "cell_type": "code",
     "collapsed": false,
     "input": [
      "# Jak szybkie sa metody laczenia stringow?\n",
      "codes = {\n",
      "    '\" \".join(chars)',\n",
      "    'reduce(lambda a, b : a + \" \" + b, chars)',\n",
      "    'for a in chars: word += a + \" \";'\n",
      "}\n",
      "\n",
      "for code in codes:\n",
      "    print code\n",
      "    print timeit.timeit(code, setup='chars = [\"a\"] * 1000; word = \"\"', number=1000)\n",
      "    print"
     ],
     "language": "python",
     "metadata": {},
     "outputs": [],
     "prompt_number": null
    },
    {
     "cell_type": "code",
     "collapsed": false,
     "input": [
      "for length in [100, 1000, 10000, 100000]:\n",
      "\n",
      "    codes = [\n",
      "        '\"-\".join(str(n) for n in xrange('+str(length)+'))',\n",
      "        '\"-\".join([str(n) for n in xrange('+str(length)+')])',\n",
      "        '\"-\".join(map(str, xrange('+str(length)+')))'\n",
      "    ]\n",
      "\n",
      "    scores = {}\n",
      "    \n",
      "    for code in codes:\n",
      "        print code\n",
      "        score = timeit.timeit(code, number=1000000 / length)\n",
      "        scores[code] = score\n",
      "        print score\n",
      "        print\n",
      "    \n",
      "    best = None\n",
      "    for code in scores:\n",
      "        if (best is None) or (scores[code] < scores[best]):\n",
      "            best = code\n",
      "            \n",
      "    print\n",
      "    print 'For ', length, 'numbers ', best, 'is the fastest'\n",
      "    print\n",
      "    print"
     ],
     "language": "python",
     "metadata": {},
     "outputs": [],
     "prompt_number": null
    },
    {
     "cell_type": "heading",
     "level": 4,
     "metadata": {},
     "source": [
      "code profiling"
     ]
    },
    {
     "cell_type": "code",
     "collapsed": false,
     "input": [
      "import cProfile\n",
      "\n",
      "import time\n",
      "\n",
      "def sleep(n):\n",
      "    time.sleep(n)\n",
      "\n",
      "def bar():\n",
      "    time.sleep(0.1)\n",
      "    return 1\n",
      "\n",
      "def foo():\n",
      "    x = 0\n",
      "    for i in range(100):\n",
      "        x += bar()\n",
      "    sleep(3)\n",
      "    return x\n",
      "\n",
      "cProfile.run('foo()')"
     ],
     "language": "python",
     "metadata": {},
     "outputs": [],
     "prompt_number": null
    },
    {
     "cell_type": "raw",
     "metadata": {},
     "source": [
      "python -m cProfile FILENAME.py"
     ]
    },
    {
     "cell_type": "code",
     "collapsed": false,
     "input": [
      "import cProfile\n",
      "def gen(n):\n",
      "    return \"-\".join(str(n) for n in xrange(n))\n",
      "\n",
      "def lst(n):\n",
      "    return \"-\".join([str(n) for n in xrange(n)])\n",
      "\n",
      "print cProfile.run('gen(1000000)')\n",
      "print cProfile.run('lst(1000000)')"
     ],
     "language": "python",
     "metadata": {},
     "outputs": [],
     "prompt_number": null
    },
    {
     "cell_type": "code",
     "collapsed": false,
     "input": [
      "import cProfile\n",
      "\n",
      "def do_cprofile(func):\n",
      "    def profiled_func(*args, **kwargs):\n",
      "        profile = cProfile.Profile()\n",
      "        try:\n",
      "            profile.enable()\n",
      "            result = func(*args, **kwargs)\n",
      "            profile.disable()\n",
      "            return result\n",
      "        finally:\n",
      "            profile.print_stats()\n",
      "    return profiled_func\n",
      "\n",
      "import time\n",
      "\n",
      "@do_cprofile\n",
      "def sleep(n):\n",
      "    time.sleep(n)\n",
      "\n",
      "#@do_cprofile\n",
      "def bar():\n",
      "    time.sleep(0.1)\n",
      "    return 1\n",
      "\n",
      "def foo():\n",
      "    x = 0\n",
      "    for i in range(100):\n",
      "        x += bar()\n",
      "    sleep(3)\n",
      "    return x\n",
      "\n",
      "foo()"
     ],
     "language": "python",
     "metadata": {},
     "outputs": [],
     "prompt_number": null
    },
    {
     "cell_type": "markdown",
     "metadata": {},
     "source": [
      "#### UWAGA - wymaga zewn\u0119trznej biblioteki \"line_profiler\"\n",
      "\n",
      "    pip install line_profiler"
     ]
    },
    {
     "cell_type": "code",
     "collapsed": false,
     "input": [
      "from line_profiler import LineProfiler\n",
      "\n",
      "def do_profile(follow=[]):\n",
      "    def inner(func):\n",
      "        def profiled_func(*args, **kwargs):\n",
      "            try:\n",
      "                profiler = LineProfiler()\n",
      "                profiler.add_function(func)\n",
      "                for f in follow:\n",
      "                    profiler.add_function(f)\n",
      "                profiler.enable_by_count()\n",
      "                return func(*args, **kwargs)\n",
      "            finally:\n",
      "                profiler.print_stats()\n",
      "        return profiled_func\n",
      "    return inner\n",
      "    \n",
      "def sleep(n):\n",
      "    for i in range(n):\n",
      "        x = 17 ** 4\n",
      "        time.sleep(1)\n",
      "\n",
      "def bar():\n",
      "    time.sleep(0.1)\n",
      "    return 1\n",
      "\n",
      "@do_profile(follow=[sleep, bar])\n",
      "def foo():\n",
      "    x = 0\n",
      "    for i in range(100):\n",
      "        x += bar()\n",
      "    sleep(3)\n",
      "    return x\n",
      "\n",
      "foo()"
     ],
     "language": "python",
     "metadata": {},
     "outputs": [],
     "prompt_number": null
    },
    {
     "cell_type": "code",
     "collapsed": false,
     "input": [
      "@do_profile()\n",
      "def primes(n): \n",
      "    if n==2:\n",
      "        return [2]\n",
      "    elif n<2:\n",
      "        return []\n",
      "    s=range(3,n+1,2)\n",
      "    mroot = n ** 0.5\n",
      "    half=(n+1)/2-1\n",
      "    i=0\n",
      "    m=3\n",
      "    while m <= mroot:\n",
      "        if s[i]:\n",
      "            j=(m*m-3)/2\n",
      "            s[j]=0\n",
      "            while j<half:\n",
      "                s[j]=0\n",
      "                j+=m\n",
      "        i=i+1\n",
      "        m=2*i+3\n",
      "    return [2]+[x for x in s if x]\n",
      "\n",
      "null = primes(1000)"
     ],
     "language": "python",
     "metadata": {},
     "outputs": [],
     "prompt_number": null
    },
    {
     "cell_type": "heading",
     "level": 2,
     "metadata": {},
     "source": [
      "Tworzenie w\u0142asnych modu\u0142\u00f3w"
     ]
    },
    {
     "cell_type": "code",
     "collapsed": false,
     "input": [
      "import math"
     ],
     "language": "python",
     "metadata": {},
     "outputs": [],
     "prompt_number": null
    },
    {
     "cell_type": "code",
     "collapsed": false,
     "input": [
      "from math import sqrt"
     ],
     "language": "python",
     "metadata": {},
     "outputs": [],
     "prompt_number": null
    },
    {
     "cell_type": "code",
     "collapsed": false,
     "input": [
      "from numpy.linalg import lstsq"
     ],
     "language": "python",
     "metadata": {},
     "outputs": [],
     "prompt_number": null
    },
    {
     "cell_type": "markdown",
     "metadata": {},
     "source": [
      "Te\u017c chce taki!"
     ]
    },
    {
     "cell_type": "raw",
     "metadata": {},
     "source": [
      "script.py\n",
      "\n",
      "my_module/\n",
      "    __init__.py\n",
      "    cars.py\n",
      "    utils/\n",
      "        __init__.py\n",
      "        io.py\n",
      "        visualization.py"
     ]
    },
    {
     "cell_type": "code",
     "collapsed": false,
     "input": [
      "import my_module"
     ],
     "language": "python",
     "metadata": {},
     "outputs": [],
     "prompt_number": null
    },
    {
     "cell_type": "code",
     "collapsed": false,
     "input": [
      "dir(my_module)"
     ],
     "language": "python",
     "metadata": {},
     "outputs": [],
     "prompt_number": null
    },
    {
     "cell_type": "code",
     "collapsed": false,
     "input": [
      "with open('my_module/__init__.py') as f:\n",
      "    print f.read()"
     ],
     "language": "python",
     "metadata": {},
     "outputs": [],
     "prompt_number": null
    },
    {
     "cell_type": "code",
     "collapsed": true,
     "input": [
      "from my_module import cars"
     ],
     "language": "python",
     "metadata": {},
     "outputs": [],
     "prompt_number": null
    },
    {
     "cell_type": "code",
     "collapsed": false,
     "input": [
      "dir(cars)"
     ],
     "language": "python",
     "metadata": {},
     "outputs": [],
     "prompt_number": null
    },
    {
     "cell_type": "code",
     "collapsed": false,
     "input": [
      "with open('my_module/cars.py') as f:\n",
      "    print f.read()"
     ],
     "language": "python",
     "metadata": {},
     "outputs": [],
     "prompt_number": null
    },
    {
     "cell_type": "code",
     "collapsed": true,
     "input": [
      "fiat = cars.Fiat()"
     ],
     "language": "python",
     "metadata": {},
     "outputs": [],
     "prompt_number": null
    },
    {
     "cell_type": "code",
     "collapsed": true,
     "input": [
      "from my_module.cars import Fiat\n",
      "fiat = Fiat()"
     ],
     "language": "python",
     "metadata": {},
     "outputs": [],
     "prompt_number": null
    },
    {
     "cell_type": "raw",
     "metadata": {},
     "source": [
      "script.py\n",
      "\n",
      "my_module/\n",
      "    __init__.py\n",
      "    cars.py\n",
      "    utils/\n",
      "        __init__.py\n",
      "        io.py\n",
      "        visualization.py\n",
      "    test/"
     ]
    },
    {
     "cell_type": "code",
     "collapsed": false,
     "input": [
      "from my_module.utils import io # Konstruktory modulow"
     ],
     "language": "python",
     "metadata": {},
     "outputs": [],
     "prompt_number": null
    },
    {
     "cell_type": "code",
     "collapsed": false,
     "input": [
      "with open('my_module/utils/__init__.py') as f:\n",
      "    print f.read()"
     ],
     "language": "python",
     "metadata": {},
     "outputs": [],
     "prompt_number": null
    },
    {
     "cell_type": "markdown",
     "metadata": {},
     "source": [
      "A co je\u015bli nie ma `__init__.py`?"
     ]
    },
    {
     "cell_type": "code",
     "collapsed": false,
     "input": [
      "from my_module import test"
     ],
     "language": "python",
     "metadata": {},
     "outputs": [],
     "prompt_number": null
    },
    {
     "cell_type": "markdown",
     "metadata": {},
     "source": [
      "Importowanie wzgl\u0119dne..."
     ]
    },
    {
     "cell_type": "code",
     "collapsed": true,
     "input": [
      "from my_module.utils import visualization"
     ],
     "language": "python",
     "metadata": {},
     "outputs": [],
     "prompt_number": null
    },
    {
     "cell_type": "code",
     "collapsed": false,
     "input": [
      "dir(visualization)"
     ],
     "language": "python",
     "metadata": {},
     "outputs": [],
     "prompt_number": null
    },
    {
     "cell_type": "code",
     "collapsed": false,
     "input": [
      "with open('my_module/utils/visualization.py') as f:\n",
      "    print f.read()"
     ],
     "language": "python",
     "metadata": {},
     "outputs": [],
     "prompt_number": null
    },
    {
     "cell_type": "markdown",
     "metadata": {},
     "source": [
      "Czasami trzeba prze\u0142adowa\u0107 modu\u0142"
     ]
    },
    {
     "cell_type": "code",
     "collapsed": false,
     "input": [
      "import my_module\n",
      "mod1 = reload(my_module)\n",
      "mod2 = reload(my_module)\n",
      "\n",
      "print mod1\n",
      "print dir(mod2)"
     ],
     "language": "python",
     "metadata": {},
     "outputs": [],
     "prompt_number": null
    },
    {
     "cell_type": "markdown",
     "metadata": {},
     "source": [
      "Mamy modu\u0142 `optimizers`, gdzie trzymamy r\u00f3\u017cne metody minimalizacji funkcji\n",
      "\n",
      "    optimizers/\n",
      "        __init__.py\n",
      "        linear/\n",
      "            __init__.py\n",
      "            lsqr.py\n",
      "        meta/\n",
      "            __init__.py\n",
      "            genetic.py\n",
      "            ants.py\n",
      "            \n",
      "Jednak u\u017cytkownik nie powinien uczy\u0107 si\u0119 na pami\u0119\u0107 naszej skomplikowanej struktury, powinien raczej u\u017cywa\u0107:\n",
      "\n",
      "    from optimizers import GeneticAlgorithm # zamiast from optimizers.meta.genetic import GeneticAlgorithm\n",
      "    \n",
      "W tym celu w `__init__` czasami \"wystawia\" si\u0119 klasy, np. poprzez\n",
      "\n",
      "    from linear.lsqr import LeastSquares\n",
      "    from meta.genetic import GeneticAlgorithm\n",
      "    from meta.ants import AntColony\n",
      "    \n",
      "W pliku `__init__` nie powinni\u015bmy robi\u0107 **niczego** poza inicjalizacj\u0105 / wystawieniem klas/funkcji"
     ]
    },
    {
     "cell_type": "code",
     "collapsed": false,
     "input": [
      "import numpy\n",
      "help(numpy)"
     ],
     "language": "python",
     "metadata": {},
     "outputs": [],
     "prompt_number": null
    },
    {
     "cell_type": "markdown",
     "metadata": {},
     "source": [
      "Jak zdefiniowa\u0107 w\u0142asny help?"
     ]
    },
    {
     "cell_type": "code",
     "collapsed": false,
     "input": [
      "help(my_module)"
     ],
     "language": "python",
     "metadata": {},
     "outputs": [],
     "prompt_number": null
    },
    {
     "cell_type": "code",
     "collapsed": false,
     "input": [
      "from my_module import cars\n",
      "help(cars)"
     ],
     "language": "python",
     "metadata": {},
     "outputs": [],
     "prompt_number": null
    },
    {
     "cell_type": "markdown",
     "metadata": {},
     "source": [
      "Co trafia do `help`?\n",
      "\n",
      "* Docstring z pocz\u0105tku pliku - pierwsza linijka to opis kr\u00f3tki, to co p\u00f3\u017aniej to DESCRIPTION\n",
      "* Wszystkie zmienne (DATA), funkcje (FUNCTIONS), klasy (CLASSES), podmodu\u0142y (PACKAGE CONTENTS)\n",
      "* Docstringi funkcji/klas trafiaj\u0105 w odpowiednie pola\n",
      "* Niekt\u00f3re \"magiczne\" zmienne, tzn. \\_\\_author\\_\\_, \\_\\_version\\_\\_, \\_\\_credits\\_\\_, ... s\u0105 dodatkowo wy\u015bwietlane jako osobne pola"
     ]
    },
    {
     "cell_type": "code",
     "collapsed": false,
     "input": [
      "print 'NAME', cars.__name__\n",
      "print 'DOC', cars.__doc__\n",
      "print 'DIR', dir(cars)\n",
      "print\n",
      "print 'FIAT DOC', cars.Fiat.__doc__"
     ],
     "language": "python",
     "metadata": {},
     "outputs": [],
     "prompt_number": null
    },
    {
     "cell_type": "heading",
     "level": 4,
     "metadata": {},
     "source": [
      "Generowanie dokumentacji \"offline\""
     ]
    },
    {
     "cell_type": "raw",
     "metadata": {},
     "source": [
      "pydoc -w my_module \n",
      "pydoc -w my_module.cars\n",
      "pydoc -w my_module.utils\n",
      "pydoc -w my_module.utils.io\n",
      "pydoc -w my_module.utils.visualization"
     ]
    },
    {
     "cell_type": "markdown",
     "metadata": {},
     "source": [
      "<a href=\"my_module.html\">docs</a>"
     ]
    },
    {
     "cell_type": "markdown",
     "metadata": {},
     "source": [
      "Dla bardziej zaawansowanych: http://sphinx-doc.org/"
     ]
    }
   ],
   "metadata": {}
  }
 ]
}