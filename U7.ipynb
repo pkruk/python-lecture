{
 "metadata": {
  "kernelspec": {
   "display_name": "Python 2",
   "language": "python",
   "name": "python2"
  },
  "language_info": {
   "codemirror_mode": {
    "name": "ipython",
    "version": 2
   },
   "file_extension": ".py",
   "mimetype": "text/x-python",
   "name": "python",
   "nbconvert_exporter": "python",
   "pygments_lexer": "ipython2",
   "version": "2.7.9"
  },
  "name": ""
 },
 "nbformat": 3,
 "nbformat_minor": 0,
 "worksheets": [
  {
   "cells": [
    {
     "cell_type": "heading",
     "level": 2,
     "metadata": {},
     "source": [
      "Programowanie Python. Laboratoria 7"
     ]
    },
    {
     "cell_type": "markdown",
     "metadata": {},
     "source": [
      "Napisz eksperymenty wykorzystuj\u0105ce `timeit` kt\u00f3re oceni\u0105 w jaki spos\u00f3b najszybciej wykona\u0107 nast\u0119puj\u0105ce operacje"
     ]
    },
    {
     "cell_type": "markdown",
     "metadata": {},
     "source": [
      "#### Konkatenacja sta\u0142ej d\u0142ugo\u015bci string\u00f3w\n",
      "\n",
      "* przy pomocy `+` czyli np. `a+b+c+d` dla zdefiniowanych string\u00f3w `a,b,c,d`\n",
      "* przy pomocy notacji `\" ... \" % ( ... )`\n",
      "* przy pomocy notacji `\" .... \".format( ... )`"
     ]
    },
    {
     "cell_type": "markdown",
     "metadata": {},
     "source": [
      "#### Obs\u0142uga odczytywania nieistniej\u0105cych kluczy w s\u0142owniku:\n",
      "\n",
      "* sprawdzenie `in`\n",
      "* sprawdzenie `.has_key`\n",
      "* metoda `.get(key, None)`\n",
      "* z\u0142apanie wyj\u0105tku"
     ]
    },
    {
     "cell_type": "markdown",
     "metadata": {},
     "source": [
      "#### Przekonwertuj list\u0119 s\u0142\u00f3w na list\u0119 s\u0142\u00f3w z\u0142o\u017conych z wielkich liter, np. ['ala', 'ola'] -> ['ALA', 'OLA']\n",
      "\n",
      "* Zwyk\u0142\u0105 p\u0119tl\u0105 z `append`\n",
      "* listr comprehension z `.upper()`\n",
      "* `map` z funkcj\u0105 `str.upper`"
     ]
    },
    {
     "cell_type": "markdown",
     "metadata": {},
     "source": [
      "#### Stw\u00f3rz warunkowo list\u0119, np. list\u0119 liczb parzystych\n",
      "\n",
      "* Zwyk\u0142\u0105 p\u0119tl\u0105 z `if`\n",
      "* list comprehension z filtrowaniem `[ ... for ... if ... ]`\n",
      "* funkcyjnie, u\u017cywaj\u0105c `filter`"
     ]
    },
    {
     "cell_type": "markdown",
     "metadata": {},
     "source": [
      "#### Stw\u00f3rz list\u0119 u\u017cywaj\u0105c funkcji, np. stw\u00f3rz list\u0119 d\u0142ugo\u015bci s\u0142\u00f3w z innej listy ['ala', 'olek'] -> [3, 4]\n",
      "\n",
      "* Zwyk\u0142\u0105 p\u0119tl\u0105 z `append` i `len`\n",
      "* list comprehension z na\u0142o\u017conym `len`\n",
      "* funkcyjnie, u\u017cywaj\u0105c `map`"
     ]
    },
    {
     "cell_type": "markdown",
     "metadata": {},
     "source": [
      "#### Konkatenacja sta\u0142ej d\u0142ugo\u015bci string\u00f3w\n",
      "\n",
      "* przy pomocy `+` czyli np. `a+b+c+d` dla zdefiniowanych string\u00f3w `a,b,c,d`\n",
      "* przy pomocy notacji `\" ... \" % ( ... )`\n",
      "* przy pomocy notacji `\" .... \".format( ... )`"
     ]
    },
    {
     "cell_type": "markdown",
     "metadata": {},
     "source": [
      "#### Konkatenacja sta\u0142ej d\u0142ugo\u015bci string\u00f3w, z wykorzystaniem rzutowania\n",
      "\n",
      "* przy pomocy `+` czyli np. `str(a)+str(b)+str(c)+str(d)` dla zdefiniowanych **nie** string\u00f3w `a,b,c,d`\n",
      "* przy pomocy notacji `\" ... \" % ( ... )`\n",
      "* przy pomocy notacji `\" .... \".format( ... )`"
     ]
    },
    {
     "cell_type": "heading",
     "level": 4,
     "metadata": {},
     "source": [
      "Zaproponuj w\u0142asny problem, 3 rozwi\u0105zania i postaraj si\u0119 uzasadni\u0107 uzyskane wyniki"
     ]
    },
    {
     "cell_type": "heading",
     "level": 3,
     "metadata": {},
     "source": [
      "W\u0142asny modu\u0142"
     ]
    },
    {
     "cell_type": "markdown",
     "metadata": {},
     "source": [
      "Zaimplementuj gr\u0119 N-puzzle (8-puzzle, 15-puzzle) w formie modu\u0142u zawieraj\u0105cego nast\u0119puj\u0105ce elementy:\n",
      "\n",
      "* Logika gry w submodule `core`\n",
      "* Metody wizualizacji gry w `visualizers`\n",
      "* Kod generator\u00f3w plansz w `generators`\n",
      "* Kod \"gracza\" w submodule `players`\n",
      "\n",
      "Powinni\u015bmy by\u0107 w stanie gra\u0107 wg. nast\u0119puj\u0105cego scenariusza:\n"
     ]
    },
    {
     "cell_type": "code",
     "collapsed": true,
     "input": [
      "from puzzle import PuzzleGame # tak na prawde klasa PuzzleGame powinna byc w .core\n",
      "from puzzle.visualizers import SimplePrinter\n",
      "from puzzle.generators import RandomInit\n",
      "from puzzle.players import Human\n",
      "\n",
      "N = int(input('Game size, N='))\n",
      "game = PuzzleGame(N, generator=RandomInit, visualizer=SimplePrinter)\n",
      "#game = PuzzleGame(N) # takie wywolanie rowniez powinno dzialac, tak samo jak powyzsze\n",
      "player = Human(game)\n",
      "while not game.is_finished():\n",
      "    game.show() # wyswietla gre uzywajac visualizera\n",
      "    move = player.get_move() # dla gracza ludzkiego powinna mu sie pokazac lista dostepnych ruchow\n",
      "    game.make_move(move) # wykonujemy wybrany ruch z posrod mozliwych"
     ],
     "language": "python",
     "metadata": {},
     "outputs": [],
     "prompt_number": null
    },
    {
     "cell_type": "markdown",
     "metadata": {},
     "source": [
      "#### Przykladowa rozgrywka\n",
      "\n",
      "Game size, N=2\n",
      "\n",
      "    _ 1\n",
      "    3 2\n",
      "    \n",
      "valid moves: 1, 3;\n",
      "your move: 1\n",
      "\n",
      "    1 _\n",
      "    3 2\n",
      "    \n",
      "valid moves: 1, 2;\n",
      "your move: 2\n",
      "\n",
      "    1 2\n",
      "    3 _\n",
      "       \n",
      "You won!"
     ]
    },
    {
     "cell_type": "markdown",
     "metadata": {},
     "source": [
      "#### Zadanie dodatkowe\n",
      "\n",
      "Zaimplementuj dodatkowo gracza `BFSPlayer`, ktory bedzie gra\u0107 wyszukuj\u0105c BFSem po\u015br\u00f3d grafu gry najlepszego ruchu oraz HTMLPrinter do wizualizatorow, efektem uruchomienia kodu z tymi 2 nowymi klasami w powyzszej petli powinno byc stworzenie pliku `.html` w ktorym bedzie wyswietlona cala historia rozgrywki, czyli kazde wywolanie `.show()` powinno dodac do pliku .html poprawny kod ktory opisze sytuacje na planszy"
     ]
    }
   ],
   "metadata": {}
  }
 ]
}