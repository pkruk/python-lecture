{
 "metadata": {
  "kernelspec": {
   "display_name": "Python 2",
   "language": "python",
   "name": "python2"
  },
  "language_info": {
   "codemirror_mode": {
    "name": "ipython",
    "version": 2
   },
   "file_extension": ".py",
   "mimetype": "text/x-python",
   "name": "python",
   "nbconvert_exporter": "python",
   "pygments_lexer": "ipython2",
   "version": "2.7.9"
  },
  "name": ""
 },
 "nbformat": 3,
 "nbformat_minor": 0,
 "worksheets": [
  {
   "cells": [
    {
     "cell_type": "heading",
     "level": 1,
     "metadata": {},
     "source": [
      "Sieci Neuronowe - Laboratorium 4. Wyb\u00f3r funkcji kosztu"
     ]
    },
    {
     "cell_type": "heading",
     "level": 2,
     "metadata": {},
     "source": [
      "Regresja czy klasyfikacja?"
     ]
    },
    {
     "cell_type": "markdown",
     "metadata": {},
     "source": [
      "\n",
      "#### Regresja - b\u0142\u0105d \u015bredniokwadratowy\n",
      "Przyjmijmy, \u017ce mamy regresj\u0119 jednowymiarow\u0105 (wtedy $f(X_i|\\theta), Y_i \\in \\mathbb{R}$) lub wielowymiarow\u0105 (wtedy $f(X_i|\\theta), Y_i \\in \\mathbb{R}^m$)\n",
      "$$\n",
      "\\mathcal{L}(\\theta| X, Y) = \\tfrac{1}{N} \\sum_{i=1}^N \\| f(X_i|\\theta) - Y_i \\|_2^2 \n",
      "$$\n",
      "\n",
      "\n",
      "    theanets.Regresor\n",
      "\n",
      "\n",
      "#### Klasyfikacja - b\u0142\u0105d entropii krzy\u017cowej (b\u0142\u0105d logistyczny)\n",
      "Przyjmijmy \u017ce mamy `m` klas i `m` neuron\u00f3w wyj\u015bciowych gora -> wyjscie neuronu maksymalizujemy po wszystkich wyjsciach neuronow wyjsciowych stricte klasyfikacja\n",
      "$$\n",
      "\\mathcal{L}(\\theta| X, Y) = \\tfrac{1}{N} \\sum_{i=1}^N -\\log \\frac{\\exp(f_{Y_i}(X_i|\\theta))}{\\sum_{k=1}^m \\exp(f_k(X_i|\\theta))}\n",
      "$$\n",
      "\n",
      "    theanets.Classifer\n",
      "    \n"
     ]
    },
    {
     "cell_type": "markdown",
     "metadata": {},
     "source": [
      "#### Pytania do dyskusji:\n",
      "\n",
      "* Dlaczego te dwie funkcje kosztu s\u0105 najbardziej popularne?\n",
      "* Czy patrz\u0105c na nie przychodzi wam na my\u015bl jaka\u015b prosta inna funkcja kosztu? Jaka? Jakie mia\u0142aby cechy?\n",
      "* Jaka jest r\u00f3\u017cnica pomi\u0119dzy tymi kosztami? W og\u00f3lno\u015bci? A dla problemu binarnego?\n",
      "    "
     ]
    },
    {
     "cell_type": "markdown",
     "metadata": {},
     "source": [
      "### Zadania\n",
      "\n",
      "Stw\u00f3rz trzy architektury i przetestuj je w problemie rozpoznawania pisma:\n",
      "\n",
      "* Model regresji z jednym neuronem wyj\u015bciowem\n",
      "* Model regresji z `m` neuronami wyj\u015bciowymi (kodowanie klas one-hot-encoding)\n",
      "* Model klasyfikacji  z `m` neuronami wyj\u015bciowymi (kodowanie klas one-hot-encoding)\n"
     ]
    },
    {
     "cell_type": "heading",
     "level": 2,
     "metadata": {},
     "source": [
      "Analiza procesu uczenia"
     ]
    },
    {
     "cell_type": "markdown",
     "metadata": {},
     "source": [
      "Przy u\u017cyciu `theanets` oraz naszego zbioru danych (mo\u017cesz zredukowa\u0107 go do mniejszej liczby przyk\u0142ad\u00f3w \u017ceby zwi\u0119kszy\u0107 szybko\u015b\u0107 dzia\u0142ania) przeprowad\u017a eksperyment, w kt\u00f3rym po ka\u017cdej iteracji procesu uczenia sieci neuronowej sprawdzasz jaki wynik osi\u0105ga ona na zbiorze ucz\u0105cym oraz jaki na zbiorze testuj\u0105cym. Zaprezentuj wynik tego eksperymentu w postaci wykres\u00f3w (zale\u017cno\u015bci czasu od accuracy). Najlepiej tw\u00f3rz wykres co okre\u015blon\u0105 liczb\u0119 iteracji \u017ceby powstawa\u0142 on na bie\u017c\u0105co."
     ]
    },
    {
     "cell_type": "code",
     "collapsed": false,
     "input": [
      "from sklearn.metrics import accuracy_score\n",
      "import theanets\n",
      "from scipy.io import loadmat\n",
      "import numpy as np\n",
      "from sklearn.cross_validation import train_test_split\n",
      "\n",
      "D = loadmat('data/ex3data1.mat')\n",
      "X, y = D['X'], D['y']\n",
      "\n",
      "\n",
      "#y=y.ravel() # y musi by\u0107 wektorem, a nie macierz\u0105 (5000, 1)\n",
      "#y = y.reshape(y.shape[0],1)\n",
      "y[y == 10] = 0\n",
      "print X.shape, y.shape\n",
      "\n",
      "a_train, a_test, b_train, b_test = train_test_split(X, y, test_size=0.5)\n",
      "\n",
      "x = X[0]\n",
      "#b = b_train.ravel()\n",
      "#print a_train.shape[1]\n",
      "exp = theanets.Experiment(\n",
      "#    theanets.recurrent.Regressor,\n",
      "#     layers=(a_train.shape[1], \n",
      "#             10, \n",
      "#             10)\n",
      "#     )\n",
      "theanets.feedforward.Regressor,\n",
      "                    layers=(400,10,1),\n",
      "                    optimize='sgd',\n",
      "                    activation='tanh')\n",
      "\n",
      "print b_train\n",
      "\n",
      "for iters, (train, valid) in enumerate(exp.itertrain((a_train, b_train), optimize='sgd', \n",
      "                                                    learning_rate=0.1, momentum=0.1,\n",
      "                                                    patience=1)):\n",
      "        print iters\n",
      "        #print exp.network.predict(a_train).astype(int)\n",
      "        tr = 1.0 - accuracy_score(b_train, exp.network.predict(a_train).astype(int), normalize=False)\n",
      "        te = 1.0 - accuracy_score(b_test, exp.network.predict(a_test).astype(int), normalize=False)\n",
      "        print iters, \"error on training set: %7.4f\" % tr\n",
      "        print iters, \"error on testing set: %7.4f\" % te"
     ],
     "language": "python",
     "metadata": {},
     "outputs": [
      {
       "output_type": "stream",
       "stream": "stdout",
       "text": [
        " (5000, 400) (5000, 1)\n",
        "[[6]\n",
        " [1]\n",
        " [3]\n",
        " ..., \n",
        " [4]\n",
        " [2]\n",
        " [8]]"
       ]
      },
      {
       "output_type": "stream",
       "stream": "stdout",
       "text": [
        "\n",
        "0"
       ]
      },
      {
       "output_type": "stream",
       "stream": "stdout",
       "text": [
        "\n",
        "0"
       ]
      },
      {
       "output_type": "stream",
       "stream": "stdout",
       "text": [
        " error on training set: -444.0000\n",
        "0 error on testing set: -448.0000\n",
        "1\n",
        "1 error on training set: -661.0000\n",
        "1 error on testing set: -579.0000\n",
        "2"
       ]
      },
      {
       "output_type": "stream",
       "stream": "stdout",
       "text": [
        "\n",
        "2 error on training set: -648.0000\n",
        "2 error on testing set: -605.0000\n",
        "3\n",
        "3 error on training set: -619.0000\n",
        "3 error on testing set: -594.0000\n",
        "4"
       ]
      },
      {
       "output_type": "stream",
       "stream": "stdout",
       "text": [
        "\n",
        "4 error on training set: -661.0000\n",
        "4 error on testing set: -696.0000\n",
        "5\n",
        "5 error on training set: -622.0000\n",
        "5 error on testing set: -612.0000\n",
        "6"
       ]
      },
      {
       "output_type": "stream",
       "stream": "stdout",
       "text": [
        "\n",
        "6 error on training set: -883.0000\n",
        "6 error on testing set: -841.0000\n",
        "7\n",
        "7 error on training set: -613.0000\n",
        "7 error on testing set: -621.0000\n",
        "8"
       ]
      },
      {
       "output_type": "stream",
       "stream": "stdout",
       "text": [
        "\n",
        "8 error on training set: -729.0000\n",
        "8 error on testing set: -707.0000\n",
        "9\n",
        "9 error on training set: -673.0000\n",
        "9 error on testing set: -674.0000\n",
        "10"
       ]
      },
      {
       "output_type": "stream",
       "stream": "stdout",
       "text": [
        "\n",
        "10 error on training set: -94.0000\n",
        "10 error on testing set: -130.0000\n",
        "11\n",
        "11 error on training set: -601.0000\n",
        "11 error on testing set: -605.0000\n",
        "12"
       ]
      },
      {
       "output_type": "stream",
       "stream": "stdout",
       "text": [
        "\n",
        "12 error on training set: -103.0000\n",
        "12 error on testing set: -128.0000\n",
        "13\n",
        "13 error on training set: -810.0000\n",
        "13 error on testing set: -755.0000\n",
        "14"
       ]
      },
      {
       "output_type": "stream",
       "stream": "stdout",
       "text": [
        "\n",
        "14 error on training set: -587.0000\n",
        "14 error on testing set: -529.0000\n",
        "15\n",
        "15 error on training set: -678.0000\n",
        "15 error on testing set: -655.0000\n",
        "16"
       ]
      },
      {
       "output_type": "stream",
       "stream": "stdout",
       "text": [
        "\n",
        "16 error on training set: -852.0000\n",
        "16 error on testing set: -769.0000\n",
        "17\n",
        "17 error on training set: -640.0000\n",
        "17 error on testing set: -666.0000\n",
        "18"
       ]
      },
      {
       "output_type": "stream",
       "stream": "stdout",
       "text": [
        "\n",
        "18 error on training set: -773.0000\n",
        "18 error on testing set: -747.0000\n",
        "19\n",
        "19 error on training set: -694.0000\n",
        "19 error on testing set: -685.0000\n",
        "20"
       ]
      },
      {
       "output_type": "stream",
       "stream": "stdout",
       "text": [
        "\n",
        "20 error on training set: -773.0000\n",
        "20 error on testing set: -713.0000\n",
        "21\n",
        "21 error on training set: -895.0000\n",
        "21 error on testing set: -795.0000\n",
        "22"
       ]
      },
      {
       "output_type": "stream",
       "stream": "stdout",
       "text": [
        "\n",
        "22 error on training set: -806.0000\n",
        "22 error on testing set: -799.0000\n",
        "23\n",
        "23 error on training set: -798.0000\n",
        "23 error on testing set: -746.0000\n",
        "24"
       ]
      },
      {
       "output_type": "stream",
       "stream": "stdout",
       "text": [
        "\n",
        "24 error on training set: -906.0000\n",
        "24 error on testing set: -789.0000\n",
        "25\n",
        "25 error on training set: -1061.0000\n",
        "25 error on testing set: -966.0000\n",
        "26"
       ]
      },
      {
       "output_type": "stream",
       "stream": "stdout",
       "text": [
        "\n",
        "26 error on training set: -881.0000\n",
        "26 error on testing set: -794.0000\n",
        "27\n",
        "27 error on training set: -739.0000\n",
        "27 error on testing set: -694.0000\n",
        "28"
       ]
      },
      {
       "output_type": "stream",
       "stream": "stdout",
       "text": [
        "\n",
        "28 error on training set: -813.0000\n",
        "28 error on testing set: -802.0000\n",
        "29\n",
        "29 error on training set: -1054.0000\n",
        "29 error on testing set: -937.0000\n",
        "30"
       ]
      },
      {
       "output_type": "stream",
       "stream": "stdout",
       "text": [
        "\n",
        "30 error on training set: -1218.0000\n",
        "30 error on testing set: -1111.0000\n",
        "31\n",
        "31 error on training set: -471.0000\n",
        "31 error on testing set: -498.0000\n",
        "32"
       ]
      },
      {
       "output_type": "stream",
       "stream": "stdout",
       "text": [
        "\n",
        "32 error on training set: -1234.0000\n",
        "32 error on testing set: -1100.0000\n",
        "33\n",
        "33 error on training set: -1072.0000\n",
        "33 error on testing set: -961.0000\n",
        "34"
       ]
      },
      {
       "output_type": "stream",
       "stream": "stdout",
       "text": [
        "\n",
        "34 error on training set: -956.0000\n",
        "34 error on testing set: -891.0000\n",
        "35\n",
        "35 error on training set: -1140.0000\n",
        "35 error on testing set: -1050.0000\n",
        "36"
       ]
      },
      {
       "output_type": "stream",
       "stream": "stdout",
       "text": [
        "\n",
        "36 error on training set: -294.0000\n",
        "36 error on testing set: -304.0000\n",
        "37\n",
        "37"
       ]
      },
      {
       "output_type": "stream",
       "stream": "stdout",
       "text": [
        " error on training set: -988.0000\n",
        "37 error on testing set: -908.0000\n",
        "38\n",
        "38 error on training set: -1144.0000\n",
        "38 error on testing set: -1012.0000\n",
        "39"
       ]
      },
      {
       "output_type": "stream",
       "stream": "stdout",
       "text": [
        "\n",
        "39 error on training set: -614.0000\n",
        "39 error on testing set: -607.0000\n",
        "40\n",
        "40"
       ]
      },
      {
       "output_type": "stream",
       "stream": "stdout",
       "text": [
        " error on training set: -882.0000\n",
        "40 error on testing set: -825.0000\n",
        "41\n",
        "41 error on training set: -673.0000\n",
        "41 error on testing set: -657.0000\n",
        "42"
       ]
      },
      {
       "output_type": "stream",
       "stream": "stdout",
       "text": [
        "\n",
        "42 error on training set: -982.0000\n",
        "42 error on testing set: -907.0000\n",
        "43\n",
        "43 error on training set: -1199.0000\n",
        "43 error on testing set: -1029.0000\n",
        "44"
       ]
      },
      {
       "output_type": "stream",
       "stream": "stdout",
       "text": [
        "\n",
        "44 error on training set: -857.0000\n",
        "44 error on testing set: -792.0000\n",
        "45\n",
        "45 error on training set: -1177.0000\n",
        "45 error on testing set: -1038.0000\n",
        "46"
       ]
      },
      {
       "output_type": "stream",
       "stream": "stdout",
       "text": [
        "\n",
        "46 error on training set: -954.0000\n",
        "46 error on testing set: -867.0000\n",
        "47\n",
        "47 error on training set: -848.0000\n",
        "47 error on testing set: -757.0000\n",
        "48"
       ]
      },
      {
       "output_type": "stream",
       "stream": "stdout",
       "text": [
        "\n",
        "48 error on training set: -798.0000\n",
        "48 error on testing set: -761.0000\n",
        "49\n",
        "49 error on training set: -1191.0000\n",
        "49 error on testing set: -1053.0000\n",
        "50"
       ]
      },
      {
       "output_type": "stream",
       "stream": "stdout",
       "text": [
        "\n",
        "50 error on training set: -860.0000\n",
        "50 error on testing set: -798.0000\n",
        "51\n",
        "51"
       ]
      },
      {
       "output_type": "stream",
       "stream": "stdout",
       "text": [
        " error on training set: -855.0000\n",
        "51 error on testing set: -766.0000\n",
        "52\n",
        "52 error on training set: -1003.0000\n",
        "52 error on testing set: -916.0000\n",
        "53"
       ]
      },
      {
       "output_type": "stream",
       "stream": "stdout",
       "text": [
        "\n",
        "53 error on training set: -833.0000\n",
        "53 error on testing set: -777.0000\n",
        "54\n",
        "54 error on training set: -1089.0000\n",
        "54 error on testing set: -990.0000\n",
        "55"
       ]
      },
      {
       "output_type": "stream",
       "stream": "stdout",
       "text": [
        "\n",
        "55 error on training set: -1104.0000\n",
        "55 error on testing set: -992.0000\n",
        "56\n",
        "56 error on training set: -1212.0000\n",
        "56 error on testing set: -1095.0000\n",
        "57"
       ]
      },
      {
       "output_type": "stream",
       "stream": "stdout",
       "text": [
        "\n",
        "57 error on training set: -522.0000\n",
        "57 error on testing set: -567.0000\n",
        "58\n",
        "58"
       ]
      },
      {
       "output_type": "stream",
       "stream": "stdout",
       "text": [
        " error on training set: -875.0000\n",
        "58 error on testing set: -783.0000\n",
        "59\n",
        "59 error on training set: -829.0000\n",
        "59 error on testing set: -747.0000\n",
        "60"
       ]
      },
      {
       "output_type": "stream",
       "stream": "stdout",
       "text": [
        "\n",
        "60 error on training set: -848.0000\n",
        "60 error on testing set: -777.0000\n",
        "61\n",
        "61"
       ]
      },
      {
       "output_type": "stream",
       "stream": "stdout",
       "text": [
        " error on training set: -1244.0000\n",
        "61 error on testing set: -1111.0000\n",
        "62\n",
        "62 error on training set: -1280.0000\n",
        "62 error on testing set: -1107.0000\n",
        "63"
       ]
      },
      {
       "output_type": "stream",
       "stream": "stdout",
       "text": [
        "\n",
        "63 error on training set: -745.0000\n",
        "63 error on testing set: -739.0000\n",
        "64\n",
        "64 error on training set: -1269.0000\n",
        "64 error on testing set: -1112.0000\n",
        "65"
       ]
      },
      {
       "output_type": "stream",
       "stream": "stdout",
       "text": [
        "\n",
        "65 error on training set: -1180.0000\n",
        "65 error on testing set: -1081.0000\n",
        "66\n",
        "66 error on training set: -1301.0000\n",
        "66 error on testing set: -1115.0000\n",
        "67"
       ]
      },
      {
       "output_type": "stream",
       "stream": "stdout",
       "text": [
        "\n",
        "67 error on training set: -1241.0000\n",
        "67 error on testing set: -1115.0000\n",
        "68\n",
        "68 error on training set: -1299.0000\n",
        "68 error on testing set: -1134.0000\n",
        "69"
       ]
      },
      {
       "output_type": "stream",
       "stream": "stdout",
       "text": [
        "\n",
        "69 error on training set: -479.0000\n",
        "69 error on testing set: -508.0000\n",
        "70\n",
        "70"
       ]
      },
      {
       "output_type": "stream",
       "stream": "stdout",
       "text": [
        " error on training set: -758.0000\n",
        "70 error on testing set: -732.0000\n",
        "71\n",
        "71 error on training set: -1325.0000\n",
        "71 error on testing set: -1171.0000\n",
        "72"
       ]
      },
      {
       "output_type": "stream",
       "stream": "stdout",
       "text": [
        "\n",
        "72 error on training set: -1253.0000\n",
        "72 error on testing set: -1061.0000\n",
        "73\n",
        "73 error on training set: -923.0000\n",
        "73 error on testing set: -837.0000\n",
        "74"
       ]
      },
      {
       "output_type": "stream",
       "stream": "stdout",
       "text": [
        "\n",
        "74 error on training set: -789.0000\n",
        "74 error on testing set: -745.0000\n",
        "75\n",
        "75 error on training set: -1302.0000\n",
        "75 error on testing set: -1114.0000\n",
        "76"
       ]
      },
      {
       "output_type": "stream",
       "stream": "stdout",
       "text": [
        "\n",
        "76 error on training set: -669.0000\n",
        "76 error on testing set: -680.0000\n",
        "77\n",
        "77"
       ]
      },
      {
       "output_type": "stream",
       "stream": "stdout",
       "text": [
        " error on training set: -399.0000\n",
        "77 error on testing set: -409.0000\n",
        "78\n",
        "78 error on training set: -1337.0000\n",
        "78 error on testing set: -1156.0000\n",
        "79"
       ]
      },
      {
       "output_type": "stream",
       "stream": "stdout",
       "text": [
        "\n",
        "79 error on training set: -1322.0000\n",
        "79 error on testing set: -1125.0000\n"
       ]
      },
      {
       "output_type": "stream",
       "stream": "stderr",
       "text": [
        "/usr/local/lib/python2.7/dist-packages/theanets/main.py:128: DeprecationWarning: please use --hidden-activation instead of --activation\n",
        "  DeprecationWarning)\n"
       ]
      }
     ],
     "prompt_number": 28
    },
    {
     "cell_type": "markdown",
     "metadata": {},
     "source": [
      "#### Pytania analityczne / do dyskusji\n",
      "\n",
      "* Co si\u0119 dzieje gdy zmienisz wielko\u015b\u0107 warstwy ukrytej na np. `10`? A je\u015bli na `2000`? \n",
      "* Jak wygl\u0105daj\u0105 te wykresy dla modeli regresji i klasyfikacji? \n",
      "* Sk\u0105d takie zale\u017cno\u015bci? \n",
      "* Czy potrafisz wydzieli\u0107 jakie\u015b sekcje w obserwowanych wykresach?"
     ]
    },
    {
     "cell_type": "code",
     "collapsed": false,
     "input": [
      "216 error on training set:  0.0312\n",
      "216 error on testing set:  0.0940 neurony 10 w warstwie ukrytej\n",
      "warstwa 200, strasznie dlugo liczy i jakby szybciej zbiega przy 60 iteracji mam juz 0.08 i  0.10 i na trenujacym wiekszy\n",
      "blad, ale mniejsza roznica wzgledem testujacego:\n",
      "216 error on training set:  0.0312\n",
      "216 error on testing set:  0.0896\n"
     ],
     "language": "python",
     "metadata": {},
     "outputs": []
    },
    {
     "cell_type": "markdown",
     "metadata": {},
     "source": [
      "### Przyk\u0142adowe rezultaty\n",
      "\n",
      "\n",
      "#### Regresja 10 neuron\u00f3w\n",
      "\n",
      "<img src=\"files/SN4_img/10reg.png\" width=\"600\">\n",
      "\n",
      "#### Klasyfikacja 10 neuron\u00f3w\n",
      "\n",
      "<img src=\"files/SN4_img/10cla.png\" width=\"600\">\n",
      "\n",
      "#### Regresja 100 neuron\u00f3w\n",
      "\n",
      "<img src=\"files/SN4_img/100reg.png\" width=\"600\">\n",
      "\n",
      "#### Klasyfikacja 100 neuron\u00f3w\n",
      "\n",
      "<img src=\"files/SN4_img/100cla.png\" width=\"600\">\n",
      "\n",
      "#### Regresja 1000 neuron\u00f3w\n",
      "\n",
      "<img src=\"files/SN4_img/1000reg.png\" width=\"600\">\n",
      "\n",
      "#### Klasyfikacja 1000 neuron\u00f3w\n",
      "\n",
      "<img src=\"files/SN4_img/1000cla.png\" width=\"600\">"
     ]
    }
   ],
   "metadata": {}
  }
 ]
}