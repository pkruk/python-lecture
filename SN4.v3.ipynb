{
 "metadata": {
  "kernelspec": {
   "display_name": "Python 2",
   "language": "python",
   "name": "python2"
  },
  "language_info": {
   "codemirror_mode": {
    "name": "ipython",
    "version": 2
   },
   "file_extension": ".py",
   "mimetype": "text/x-python",
   "name": "python",
   "nbconvert_exporter": "python",
   "pygments_lexer": "ipython2",
   "version": "2.7.9"
  },
  "name": ""
 },
 "nbformat": 3,
 "nbformat_minor": 0,
 "worksheets": [
  {
   "cells": [
    {
     "cell_type": "heading",
     "level": 1,
     "metadata": {},
     "source": [
      "Sieci Neuronowe - Laboratorium 4. Wyb\u00f3r funkcji kosztu"
     ]
    },
    {
     "cell_type": "heading",
     "level": 2,
     "metadata": {},
     "source": [
      "Regresja czy klasyfikacja?"
     ]
    },
    {
     "cell_type": "markdown",
     "metadata": {},
     "source": [
      "\n",
      "#### Regresja - b\u0142\u0105d \u015bredniokwadratowy\n",
      "Przyjmijmy, \u017ce mamy regresj\u0119 jednowymiarow\u0105 (wtedy $f(X_i|\\theta), Y_i \\in \\mathbb{R}$) lub wielowymiarow\u0105 (wtedy $f(X_i|\\theta), Y_i \\in \\mathbb{R}^m$)\n",
      "$$\n",
      "\\mathcal{L}(\\theta| X, Y) = \\tfrac{1}{N} \\sum_{i=1}^N \\| f(X_i|\\theta) - Y_i \\|_2^2 \n",
      "$$\n",
      "\n",
      "\n",
      "    theanets.Regresor\n",
      "\n",
      "\n",
      "#### Klasyfikacja - b\u0142\u0105d entropii krzy\u017cowej (b\u0142\u0105d logistyczny)\n",
      "Przyjmijmy \u017ce mamy `m` klas i `m` neuron\u00f3w wyj\u015bciowych gora -> wyjscie neuronu maksymalizujemy po wszystkich wyjsciach neuronow wyjsciowych stricte klasyfikacja\n",
      "$$\n",
      "\\mathcal{L}(\\theta| X, Y) = \\tfrac{1}{N} \\sum_{i=1}^N -\\log \\frac{\\exp(f_{Y_i}(X_i|\\theta))}{\\sum_{k=1}^m \\exp(f_k(X_i|\\theta))}\n",
      "$$\n",
      "\n",
      "    theanets.Classifer\n",
      "    \n"
     ]
    },
    {
     "cell_type": "markdown",
     "metadata": {},
     "source": [
      "#### Pytania do dyskusji:\n",
      "\n",
      "* Dlaczego te dwie funkcje kosztu s\u0105 najbardziej popularne?\n",
      "* Czy patrz\u0105c na nie przychodzi wam na my\u015bl jaka\u015b prosta inna funkcja kosztu? Jaka? Jakie mia\u0142aby cechy?\n",
      "* Jaka jest r\u00f3\u017cnica pomi\u0119dzy tymi kosztami? W og\u00f3lno\u015bci? A dla problemu binarnego?\n",
      "    "
     ]
    },
    {
     "cell_type": "markdown",
     "metadata": {},
     "source": [
      "### Zadania\n",
      "\n",
      "Stw\u00f3rz trzy architektury i przetestuj je w problemie rozpoznawania pisma:\n",
      "\n",
      "* Model regresji z jednym neuronem wyj\u015bciowem\n",
      "* Model regresji z `m` neuronami wyj\u015bciowymi (kodowanie klas one-hot-encoding)\n",
      "* Model klasyfikacji  z `m` neuronami wyj\u015bciowymi (kodowanie klas one-hot-encoding)\n"
     ]
    },
    {
     "cell_type": "heading",
     "level": 2,
     "metadata": {},
     "source": [
      "Analiza procesu uczenia"
     ]
    },
    {
     "cell_type": "markdown",
     "metadata": {},
     "source": [
      "Przy u\u017cyciu `theanets` oraz naszego zbioru danych (mo\u017cesz zredukowa\u0107 go do mniejszej liczby przyk\u0142ad\u00f3w \u017ceby zwi\u0119kszy\u0107 szybko\u015b\u0107 dzia\u0142ania) przeprowad\u017a eksperyment, w kt\u00f3rym po ka\u017cdej iteracji procesu uczenia sieci neuronowej sprawdzasz jaki wynik osi\u0105ga ona na zbiorze ucz\u0105cym oraz jaki na zbiorze testuj\u0105cym. Zaprezentuj wynik tego eksperymentu w postaci wykres\u00f3w (zale\u017cno\u015bci czasu od accuracy). Najlepiej tw\u00f3rz wykres co okre\u015blon\u0105 liczb\u0119 iteracji \u017ceby powstawa\u0142 on na bie\u017c\u0105co."
     ]
    },
    {
     "cell_type": "code",
     "collapsed": false,
     "input": [
      "from sklearn.metrics import accuracy_score\n",
      "import theanets\n",
      "from scipy.io import loadmat\n",
      "import numpy as np\n",
      "from sklearn.cross_validation import train_test_split\n",
      "\n",
      "D = loadmat('data/ex3data1.mat')\n",
      "X, y = D['X'], D['y']\n",
      "\n",
      "\n",
      "y=y.ravel() # y musi by\u0107 wektorem, a nie macierz\u0105 (5000, 1)\n",
      "y[y == 10] = 0\n",
      "\n",
      "\n",
      "a_train, a_test, b_train, b_test = train_test_split(X, y, test_size=0.5)\n",
      "\n",
      "x = X[0]\n",
      "b = b_train.ravel()\n",
      "exp = theanets.Experiment(\n",
      "    theanets.Classifier,\n",
      "    layers=(a_train.shape[1], \n",
      "            10, \n",
      "            10)\n",
      "    )\n",
      "\n",
      "\n",
      "\n",
      "for iters, (train, valid) in enumerate(exp.itertrain((a_train, b_train), optimize='sgd', \n",
      "                                                    learning_rate=0.1, momentum=0.1,\n",
      "                                                    patience=100000)):\n",
      "        print iters\n",
      "        tr = 1.0 - accuracy_score(b_train, exp.network.classify(a_train), normalize=True)\n",
      "        te = 1.0 - accuracy_score(b_test, exp.network.classify(a_test), normalize=True)\n",
      "        print iters, \"error on training set: %7.4f\" % tr\n",
      "        print iters, \"error on testing set: %7.4f\" % te"
     ],
     "language": "python",
     "metadata": {},
     "outputs": [
      {
       "output_type": "stream",
       "stream": "stdout",
       "text": [
        "0\n",
        "0"
       ]
      },
      {
       "output_type": "stream",
       "stream": "stdout",
       "text": [
        " error on training set:  0.7404\n",
        "0 error on testing set:  0.7404\n",
        "1\n",
        "1"
       ]
      },
      {
       "output_type": "stream",
       "stream": "stdout",
       "text": [
        " error on training set:  0.6116\n",
        "1 error on testing set:  0.6332\n",
        "2\n",
        "2 error on training set:  0.5516\n",
        "2 error on testing set:  0.5648\n",
        "3"
       ]
      },
      {
       "output_type": "stream",
       "stream": "stdout",
       "text": [
        "\n",
        "3 error on training set:  0.4308\n",
        "3 error on testing set:  0.4428\n",
        "4\n",
        "4"
       ]
      },
      {
       "output_type": "stream",
       "stream": "stdout",
       "text": [
        " error on training set:  0.3512\n",
        "4 error on testing set:  0.3456\n",
        "5\n",
        "5 error on training set:  0.3228\n",
        "5 error on testing set:  0.3160\n",
        "6"
       ]
      },
      {
       "output_type": "stream",
       "stream": "stdout",
       "text": [
        "\n",
        "6 error on training set:  0.2892\n",
        "6 error on testing set:  0.2808\n",
        "7\n",
        "7"
       ]
      },
      {
       "output_type": "stream",
       "stream": "stdout",
       "text": [
        " error on training set:  0.2748\n",
        "7 error on testing set:  0.2692\n",
        "8\n",
        "8 error on training set:  0.2672\n",
        "8 error on testing set:  0.2608\n",
        "9"
       ]
      },
      {
       "output_type": "stream",
       "stream": "stdout",
       "text": [
        "\n",
        "9 error on training set:  0.2556\n",
        "9 error on testing set:  0.2520\n",
        "10"
       ]
      },
      {
       "output_type": "stream",
       "stream": "stdout",
       "text": [
        "\n",
        "10 error on training set:  0.2472\n",
        "10 error on testing set:  0.2432\n",
        "11\n",
        "11"
       ]
      },
      {
       "output_type": "stream",
       "stream": "stdout",
       "text": [
        " error on training set:  0.2380\n",
        "11 error on testing set:  0.2372\n",
        "12\n",
        "12"
       ]
      },
      {
       "output_type": "stream",
       "stream": "stdout",
       "text": [
        " error on training set:  0.2332\n",
        "12 error on testing set:  0.2328\n",
        "13\n",
        "13 error on training set:  0.2184\n",
        "13 error on testing set:  0.2204\n",
        "14"
       ]
      },
      {
       "output_type": "stream",
       "stream": "stdout",
       "text": [
        "\n",
        "14 error on training set:  0.2100\n",
        "14 error on testing set:  0.2156\n",
        "15\n",
        "15"
       ]
      },
      {
       "output_type": "stream",
       "stream": "stdout",
       "text": [
        " error on training set:  0.2000\n",
        "15 error on testing set:  0.2092\n",
        "16\n",
        "16 error on training set:  0.1948\n",
        "16 error on testing set:  0.2024\n",
        "17"
       ]
      },
      {
       "output_type": "stream",
       "stream": "stdout",
       "text": [
        "\n",
        "17 error on training set:  0.1812\n",
        "17 error on testing set:  0.1948\n",
        "18\n",
        "18"
       ]
      },
      {
       "output_type": "stream",
       "stream": "stdout",
       "text": [
        " error on training set:  0.1764\n",
        "18 error on testing set:  0.1896\n",
        "19\n",
        "19 error on training set:  0.1716\n",
        "19 error on testing set:  0.1892\n",
        "20"
       ]
      },
      {
       "output_type": "stream",
       "stream": "stdout",
       "text": [
        "\n",
        "20 error on training set:  0.1628\n",
        "20 error on testing set:  0.1804\n",
        "21\n",
        "21"
       ]
      },
      {
       "output_type": "stream",
       "stream": "stdout",
       "text": [
        " error on training set:  0.1592\n",
        "21 error on testing set:  0.1768\n",
        "22\n",
        "22 error on training set:  0.1580\n",
        "22 error on testing set:  0.1784\n",
        "23"
       ]
      },
      {
       "output_type": "stream",
       "stream": "stdout",
       "text": [
        "\n",
        "23 error on training set:  0.1480\n",
        "23 error on testing set:  0.1684\n",
        "24\n",
        "24"
       ]
      },
      {
       "output_type": "stream",
       "stream": "stdout",
       "text": [
        " error on training set:  0.1464\n",
        "24 error on testing set:  0.1672\n",
        "25\n",
        "25 error on training set:  0.1420\n",
        "25 error on testing set:  0.1624\n",
        "26"
       ]
      },
      {
       "output_type": "stream",
       "stream": "stdout",
       "text": [
        "\n",
        "26 error on training set:  0.1368\n",
        "26 error on testing set:  0.1584\n",
        "27\n",
        "27"
       ]
      },
      {
       "output_type": "stream",
       "stream": "stdout",
       "text": [
        " error on training set:  0.1360\n",
        "27 error on testing set:  0.1560\n",
        "28\n",
        "28 error on training set:  0.1324\n",
        "28 error on testing set:  0.1536\n",
        "29"
       ]
      },
      {
       "output_type": "stream",
       "stream": "stdout",
       "text": [
        "\n",
        "29 error on training set:  0.1296\n",
        "29 error on testing set:  0.1500\n",
        "30"
       ]
      },
      {
       "output_type": "stream",
       "stream": "stdout",
       "text": [
        "\n",
        "30 error on training set:  0.1232\n",
        "30 error on testing set:  0.1496\n",
        "31\n",
        "31"
       ]
      },
      {
       "output_type": "stream",
       "stream": "stdout",
       "text": [
        " error on training set:  0.1220\n",
        "31 error on testing set:  0.1460\n",
        "32\n",
        "32 error on training set:  0.1196\n",
        "32 error on testing set:  0.1440\n",
        "33"
       ]
      },
      {
       "output_type": "stream",
       "stream": "stdout",
       "text": [
        "\n",
        "33 error on training set:  0.1164\n",
        "33 error on testing set:  0.1428\n",
        "34"
       ]
      },
      {
       "output_type": "stream",
       "stream": "stdout",
       "text": [
        "\n",
        "34 error on training set:  0.1152\n",
        "34 error on testing set:  0.1388\n",
        "35\n",
        "35"
       ]
      },
      {
       "output_type": "stream",
       "stream": "stdout",
       "text": [
        " error on training set:  0.1124\n",
        "35 error on testing set:  0.1396\n",
        "36\n",
        "36 error on training set:  0.1104\n",
        "36 error on testing set:  0.1388\n",
        "37"
       ]
      },
      {
       "output_type": "stream",
       "stream": "stdout",
       "text": [
        "\n",
        "37 error on training set:  0.1104\n",
        "37 error on testing set:  0.1364\n",
        "38\n",
        "38"
       ]
      },
      {
       "output_type": "stream",
       "stream": "stdout",
       "text": [
        " error on training set:  0.1072\n",
        "38 error on testing set:  0.1340\n",
        "39\n",
        "39 error on training set:  0.1068\n",
        "39 error on testing set:  0.1316\n",
        "40"
       ]
      },
      {
       "output_type": "stream",
       "stream": "stdout",
       "text": [
        "\n",
        "40 error on training set:  0.1060\n",
        "40 error on testing set:  0.1304\n",
        "41\n",
        "41"
       ]
      },
      {
       "output_type": "stream",
       "stream": "stdout",
       "text": [
        " error on training set:  0.1040\n",
        "41 error on testing set:  0.1300\n",
        "42\n",
        "42 error on training set:  0.1016\n",
        "42 error on testing set:  0.1296\n",
        "43"
       ]
      },
      {
       "output_type": "stream",
       "stream": "stdout",
       "text": [
        "\n",
        "43 error on training set:  0.1020\n",
        "43 error on testing set:  0.1284\n",
        "44\n",
        "44"
       ]
      },
      {
       "output_type": "stream",
       "stream": "stdout",
       "text": [
        " error on training set:  0.0984\n",
        "44 error on testing set:  0.1268\n",
        "45\n",
        "45"
       ]
      },
      {
       "output_type": "stream",
       "stream": "stdout",
       "text": [
        " error on training set:  0.0964\n",
        "45 error on testing set:  0.1260\n",
        "46\n",
        "46 error on training set:  0.0948\n",
        "46 error on testing set:  0.1240\n",
        "47"
       ]
      },
      {
       "output_type": "stream",
       "stream": "stdout",
       "text": [
        "\n",
        "47 error on training set:  0.0952\n",
        "47 error on testing set:  0.1264\n",
        "48\n",
        "48"
       ]
      },
      {
       "output_type": "stream",
       "stream": "stdout",
       "text": [
        " error on training set:  0.0936\n",
        "48 error on testing set:  0.1244\n",
        "49\n",
        "49 error on training set:  0.0924\n",
        "49 error on testing set:  0.1224\n",
        "50"
       ]
      },
      {
       "output_type": "stream",
       "stream": "stdout",
       "text": [
        "\n",
        "50 error on training set:  0.0900\n",
        "50 error on testing set:  0.1208\n",
        "51\n",
        "51"
       ]
      },
      {
       "output_type": "stream",
       "stream": "stdout",
       "text": [
        " error on training set:  0.0916\n",
        "51 error on testing set:  0.1176\n",
        "52\n",
        "52 error on training set:  0.0892\n",
        "52 error on testing set:  0.1208\n",
        "53"
       ]
      },
      {
       "output_type": "stream",
       "stream": "stdout",
       "text": [
        "\n",
        "53 error on training set:  0.0880\n",
        "53 error on testing set:  0.1192\n",
        "54\n",
        "54"
       ]
      },
      {
       "output_type": "stream",
       "stream": "stdout",
       "text": [
        " error on training set:  0.0868\n",
        "54 error on testing set:  0.1184\n",
        "55\n",
        "55 error on training set:  0.0856\n",
        "55 error on testing set:  0.1144\n",
        "56"
       ]
      },
      {
       "output_type": "stream",
       "stream": "stdout",
       "text": [
        "\n",
        "56 error on training set:  0.0852\n",
        "56 error on testing set:  0.1176\n",
        "57\n",
        "57"
       ]
      },
      {
       "output_type": "stream",
       "stream": "stdout",
       "text": [
        " error on training set:  0.0864\n",
        "57 error on testing set:  0.1156\n",
        "58\n",
        "58 error on training set:  0.0820\n",
        "58 error on testing set:  0.1160\n",
        "59"
       ]
      },
      {
       "output_type": "stream",
       "stream": "stdout",
       "text": [
        "\n",
        "59 error on training set:  0.0828\n",
        "59 error on testing set:  0.1172\n",
        "60"
       ]
      },
      {
       "output_type": "stream",
       "stream": "stdout",
       "text": [
        "\n",
        "60 error on training set:  0.0836\n",
        "60 error on testing set:  0.1144\n",
        "61\n",
        "61"
       ]
      },
      {
       "output_type": "stream",
       "stream": "stdout",
       "text": [
        " error on training set:  0.0792\n",
        "61 error on testing set:  0.1132\n",
        "62\n",
        "62 error on training set:  0.0800\n",
        "62 error on testing set:  0.1128\n",
        "63"
       ]
      },
      {
       "output_type": "stream",
       "stream": "stdout",
       "text": [
        "\n",
        "63 error on training set:  0.0804\n",
        "63 error on testing set:  0.1144\n",
        "64\n",
        "64"
       ]
      },
      {
       "output_type": "stream",
       "stream": "stdout",
       "text": [
        " error on training set:  0.0788\n",
        "64 error on testing set:  0.1100\n",
        "65\n",
        "65 error on training set:  0.0784\n",
        "65 error on testing set:  0.1120\n",
        "66"
       ]
      },
      {
       "output_type": "stream",
       "stream": "stdout",
       "text": [
        "\n",
        "66 error on training set:  0.0780\n",
        "66 error on testing set:  0.1116\n",
        "67\n",
        "67"
       ]
      },
      {
       "output_type": "stream",
       "stream": "stdout",
       "text": [
        " error on training set:  0.0776\n",
        "67 error on testing set:  0.1116\n",
        "68\n",
        "68 error on training set:  0.0752\n",
        "68 error on testing set:  0.1076\n",
        "69"
       ]
      },
      {
       "output_type": "stream",
       "stream": "stdout",
       "text": [
        "\n",
        "69 error on training set:  0.0752\n",
        "69 error on testing set:  0.1112\n",
        "70"
       ]
      },
      {
       "output_type": "stream",
       "stream": "stdout",
       "text": [
        "\n",
        "70 error on training set:  0.0736\n",
        "70 error on testing set:  0.1092\n",
        "71\n",
        "71"
       ]
      },
      {
       "output_type": "stream",
       "stream": "stdout",
       "text": [
        " error on training set:  0.0720\n",
        "71 error on testing set:  0.1076\n",
        "72\n",
        "72 error on training set:  0.0724\n",
        "72 error on testing set:  0.1068\n",
        "73"
       ]
      },
      {
       "output_type": "stream",
       "stream": "stdout",
       "text": [
        "\n",
        "73 error on training set:  0.0716\n",
        "73 error on testing set:  0.1064\n",
        "74\n",
        "74"
       ]
      },
      {
       "output_type": "stream",
       "stream": "stdout",
       "text": [
        " error on training set:  0.0712\n",
        "74 error on testing set:  0.1076\n",
        "75\n",
        "75 error on training set:  0.0704\n",
        "75 error on testing set:  0.1084\n",
        "76"
       ]
      },
      {
       "output_type": "stream",
       "stream": "stdout",
       "text": [
        "\n",
        "76 error on training set:  0.0704\n",
        "76 error on testing set:  0.1076\n",
        "77\n",
        "77"
       ]
      },
      {
       "output_type": "stream",
       "stream": "stdout",
       "text": [
        " error on training set:  0.0684\n",
        "77 error on testing set:  0.1064\n",
        "78\n",
        "78 error on training set:  0.0696\n",
        "78 error on testing set:  0.1044\n"
       ]
      },
      {
       "output_type": "stream",
       "stream": "stdout",
       "text": [
        "79\n",
        "79 error on training set:  0.0684\n",
        "79 error on testing set:  0.1072\n",
        "80"
       ]
      },
      {
       "output_type": "stream",
       "stream": "stdout",
       "text": [
        "\n",
        "80 error on training set:  0.0688\n",
        "80 error on testing set:  0.1052\n",
        "81\n",
        "81"
       ]
      },
      {
       "output_type": "stream",
       "stream": "stdout",
       "text": [
        " error on training set:  0.0668\n",
        "81 error on testing set:  0.1056\n",
        "82\n",
        "82 error on training set:  0.0668\n",
        "82 error on testing set:  0.1048\n",
        "83"
       ]
      },
      {
       "output_type": "stream",
       "stream": "stdout",
       "text": [
        "\n",
        "83 error on training set:  0.0664\n",
        "83 error on testing set:  0.1044\n",
        "84\n",
        "84"
       ]
      },
      {
       "output_type": "stream",
       "stream": "stdout",
       "text": [
        " error on training set:  0.0668\n",
        "84 error on testing set:  0.1020\n",
        "85\n",
        "85 error on training set:  0.0660\n",
        "85 error on testing set:  0.1052\n",
        "86"
       ]
      },
      {
       "output_type": "stream",
       "stream": "stdout",
       "text": [
        "\n",
        "86 error on training set:  0.0652\n",
        "86 error on testing set:  0.1028\n",
        "87\n",
        "87"
       ]
      },
      {
       "output_type": "stream",
       "stream": "stdout",
       "text": [
        " error on training set:  0.0644\n",
        "87 error on testing set:  0.1036\n",
        "88\n",
        "88 error on training set:  0.0644\n",
        "88 error on testing set:  0.1024\n",
        "89"
       ]
      },
      {
       "output_type": "stream",
       "stream": "stdout",
       "text": [
        "\n",
        "89 error on training set:  0.0640\n",
        "89 error on testing set:  0.1036\n",
        "90"
       ]
      },
      {
       "output_type": "stream",
       "stream": "stdout",
       "text": [
        "\n",
        "90 error on training set:  0.0644\n",
        "90 error on testing set:  0.1032\n",
        "91\n",
        "91"
       ]
      },
      {
       "output_type": "stream",
       "stream": "stdout",
       "text": [
        " error on training set:  0.0628\n",
        "91 error on testing set:  0.1016\n",
        "92\n",
        "92 error on training set:  0.0624\n",
        "92 error on testing set:  0.1028\n",
        "93"
       ]
      },
      {
       "output_type": "stream",
       "stream": "stdout",
       "text": [
        "\n",
        "93 error on training set:  0.0628\n",
        "93 error on testing set:  0.1028\n",
        "94\n",
        "94"
       ]
      },
      {
       "output_type": "stream",
       "stream": "stdout",
       "text": [
        " error on training set:  0.0628\n",
        "94 error on testing set:  0.1020\n",
        "95\n",
        "95 error on training set:  0.0616\n",
        "95 error on testing set:  0.1008\n",
        "96"
       ]
      },
      {
       "output_type": "stream",
       "stream": "stdout",
       "text": [
        "\n",
        "96 error on training set:  0.0624\n",
        "96 error on testing set:  0.1016\n",
        "97\n",
        "97"
       ]
      },
      {
       "output_type": "stream",
       "stream": "stdout",
       "text": [
        " error on training set:  0.0616\n",
        "97 error on testing set:  0.1020\n",
        "98\n",
        "98 error on training set:  0.0612\n",
        "98 error on testing set:  0.1024\n",
        "99"
       ]
      },
      {
       "output_type": "stream",
       "stream": "stdout",
       "text": [
        "\n",
        "99 error on training set:  0.0616\n",
        "99 error on testing set:  0.1012\n",
        "100"
       ]
      },
      {
       "output_type": "stream",
       "stream": "stdout",
       "text": [
        "\n",
        "100 error on training set:  0.0592\n",
        "100 error on testing set:  0.1004\n",
        "101\n",
        "101"
       ]
      },
      {
       "output_type": "stream",
       "stream": "stdout",
       "text": [
        " error on training set:  0.0600\n",
        "101 error on testing set:  0.1016\n",
        "102\n",
        "102 error on training set:  0.0584\n",
        "102 error on testing set:  0.1012\n",
        "103"
       ]
      },
      {
       "output_type": "stream",
       "stream": "stdout",
       "text": [
        "\n",
        "103 error on training set:  0.0580\n",
        "103 error on testing set:  0.1020\n",
        "104\n",
        "104"
       ]
      },
      {
       "output_type": "stream",
       "stream": "stdout",
       "text": [
        " error on training set:  0.0580\n",
        "104 error on testing set:  0.1008\n",
        "105\n",
        "105 error on training set:  0.0576\n",
        "105 error on testing set:  0.1016\n",
        "106"
       ]
      },
      {
       "output_type": "stream",
       "stream": "stdout",
       "text": [
        "\n",
        "106 error on training set:  0.0576\n",
        "106 error on testing set:  0.1004\n",
        "107\n",
        "107"
       ]
      },
      {
       "output_type": "stream",
       "stream": "stdout",
       "text": [
        " error on training set:  0.0560\n",
        "107 error on testing set:  0.1008\n",
        "108\n",
        "108 error on training set:  0.0564\n",
        "108 error on testing set:  0.1012\n",
        "109"
       ]
      },
      {
       "output_type": "stream",
       "stream": "stdout",
       "text": [
        "\n",
        "109 error on training set:  0.0560\n",
        "109 error on testing set:  0.1016\n",
        "110"
       ]
      },
      {
       "output_type": "stream",
       "stream": "stdout",
       "text": [
        "\n",
        "110 error on training set:  0.0544\n",
        "110 error on testing set:  0.1008\n",
        "111"
       ]
      },
      {
       "output_type": "stream",
       "stream": "stdout",
       "text": [
        "\n",
        "111 error on training set:  0.0564\n",
        "111 error on testing set:  0.1024\n",
        "112\n",
        "112"
       ]
      },
      {
       "output_type": "stream",
       "stream": "stdout",
       "text": [
        " error on training set:  0.0560\n",
        "112 error on testing set:  0.1016\n",
        "113\n",
        "113 error on training set:  0.0552\n",
        "113 error on testing set:  0.1008\n",
        "114"
       ]
      },
      {
       "output_type": "stream",
       "stream": "stdout",
       "text": [
        "\n",
        "114 error on training set:  0.0552\n",
        "114 error on testing set:  0.1016\n",
        "115\n",
        "115"
       ]
      },
      {
       "output_type": "stream",
       "stream": "stdout",
       "text": [
        " error on training set:  0.0524\n",
        "115 error on testing set:  0.1004\n",
        "116\n",
        "116 error on training set:  0.0548\n",
        "116 error on testing set:  0.1012\n",
        "117"
       ]
      },
      {
       "output_type": "stream",
       "stream": "stdout",
       "text": [
        "\n",
        "117 error on training set:  0.0532\n",
        "117 error on testing set:  0.1024\n",
        "118\n",
        "118"
       ]
      },
      {
       "output_type": "stream",
       "stream": "stdout",
       "text": [
        " error on training set:  0.0524\n",
        "118 error on testing set:  0.1008\n",
        "119\n",
        "119 error on training set:  0.0512\n",
        "119 error on testing set:  0.1024\n",
        "120"
       ]
      },
      {
       "output_type": "stream",
       "stream": "stdout",
       "text": [
        "\n",
        "120 error on training set:  0.0516\n",
        "120 error on testing set:  0.1012\n",
        "121\n",
        "121"
       ]
      },
      {
       "output_type": "stream",
       "stream": "stdout",
       "text": [
        " error on training set:  0.0516\n",
        "121 error on testing set:  0.1004\n",
        "122\n",
        "122 error on training set:  0.0508\n",
        "122 error on testing set:  0.1004\n",
        "123"
       ]
      },
      {
       "output_type": "stream",
       "stream": "stdout",
       "text": [
        "\n",
        "123 error on training set:  0.0496\n",
        "123 error on testing set:  0.1028\n",
        "124\n",
        "124"
       ]
      },
      {
       "output_type": "stream",
       "stream": "stdout",
       "text": [
        " error on training set:  0.0496\n",
        "124 error on testing set:  0.1036\n",
        "125\n",
        "125 error on training set:  0.0512\n",
        "125 error on testing set:  0.0996\n",
        "126"
       ]
      },
      {
       "output_type": "stream",
       "stream": "stdout",
       "text": [
        "\n",
        "126 error on training set:  0.0512\n",
        "126 error on testing set:  0.1004\n",
        "127\n",
        "127"
       ]
      },
      {
       "output_type": "stream",
       "stream": "stdout",
       "text": [
        " error on training set:  0.0500\n",
        "127 error on testing set:  0.1020\n",
        "128\n",
        "128"
       ]
      },
      {
       "output_type": "stream",
       "stream": "stdout",
       "text": [
        " error on training set:  0.0480\n",
        "128 error on testing set:  0.1008\n",
        "129\n",
        "129 error on training set:  0.0476\n",
        "129 error on testing set:  0.1024\n",
        "130"
       ]
      },
      {
       "output_type": "stream",
       "stream": "stdout",
       "text": [
        "\n",
        "130 error on training set:  0.0484\n",
        "130 error on testing set:  0.1008\n",
        "131\n",
        "131"
       ]
      },
      {
       "output_type": "stream",
       "stream": "stdout",
       "text": [
        " error on training set:  0.0452\n",
        "131 error on testing set:  0.1020\n",
        "132\n",
        "132 error on training set:  0.0464\n",
        "132 error on testing set:  0.1004\n",
        "133"
       ]
      },
      {
       "output_type": "stream",
       "stream": "stdout",
       "text": [
        "\n",
        "133 error on training set:  0.0480\n",
        "133 error on testing set:  0.1008\n",
        "134\n",
        "134"
       ]
      },
      {
       "output_type": "stream",
       "stream": "stdout",
       "text": [
        " error on training set:  0.0456\n",
        "134 error on testing set:  0.1012\n",
        "135\n",
        "135 error on training set:  0.0476\n",
        "135 error on testing set:  0.1028\n",
        "136"
       ]
      },
      {
       "output_type": "stream",
       "stream": "stdout",
       "text": [
        "\n",
        "136 error on training set:  0.0456\n",
        "136 error on testing set:  0.1024\n",
        "137\n",
        "137"
       ]
      },
      {
       "output_type": "stream",
       "stream": "stdout",
       "text": [
        " error on training set:  0.0448\n",
        "137 error on testing set:  0.1020\n",
        "138\n",
        "138 error on training set:  0.0452\n",
        "138 error on testing set:  0.1020\n",
        "139"
       ]
      },
      {
       "output_type": "stream",
       "stream": "stdout",
       "text": [
        "\n",
        "139 error on training set:  0.0452\n",
        "139 error on testing set:  0.1016\n",
        "140"
       ]
      },
      {
       "output_type": "stream",
       "stream": "stdout",
       "text": [
        "\n",
        "140 error on training set:  0.0460\n",
        "140 error on testing set:  0.1024\n",
        "141\n",
        "141"
       ]
      },
      {
       "output_type": "stream",
       "stream": "stdout",
       "text": [
        " error on training set:  0.0452\n",
        "141 error on testing set:  0.1024\n",
        "142\n",
        "142 error on training set:  0.0440\n",
        "142 error on testing set:  0.1012\n",
        "143"
       ]
      },
      {
       "output_type": "stream",
       "stream": "stdout",
       "text": [
        "\n",
        "143 error on training set:  0.0436\n",
        "143 error on testing set:  0.1024\n",
        "144\n",
        "144"
       ]
      },
      {
       "output_type": "stream",
       "stream": "stdout",
       "text": [
        " error on training set:  0.0432\n",
        "144 error on testing set:  0.1032\n",
        "145\n",
        "145 error on training set:  0.0432\n",
        "145 error on testing set:  0.1020\n",
        "146"
       ]
      },
      {
       "output_type": "stream",
       "stream": "stdout",
       "text": [
        "\n",
        "146 error on training set:  0.0436\n",
        "146 error on testing set:  0.1024\n",
        "147\n",
        "147"
       ]
      },
      {
       "output_type": "stream",
       "stream": "stdout",
       "text": [
        " error on training set:  0.0436\n",
        "147 error on testing set:  0.1008\n",
        "148\n",
        "148 error on training set:  0.0432\n",
        "148 error on testing set:  0.1008\n",
        "149"
       ]
      },
      {
       "output_type": "stream",
       "stream": "stdout",
       "text": [
        "\n",
        "149 error on training set:  0.0428\n",
        "149 error on testing set:  0.1008\n",
        "150"
       ]
      },
      {
       "output_type": "stream",
       "stream": "stdout",
       "text": [
        "\n",
        "150 error on training set:  0.0420\n",
        "150 error on testing set:  0.0980\n",
        "151\n",
        "151"
       ]
      },
      {
       "output_type": "stream",
       "stream": "stdout",
       "text": [
        " error on training set:  0.0428\n",
        "151 error on testing set:  0.1024\n",
        "152\n",
        "152 error on training set:  0.0424\n",
        "152 error on testing set:  0.1020\n",
        "153"
       ]
      },
      {
       "output_type": "stream",
       "stream": "stdout",
       "text": [
        "\n",
        "153 error on training set:  0.0420\n",
        "153 error on testing set:  0.1032\n",
        "154"
       ]
      },
      {
       "output_type": "stream",
       "stream": "stdout",
       "text": [
        "\n",
        "154 error on training set:  0.0428\n",
        "154 error on testing set:  0.1008\n",
        "155\n",
        "155"
       ]
      },
      {
       "output_type": "stream",
       "stream": "stdout",
       "text": [
        " error on training set:  0.0408\n",
        "155 error on testing set:  0.1028\n",
        "156\n",
        "156 error on training set:  0.0416\n",
        "156 error on testing set:  0.1036\n",
        "157"
       ]
      },
      {
       "output_type": "stream",
       "stream": "stdout",
       "text": [
        "\n",
        "157 error on training set:  0.0412\n",
        "157 error on testing set:  0.1024\n",
        "158\n",
        "158"
       ]
      },
      {
       "output_type": "stream",
       "stream": "stdout",
       "text": [
        " error on training set:  0.0408\n",
        "158 error on testing set:  0.1012\n",
        "159\n",
        "159 error on training set:  0.0404\n",
        "159 error on testing set:  0.1012\n",
        "160"
       ]
      },
      {
       "output_type": "stream",
       "stream": "stdout",
       "text": [
        "\n",
        "160 error on training set:  0.0404\n",
        "160 error on testing set:  0.1016\n",
        "161\n",
        "161"
       ]
      },
      {
       "output_type": "stream",
       "stream": "stdout",
       "text": [
        " error on training set:  0.0404\n",
        "161 error on testing set:  0.1008\n",
        "162\n",
        "162 error on training set:  0.0412\n",
        "162 error on testing set:  0.1004\n",
        "163"
       ]
      },
      {
       "output_type": "stream",
       "stream": "stdout",
       "text": [
        "\n",
        "163 error on training set:  0.0412\n",
        "163 error on testing set:  0.1016\n",
        "164\n",
        "164"
       ]
      },
      {
       "output_type": "stream",
       "stream": "stdout",
       "text": [
        " error on training set:  0.0392\n",
        "164 error on testing set:  0.1016\n",
        "165\n",
        "165"
       ]
      },
      {
       "output_type": "stream",
       "stream": "stdout",
       "text": [
        " error on training set:  0.0404\n",
        "165 error on testing set:  0.0992\n",
        "166\n",
        "166 error on training set:  0.0396\n",
        "166 error on testing set:  0.1024\n",
        "167"
       ]
      },
      {
       "output_type": "stream",
       "stream": "stdout",
       "text": [
        "\n",
        "167 error on training set:  0.0400\n",
        "167 error on testing set:  0.1008\n",
        "168\n",
        "168"
       ]
      },
      {
       "output_type": "stream",
       "stream": "stdout",
       "text": [
        " error on training set:  0.0400\n",
        "168 error on testing set:  0.1020\n",
        "169\n",
        "169 error on training set:  0.0400\n",
        "169 error on testing set:  0.1008\n",
        "170"
       ]
      },
      {
       "output_type": "stream",
       "stream": "stdout",
       "text": [
        "\n",
        "170 error on training set:  0.0408\n",
        "170 error on testing set:  0.0996\n",
        "171\n",
        "171"
       ]
      },
      {
       "output_type": "stream",
       "stream": "stdout",
       "text": [
        " error on training set:  0.0404\n",
        "171 error on testing set:  0.1012\n",
        "172\n",
        "172 error on training set:  0.0388\n",
        "172 error on testing set:  0.1012\n",
        "173"
       ]
      },
      {
       "output_type": "stream",
       "stream": "stdout",
       "text": [
        "\n",
        "173 error on training set:  0.0388\n",
        "173 error on testing set:  0.1016\n",
        "174\n",
        "174"
       ]
      },
      {
       "output_type": "stream",
       "stream": "stdout",
       "text": [
        " error on training set:  0.0400\n",
        "174 error on testing set:  0.1012\n",
        "175\n",
        "175"
       ]
      },
      {
       "output_type": "stream",
       "stream": "stdout",
       "text": [
        " error on training set:  0.0392\n",
        "175 error on testing set:  0.1008\n",
        "176\n",
        "176 error on training set:  0.0400\n",
        "176 error on testing set:  0.1020\n",
        "177"
       ]
      },
      {
       "output_type": "stream",
       "stream": "stdout",
       "text": [
        "\n",
        "177 error on training set:  0.0388\n",
        "177 error on testing set:  0.1004\n",
        "178\n",
        "178"
       ]
      },
      {
       "output_type": "stream",
       "stream": "stdout",
       "text": [
        " error on training set:  0.0384\n",
        "178 error on testing set:  0.1004\n",
        "179\n",
        "179 error on training set:  0.0384\n",
        "179 error on testing set:  0.1012\n",
        "180"
       ]
      },
      {
       "output_type": "stream",
       "stream": "stdout",
       "text": [
        "\n",
        "180 error on training set:  0.0384\n",
        "180 error on testing set:  0.1008\n",
        "181\n",
        "181"
       ]
      },
      {
       "output_type": "stream",
       "stream": "stdout",
       "text": [
        " error on training set:  0.0388\n",
        "181 error on testing set:  0.1008\n",
        "182\n",
        "182 error on training set:  0.0368\n",
        "182 error on testing set:  0.1004\n",
        "183"
       ]
      },
      {
       "output_type": "stream",
       "stream": "stdout",
       "text": [
        "\n",
        "183 error on training set:  0.0380\n",
        "183 error on testing set:  0.1004\n",
        "184\n",
        "184"
       ]
      },
      {
       "output_type": "stream",
       "stream": "stdout",
       "text": [
        " error on training set:  0.0388\n",
        "184 error on testing set:  0.1004\n",
        "185\n",
        "185 error on training set:  0.0380\n",
        "185 error on testing set:  0.1000\n",
        "186"
       ]
      },
      {
       "output_type": "stream",
       "stream": "stdout",
       "text": [
        "\n",
        "186 error on training set:  0.0376\n",
        "186 error on testing set:  0.1004\n",
        "187\n",
        "187"
       ]
      },
      {
       "output_type": "stream",
       "stream": "stdout",
       "text": [
        " error on training set:  0.0380\n",
        "187 error on testing set:  0.1004\n",
        "188\n",
        "188 error on training set:  0.0364\n",
        "188 error on testing set:  0.1004\n",
        "189"
       ]
      },
      {
       "output_type": "stream",
       "stream": "stdout",
       "text": [
        "\n",
        "189 error on training set:  0.0364\n",
        "189 error on testing set:  0.1000\n",
        "190"
       ]
      },
      {
       "output_type": "stream",
       "stream": "stdout",
       "text": [
        "\n",
        "190 error on training set:  0.0384\n",
        "190 error on testing set:  0.1004\n",
        "191\n",
        "191"
       ]
      },
      {
       "output_type": "stream",
       "stream": "stdout",
       "text": [
        " error on training set:  0.0376\n",
        "191 error on testing set:  0.0996\n",
        "192\n",
        "192 error on training set:  0.0364\n",
        "192 error on testing set:  0.1000\n",
        "193"
       ]
      },
      {
       "output_type": "stream",
       "stream": "stdout",
       "text": [
        "\n",
        "193 error on training set:  0.0372\n",
        "193 error on testing set:  0.0992\n",
        "194\n",
        "194"
       ]
      },
      {
       "output_type": "stream",
       "stream": "stdout",
       "text": [
        " error on training set:  0.0388\n",
        "194 error on testing set:  0.1008\n",
        "195\n",
        "195 error on training set:  0.0372\n",
        "195 error on testing set:  0.0996\n",
        "196"
       ]
      },
      {
       "output_type": "stream",
       "stream": "stdout",
       "text": [
        "\n",
        "196 error on training set:  0.0364\n",
        "196 error on testing set:  0.0988\n",
        "197"
       ]
      },
      {
       "output_type": "stream",
       "stream": "stdout",
       "text": [
        "\n",
        "197 error on training set:  0.0348\n",
        "197 error on testing set:  0.1008\n",
        "198\n",
        "198"
       ]
      },
      {
       "output_type": "stream",
       "stream": "stdout",
       "text": [
        " error on training set:  0.0364\n",
        "198 error on testing set:  0.1008\n",
        "199\n",
        "199 error on training set:  0.0352\n",
        "199 error on testing set:  0.1004\n",
        "200"
       ]
      },
      {
       "output_type": "stream",
       "stream": "stdout",
       "text": [
        "\n",
        "200 error on training set:  0.0348\n",
        "200 error on testing set:  0.1004\n",
        "201\n",
        "201"
       ]
      },
      {
       "output_type": "stream",
       "stream": "stdout",
       "text": [
        " error on training set:  0.0356\n",
        "201 error on testing set:  0.1000\n",
        "202\n",
        "202 error on training set:  0.0360\n",
        "202 error on testing set:  0.0996\n",
        "203"
       ]
      },
      {
       "output_type": "stream",
       "stream": "stdout",
       "text": [
        "\n",
        "203 error on training set:  0.0356\n",
        "203 error on testing set:  0.1012\n",
        "204\n",
        "204"
       ]
      },
      {
       "output_type": "stream",
       "stream": "stdout",
       "text": [
        " error on training set:  0.0348\n",
        "204 error on testing set:  0.0996\n",
        "205\n",
        "205 error on training set:  0.0360\n",
        "205 error on testing set:  0.0988\n",
        "206"
       ]
      },
      {
       "output_type": "stream",
       "stream": "stdout",
       "text": [
        "\n",
        "206 error on training set:  0.0332\n",
        "206 error on testing set:  0.0996\n",
        "207\n",
        "207"
       ]
      },
      {
       "output_type": "stream",
       "stream": "stdout",
       "text": [
        " error on training set:  0.0336\n",
        "207 error on testing set:  0.1000\n",
        "208\n",
        "208 error on training set:  0.0352\n",
        "208 error on testing set:  0.0984\n",
        "209"
       ]
      },
      {
       "output_type": "stream",
       "stream": "stdout",
       "text": [
        "\n",
        "209 error on training set:  0.0332\n",
        "209 error on testing set:  0.1008\n",
        "210"
       ]
      },
      {
       "output_type": "stream",
       "stream": "stdout",
       "text": [
        "\n",
        "210 error on training set:  0.0348\n",
        "210 error on testing set:  0.0996\n",
        "211\n",
        "211"
       ]
      },
      {
       "output_type": "stream",
       "stream": "stdout",
       "text": [
        " error on training set:  0.0336\n",
        "211 error on testing set:  0.0984\n",
        "212\n",
        "212 error on training set:  0.0320\n",
        "212 error on testing set:  0.1008\n",
        "213"
       ]
      },
      {
       "output_type": "stream",
       "stream": "stdout",
       "text": [
        "\n",
        "213 error on training set:  0.0336\n",
        "213 error on testing set:  0.0996\n",
        "214\n",
        "214"
       ]
      },
      {
       "output_type": "stream",
       "stream": "stdout",
       "text": [
        " error on training set:  0.0320\n",
        "214 error on testing set:  0.1000\n",
        "215\n",
        "215"
       ]
      },
      {
       "output_type": "stream",
       "stream": "stdout",
       "text": [
        " error on training set:  0.0328\n",
        "215 error on testing set:  0.1000\n",
        "216\n",
        "216 error on training set:  0.0316\n",
        "216 error on testing set:  0.1000\n",
        "217"
       ]
      },
      {
       "output_type": "stream",
       "stream": "stdout",
       "text": [
        "\n",
        "217 error on training set:  0.0300\n",
        "217 error on testing set:  0.0980\n",
        "218"
       ]
      },
      {
       "output_type": "stream",
       "stream": "stdout",
       "text": [
        "\n",
        "218 error on training set:  0.0324\n",
        "218 error on testing set:  0.1000\n",
        "219\n",
        "219"
       ]
      },
      {
       "output_type": "stream",
       "stream": "stdout",
       "text": [
        " error on training set:  0.0312\n",
        "219 error on testing set:  0.0976\n",
        "220\n",
        "220"
       ]
      },
      {
       "output_type": "stream",
       "stream": "stdout",
       "text": [
        " error on training set:  0.0316\n",
        "220 error on testing set:  0.1000\n",
        "221\n",
        "221 error on training set:  0.0288\n",
        "221 error on testing set:  0.1008\n",
        "222"
       ]
      },
      {
       "output_type": "stream",
       "stream": "stdout",
       "text": [
        "\n",
        "222 error on training set:  0.0308\n",
        "222 error on testing set:  0.0992\n",
        "223\n",
        "223"
       ]
      },
      {
       "output_type": "stream",
       "stream": "stdout",
       "text": [
        " error on training set:  0.0316\n",
        "223 error on testing set:  0.0988\n",
        "224\n",
        "224 error on training set:  0.0304\n",
        "224 error on testing set:  0.0996\n",
        "225"
       ]
      },
      {
       "output_type": "stream",
       "stream": "stdout",
       "text": [
        "\n",
        "225 error on training set:  0.0316\n",
        "225 error on testing set:  0.1004\n",
        "226\n",
        "226"
       ]
      },
      {
       "output_type": "stream",
       "stream": "stdout",
       "text": [
        " error on training set:  0.0304\n",
        "226 error on testing set:  0.1012\n",
        "227\n",
        "227 error on training set:  0.0316\n",
        "227 error on testing set:  0.1004\n",
        "228"
       ]
      },
      {
       "output_type": "stream",
       "stream": "stdout",
       "text": [
        "\n",
        "228 error on training set:  0.0300\n",
        "228 error on testing set:  0.1004\n",
        "229\n",
        "229"
       ]
      },
      {
       "output_type": "stream",
       "stream": "stdout",
       "text": [
        " error on training set:  0.0308\n",
        "229 error on testing set:  0.1000\n",
        "230\n",
        "230"
       ]
      },
      {
       "output_type": "stream",
       "stream": "stdout",
       "text": [
        " error on training set:  0.0324\n",
        "230 error on testing set:  0.1008\n",
        "231\n",
        "231 error on training set:  0.0300\n",
        "231 error on testing set:  0.1004\n",
        "232"
       ]
      },
      {
       "output_type": "stream",
       "stream": "stdout",
       "text": [
        "\n",
        "232 error on training set:  0.0300\n",
        "232 error on testing set:  0.0992\n",
        "233\n",
        "233"
       ]
      },
      {
       "output_type": "stream",
       "stream": "stdout",
       "text": [
        " error on training set:  0.0300\n",
        "233 error on testing set:  0.1000\n",
        "234\n",
        "234 error on training set:  0.0304\n",
        "234 error on testing set:  0.0992\n",
        "235"
       ]
      },
      {
       "output_type": "stream",
       "stream": "stdout",
       "text": [
        "\n",
        "235 error on training set:  0.0296\n",
        "235 error on testing set:  0.0996\n",
        "236\n",
        "236"
       ]
      },
      {
       "output_type": "stream",
       "stream": "stdout",
       "text": [
        " error on training set:  0.0296\n",
        "236 error on testing set:  0.0988\n",
        "237\n",
        "237 error on training set:  0.0288\n",
        "237 error on testing set:  0.1008\n",
        "238"
       ]
      },
      {
       "output_type": "stream",
       "stream": "stdout",
       "text": [
        "\n",
        "238 error on training set:  0.0288\n",
        "238 error on testing set:  0.1004\n",
        "239"
       ]
      },
      {
       "output_type": "stream",
       "stream": "stdout",
       "text": [
        "\n",
        "239 error on training set:  0.0280\n",
        "239 error on testing set:  0.0988\n",
        "240"
       ]
      },
      {
       "output_type": "stream",
       "stream": "stdout",
       "text": [
        "\n",
        "240 error on training set:  0.0280\n",
        "240 error on testing set:  0.0996\n",
        "241\n",
        "241"
       ]
      },
      {
       "output_type": "stream",
       "stream": "stdout",
       "text": [
        " error on training set:  0.0268\n",
        "241 error on testing set:  0.1008\n",
        "242\n",
        "242 error on training set:  0.0272\n",
        "242 error on testing set:  0.1000\n",
        "243"
       ]
      },
      {
       "output_type": "stream",
       "stream": "stdout",
       "text": [
        "\n",
        "243 error on training set:  0.0280\n",
        "243 error on testing set:  0.0988\n",
        "244\n",
        "244"
       ]
      },
      {
       "output_type": "stream",
       "stream": "stdout",
       "text": [
        " error on training set:  0.0280\n",
        "244 error on testing set:  0.0992\n",
        "245\n",
        "245 error on training set:  0.0272\n",
        "245 error on testing set:  0.0996\n",
        "246"
       ]
      },
      {
       "output_type": "stream",
       "stream": "stdout",
       "text": [
        "\n",
        "246 error on training set:  0.0256\n",
        "246 error on testing set:  0.0992\n",
        "247\n",
        "247"
       ]
      },
      {
       "output_type": "stream",
       "stream": "stdout",
       "text": [
        " error on training set:  0.0272\n",
        "247 error on testing set:  0.0992\n",
        "248\n",
        "248 error on training set:  0.0260\n",
        "248 error on testing set:  0.0988\n",
        "249"
       ]
      },
      {
       "output_type": "stream",
       "stream": "stdout",
       "text": [
        "\n",
        "249 error on training set:  0.0256\n",
        "249 error on testing set:  0.0996\n",
        "250"
       ]
      },
      {
       "output_type": "stream",
       "stream": "stdout",
       "text": [
        "\n",
        "250 error on training set:  0.0264\n",
        "250 error on testing set:  0.0988\n",
        "251\n",
        "251"
       ]
      },
      {
       "output_type": "stream",
       "stream": "stdout",
       "text": [
        " error on training set:  0.0260\n",
        "251 error on testing set:  0.0996\n",
        "252\n",
        "252 error on training set:  0.0252\n",
        "252 error on testing set:  0.0992\n",
        "253"
       ]
      },
      {
       "output_type": "stream",
       "stream": "stdout",
       "text": [
        "\n",
        "253 error on training set:  0.0256\n",
        "253 error on testing set:  0.0988\n",
        "254\n",
        "254"
       ]
      },
      {
       "output_type": "stream",
       "stream": "stdout",
       "text": [
        " error on training set:  0.0252\n",
        "254 error on testing set:  0.1000\n",
        "255\n",
        "255 error on training set:  0.0244\n",
        "255 error on testing set:  0.0988\n",
        "256"
       ]
      },
      {
       "output_type": "stream",
       "stream": "stdout",
       "text": [
        "\n",
        "256 error on training set:  0.0256\n",
        "256 error on testing set:  0.0996\n",
        "257\n",
        "257"
       ]
      },
      {
       "output_type": "stream",
       "stream": "stdout",
       "text": [
        " error on training set:  0.0244\n",
        "257 error on testing set:  0.1000\n",
        "258\n",
        "258 error on training set:  0.0248\n",
        "258 error on testing set:  0.1012\n",
        "259"
       ]
      },
      {
       "output_type": "stream",
       "stream": "stdout",
       "text": [
        "\n",
        "259 error on training set:  0.0240\n",
        "259 error on testing set:  0.1016\n",
        "260"
       ]
      },
      {
       "output_type": "stream",
       "stream": "stdout",
       "text": [
        "\n",
        "260 error on training set:  0.0236\n",
        "260 error on testing set:  0.0984\n",
        "261"
       ]
      },
      {
       "output_type": "stream",
       "stream": "stdout",
       "text": [
        "\n",
        "261 error on training set:  0.0244\n",
        "261 error on testing set:  0.1000\n",
        "262\n",
        "262"
       ]
      },
      {
       "output_type": "stream",
       "stream": "stdout",
       "text": [
        " error on training set:  0.0240\n",
        "262 error on testing set:  0.1004\n",
        "263\n",
        "263 error on training set:  0.0240\n",
        "263 error on testing set:  0.0996\n",
        "264"
       ]
      },
      {
       "output_type": "stream",
       "stream": "stdout",
       "text": [
        "\n",
        "264 error on training set:  0.0244\n",
        "264 error on testing set:  0.0996\n",
        "265\n",
        "265"
       ]
      },
      {
       "output_type": "stream",
       "stream": "stdout",
       "text": [
        " error on training set:  0.0228\n",
        "265 error on testing set:  0.0984\n",
        "266\n",
        "266 error on training set:  0.0236\n",
        "266 error on testing set:  0.1008\n",
        "267"
       ]
      },
      {
       "output_type": "stream",
       "stream": "stdout",
       "text": [
        "\n",
        "267 error on training set:  0.0236\n",
        "267 error on testing set:  0.1000\n",
        "268\n",
        "268"
       ]
      },
      {
       "output_type": "stream",
       "stream": "stdout",
       "text": [
        " error on training set:  0.0224\n",
        "268 error on testing set:  0.0992\n",
        "269\n",
        "269 error on training set:  0.0216\n",
        "269 error on testing set:  0.0988\n",
        "270"
       ]
      },
      {
       "output_type": "stream",
       "stream": "stdout",
       "text": [
        "\n",
        "270 error on training set:  0.0224\n",
        "270 error on testing set:  0.0992\n",
        "271\n",
        "271"
       ]
      },
      {
       "output_type": "stream",
       "stream": "stdout",
       "text": [
        " error on training set:  0.0216\n",
        "271 error on testing set:  0.0992\n",
        "272\n",
        "272 error on training set:  0.0216\n",
        "272 error on testing set:  0.0984\n",
        "273"
       ]
      },
      {
       "output_type": "stream",
       "stream": "stdout",
       "text": [
        "\n",
        "273 error on training set:  0.0232\n",
        "273 error on testing set:  0.1016\n",
        "274\n",
        "274"
       ]
      },
      {
       "output_type": "stream",
       "stream": "stdout",
       "text": [
        " error on training set:  0.0224\n",
        "274 error on testing set:  0.0984\n",
        "275\n",
        "275 error on training set:  0.0220\n",
        "275 error on testing set:  0.1000\n",
        "276"
       ]
      },
      {
       "output_type": "stream",
       "stream": "stdout",
       "text": [
        "\n",
        "276 error on training set:  0.0220\n",
        "276 error on testing set:  0.0996\n",
        "277\n",
        "277"
       ]
      },
      {
       "output_type": "stream",
       "stream": "stdout",
       "text": [
        " error on training set:  0.0228\n",
        "277 error on testing set:  0.0988\n",
        "278\n",
        "278 error on training set:  0.0216\n",
        "278 error on testing set:  0.0972\n",
        "279"
       ]
      },
      {
       "output_type": "stream",
       "stream": "stdout",
       "text": [
        "\n",
        "279 error on training set:  0.0212\n",
        "279 error on testing set:  0.0984\n",
        "280"
       ]
      },
      {
       "output_type": "stream",
       "stream": "stdout",
       "text": [
        "\n",
        "280 error on training set:  0.0200\n",
        "280 error on testing set:  0.0988\n",
        "281\n",
        "281"
       ]
      },
      {
       "output_type": "stream",
       "stream": "stdout",
       "text": [
        " error on training set:  0.0208\n",
        "281 error on testing set:  0.0996\n",
        "282\n",
        "282 error on training set:  0.0196\n",
        "282 error on testing set:  0.0992\n",
        "283"
       ]
      },
      {
       "output_type": "stream",
       "stream": "stdout",
       "text": [
        "\n",
        "283 error on training set:  0.0216\n",
        "283 error on testing set:  0.1000\n",
        "284\n",
        "284"
       ]
      },
      {
       "output_type": "stream",
       "stream": "stdout",
       "text": [
        " error on training set:  0.0216\n",
        "284 error on testing set:  0.0976\n",
        "285\n",
        "285 error on training set:  0.0196\n",
        "285 error on testing set:  0.0988\n",
        "286"
       ]
      },
      {
       "output_type": "stream",
       "stream": "stdout",
       "text": [
        "\n",
        "286 error on training set:  0.0188\n",
        "286 error on testing set:  0.0988\n",
        "287\n",
        "287"
       ]
      },
      {
       "output_type": "stream",
       "stream": "stdout",
       "text": [
        " error on training set:  0.0204\n",
        "287 error on testing set:  0.0984\n",
        "288\n",
        "288 error on training set:  0.0200\n",
        "288 error on testing set:  0.0996\n",
        "289"
       ]
      },
      {
       "output_type": "stream",
       "stream": "stdout",
       "text": [
        "\n",
        "289 error on training set:  0.0196\n",
        "289 error on testing set:  0.0980\n",
        "290"
       ]
      },
      {
       "output_type": "stream",
       "stream": "stdout",
       "text": [
        "\n",
        "290 error on training set:  0.0200\n",
        "290 error on testing set:  0.0984\n",
        "291\n",
        "291"
       ]
      },
      {
       "output_type": "stream",
       "stream": "stdout",
       "text": [
        " error on training set:  0.0188\n",
        "291 error on testing set:  0.0988\n",
        "292\n",
        "292 error on training set:  0.0188\n",
        "292 error on testing set:  0.0980\n",
        "293"
       ]
      },
      {
       "output_type": "stream",
       "stream": "stdout",
       "text": [
        "\n",
        "293 error on training set:  0.0188\n",
        "293 error on testing set:  0.0992\n",
        "294\n",
        "294"
       ]
      },
      {
       "output_type": "stream",
       "stream": "stdout",
       "text": [
        " error on training set:  0.0192\n",
        "294 error on testing set:  0.0988\n",
        "295\n",
        "295 error on training set:  0.0192\n",
        "295 error on testing set:  0.0988\n",
        "296"
       ]
      },
      {
       "output_type": "stream",
       "stream": "stdout",
       "text": [
        "\n",
        "296 error on training set:  0.0188\n",
        "296 error on testing set:  0.0992\n",
        "297\n",
        "297"
       ]
      },
      {
       "output_type": "stream",
       "stream": "stdout",
       "text": [
        " error on training set:  0.0192\n",
        "297 error on testing set:  0.0988\n",
        "298\n",
        "298 error on training set:  0.0184\n",
        "298 error on testing set:  0.0988\n",
        "299"
       ]
      },
      {
       "output_type": "stream",
       "stream": "stdout",
       "text": [
        "\n",
        "299 error on training set:  0.0192\n",
        "299 error on testing set:  0.0972\n",
        "300"
       ]
      },
      {
       "output_type": "stream",
       "stream": "stdout",
       "text": [
        "\n",
        "300 error on training set:  0.0184\n",
        "300 error on testing set:  0.0980\n",
        "301\n",
        "301"
       ]
      },
      {
       "output_type": "stream",
       "stream": "stdout",
       "text": [
        " error on training set:  0.0184\n",
        "301 error on testing set:  0.1004\n",
        "302\n",
        "302 error on training set:  0.0188\n",
        "302 error on testing set:  0.0992\n",
        "303"
       ]
      },
      {
       "output_type": "stream",
       "stream": "stdout",
       "text": [
        "\n",
        "303 error on training set:  0.0188\n",
        "303 error on testing set:  0.0972\n",
        "304\n",
        "304"
       ]
      },
      {
       "output_type": "stream",
       "stream": "stdout",
       "text": [
        " error on training set:  0.0192\n",
        "304 error on testing set:  0.0988\n",
        "305\n",
        "305 error on training set:  0.0192\n",
        "305 error on testing set:  0.0992\n",
        "306"
       ]
      },
      {
       "output_type": "stream",
       "stream": "stdout",
       "text": [
        "\n",
        "306 error on training set:  0.0184\n",
        "306 error on testing set:  0.0988\n",
        "307\n",
        "307"
       ]
      },
      {
       "output_type": "stream",
       "stream": "stdout",
       "text": [
        " error on training set:  0.0184\n",
        "307 error on testing set:  0.0984\n",
        "308\n",
        "308 error on training set:  0.0180\n",
        "308 error on testing set:  0.1000\n",
        "309"
       ]
      },
      {
       "output_type": "stream",
       "stream": "stdout",
       "text": [
        "\n",
        "309 error on training set:  0.0184\n",
        "309 error on testing set:  0.1004\n",
        "310"
       ]
      },
      {
       "output_type": "stream",
       "stream": "stdout",
       "text": [
        "\n",
        "310 error on training set:  0.0184\n",
        "310 error on testing set:  0.0996\n",
        "311\n",
        "311"
       ]
      },
      {
       "output_type": "stream",
       "stream": "stdout",
       "text": [
        " error on training set:  0.0188\n",
        "311 error on testing set:  0.0996\n",
        "312\n",
        "312 error on training set:  0.0184\n",
        "312 error on testing set:  0.0996\n",
        "313"
       ]
      },
      {
       "output_type": "stream",
       "stream": "stdout",
       "text": [
        "\n",
        "313 error on training set:  0.0184\n",
        "313 error on testing set:  0.0992\n",
        "314\n",
        "314"
       ]
      },
      {
       "output_type": "stream",
       "stream": "stdout",
       "text": [
        " error on training set:  0.0180\n",
        "314 error on testing set:  0.1008\n",
        "315\n",
        "315 error on training set:  0.0176\n",
        "315 error on testing set:  0.1000\n",
        "316"
       ]
      },
      {
       "output_type": "stream",
       "stream": "stdout",
       "text": [
        "\n",
        "316 error on training set:  0.0168\n",
        "316 error on testing set:  0.0996\n",
        "317\n",
        "317"
       ]
      },
      {
       "output_type": "stream",
       "stream": "stdout",
       "text": [
        " error on training set:  0.0172\n",
        "317 error on testing set:  0.0996\n",
        "318\n",
        "318 error on training set:  0.0180\n",
        "318 error on testing set:  0.0996\n",
        "319"
       ]
      },
      {
       "output_type": "stream",
       "stream": "stdout",
       "text": [
        "\n",
        "319 error on training set:  0.0172\n",
        "319 error on testing set:  0.0988\n",
        "320"
       ]
      },
      {
       "output_type": "stream",
       "stream": "stdout",
       "text": [
        "\n",
        "320 error on training set:  0.0172\n",
        "320 error on testing set:  0.0992\n",
        "321\n",
        "321"
       ]
      },
      {
       "output_type": "stream",
       "stream": "stdout",
       "text": [
        " error on training set:  0.0180\n",
        "321 error on testing set:  0.0992\n",
        "322\n",
        "322 error on training set:  0.0164\n",
        "322 error on testing set:  0.0992\n",
        "323"
       ]
      },
      {
       "output_type": "stream",
       "stream": "stdout",
       "text": [
        "\n",
        "323 error on training set:  0.0168\n",
        "323 error on testing set:  0.1004\n",
        "324\n",
        "324"
       ]
      },
      {
       "output_type": "stream",
       "stream": "stdout",
       "text": [
        " error on training set:  0.0164\n",
        "324 error on testing set:  0.0988\n",
        "325\n",
        "325 error on training set:  0.0168\n",
        "325 error on testing set:  0.0996\n",
        "326"
       ]
      },
      {
       "output_type": "stream",
       "stream": "stdout",
       "text": [
        "\n",
        "326 error on training set:  0.0172\n",
        "326 error on testing set:  0.0988\n",
        "327"
       ]
      },
      {
       "output_type": "stream",
       "stream": "stdout",
       "text": [
        "\n",
        "327 error on training set:  0.0160\n",
        "327 error on testing set:  0.0984\n",
        "328\n",
        "328"
       ]
      },
      {
       "output_type": "stream",
       "stream": "stdout",
       "text": [
        " error on training set:  0.0168\n",
        "328 error on testing set:  0.0984\n",
        "329\n",
        "329 error on training set:  0.0160\n",
        "329 error on testing set:  0.1008\n",
        "330"
       ]
      },
      {
       "output_type": "stream",
       "stream": "stdout",
       "text": [
        "\n",
        "330 error on training set:  0.0156\n",
        "330 error on testing set:  0.0996\n",
        "331\n",
        "331"
       ]
      },
      {
       "output_type": "stream",
       "stream": "stdout",
       "text": [
        " error on training set:  0.0152\n",
        "331 error on testing set:  0.1000\n",
        "332\n",
        "332 error on training set:  0.0156\n",
        "332 error on testing set:  0.0996\n",
        "333"
       ]
      },
      {
       "output_type": "stream",
       "stream": "stdout",
       "text": [
        "\n",
        "333 error on training set:  0.0156\n",
        "333 error on testing set:  0.1004\n",
        "334\n",
        "334"
       ]
      },
      {
       "output_type": "stream",
       "stream": "stdout",
       "text": [
        " error on training set:  0.0160\n",
        "334 error on testing set:  0.0980\n",
        "335\n",
        "335 error on training set:  0.0168\n",
        "335 error on testing set:  0.0996\n",
        "336"
       ]
      },
      {
       "output_type": "stream",
       "stream": "stdout",
       "text": [
        "\n",
        "336 error on training set:  0.0160\n",
        "336 error on testing set:  0.1004\n",
        "337\n",
        "337"
       ]
      },
      {
       "output_type": "stream",
       "stream": "stdout",
       "text": [
        " error on training set:  0.0168\n",
        "337 error on testing set:  0.0992\n",
        "338\n",
        "338 error on training set:  0.0160\n",
        "338 error on testing set:  0.0992\n",
        "339"
       ]
      },
      {
       "output_type": "stream",
       "stream": "stdout",
       "text": [
        "\n",
        "339 error on training set:  0.0160\n",
        "339 error on testing set:  0.1012\n",
        "340"
       ]
      },
      {
       "output_type": "stream",
       "stream": "stdout",
       "text": [
        "\n",
        "340 error on training set:  0.0152\n",
        "340 error on testing set:  0.1008\n",
        "341\n",
        "341"
       ]
      },
      {
       "output_type": "stream",
       "stream": "stdout",
       "text": [
        " error on training set:  0.0156\n",
        "341 error on testing set:  0.0992\n",
        "342\n",
        "342 error on training set:  0.0156\n",
        "342 error on testing set:  0.1004\n",
        "343"
       ]
      },
      {
       "output_type": "stream",
       "stream": "stdout",
       "text": [
        "\n",
        "343 error on training set:  0.0156\n",
        "343 error on testing set:  0.0988\n",
        "344\n",
        "344"
       ]
      },
      {
       "output_type": "stream",
       "stream": "stdout",
       "text": [
        " error on training set:  0.0156\n",
        "344 error on testing set:  0.0996\n",
        "345\n",
        "345 error on training set:  0.0152\n",
        "345 error on testing set:  0.1004\n",
        "346"
       ]
      },
      {
       "output_type": "stream",
       "stream": "stdout",
       "text": [
        "\n",
        "346 error on training set:  0.0148\n",
        "346 error on testing set:  0.0992\n",
        "347\n",
        "347"
       ]
      },
      {
       "output_type": "stream",
       "stream": "stdout",
       "text": [
        " error on training set:  0.0148\n",
        "347 error on testing set:  0.0996\n",
        "348\n",
        "348 error on training set:  0.0148\n",
        "348 error on testing set:  0.0984\n",
        "349"
       ]
      },
      {
       "output_type": "stream",
       "stream": "stdout",
       "text": [
        "\n",
        "349 error on training set:  0.0148\n",
        "349 error on testing set:  0.0988\n",
        "350"
       ]
      },
      {
       "output_type": "stream",
       "stream": "stdout",
       "text": [
        "\n",
        "350 error on training set:  0.0144\n",
        "350 error on testing set:  0.0980\n",
        "351\n",
        "351"
       ]
      },
      {
       "output_type": "stream",
       "stream": "stdout",
       "text": [
        " error on training set:  0.0152\n",
        "351 error on testing set:  0.1012\n",
        "352\n",
        "352 error on training set:  0.0152\n",
        "352 error on testing set:  0.1004\n",
        "353"
       ]
      },
      {
       "output_type": "stream",
       "stream": "stdout",
       "text": [
        "\n",
        "353 error on training set:  0.0156\n",
        "353 error on testing set:  0.0996\n",
        "354\n",
        "354"
       ]
      },
      {
       "output_type": "stream",
       "stream": "stdout",
       "text": [
        " error on training set:  0.0144\n",
        "354 error on testing set:  0.1008\n",
        "355\n",
        "355 error on training set:  0.0156\n",
        "355 error on testing set:  0.0992\n",
        "356"
       ]
      },
      {
       "output_type": "stream",
       "stream": "stdout",
       "text": [
        "\n",
        "356 error on training set:  0.0144\n",
        "356 error on testing set:  0.0988\n",
        "357\n",
        "357"
       ]
      },
      {
       "output_type": "stream",
       "stream": "stdout",
       "text": [
        " error on training set:  0.0152\n",
        "357 error on testing set:  0.1004\n",
        "358\n",
        "358 error on training set:  0.0140\n",
        "358 error on testing set:  0.1008\n",
        "359"
       ]
      },
      {
       "output_type": "stream",
       "stream": "stdout",
       "text": [
        "\n",
        "359 error on training set:  0.0144\n",
        "359 error on testing set:  0.0992\n",
        "360"
       ]
      },
      {
       "output_type": "stream",
       "stream": "stdout",
       "text": [
        "\n",
        "360 error on training set:  0.0152\n",
        "360 error on testing set:  0.1000\n",
        "361\n",
        "361"
       ]
      },
      {
       "output_type": "stream",
       "stream": "stdout",
       "text": [
        " error on training set:  0.0136\n",
        "361 error on testing set:  0.0996\n",
        "362\n",
        "362 error on training set:  0.0136\n",
        "362 error on testing set:  0.0984\n",
        "363"
       ]
      },
      {
       "output_type": "stream",
       "stream": "stdout",
       "text": [
        "\n",
        "363 error on training set:  0.0140\n",
        "363 error on testing set:  0.0992\n",
        "364\n",
        "364"
       ]
      },
      {
       "output_type": "stream",
       "stream": "stdout",
       "text": [
        " error on training set:  0.0140\n",
        "364 error on testing set:  0.1004\n",
        "365\n",
        "365 error on training set:  0.0140\n",
        "365 error on testing set:  0.1000\n",
        "366"
       ]
      },
      {
       "output_type": "stream",
       "stream": "stdout",
       "text": [
        "\n",
        "366 error on training set:  0.0140\n",
        "366 error on testing set:  0.0992\n",
        "367\n",
        "367"
       ]
      },
      {
       "output_type": "stream",
       "stream": "stdout",
       "text": [
        " error on training set:  0.0140\n",
        "367 error on testing set:  0.0992\n",
        "368\n",
        "368 error on training set:  0.0136\n",
        "368 error on testing set:  0.0992\n",
        "369"
       ]
      },
      {
       "output_type": "stream",
       "stream": "stdout",
       "text": [
        "\n",
        "369 error on training set:  0.0140\n",
        "369 error on testing set:  0.0988\n",
        "370"
       ]
      },
      {
       "output_type": "stream",
       "stream": "stdout",
       "text": [
        "\n",
        "370 error on training set:  0.0136\n",
        "370 error on testing set:  0.0996\n",
        "371"
       ]
      },
      {
       "output_type": "stream",
       "stream": "stdout",
       "text": [
        "\n",
        "371 error on training set:  0.0136\n",
        "371 error on testing set:  0.1016\n",
        "372\n",
        "372"
       ]
      },
      {
       "output_type": "stream",
       "stream": "stdout",
       "text": [
        " error on training set:  0.0132\n",
        "372 error on testing set:  0.0996\n",
        "373\n",
        "373 error on training set:  0.0132\n",
        "373 error on testing set:  0.0972\n",
        "374"
       ]
      },
      {
       "output_type": "stream",
       "stream": "stdout",
       "text": [
        "\n",
        "374 error on training set:  0.0136\n",
        "374 error on testing set:  0.1000\n",
        "375\n",
        "375"
       ]
      },
      {
       "output_type": "stream",
       "stream": "stdout",
       "text": [
        " error on training set:  0.0136\n",
        "375 error on testing set:  0.1012\n",
        "376\n",
        "376 error on training set:  0.0132\n",
        "376 error on testing set:  0.1008\n",
        "377"
       ]
      },
      {
       "output_type": "stream",
       "stream": "stdout",
       "text": [
        "\n",
        "377 error on training set:  0.0132\n",
        "377 error on testing set:  0.0992\n",
        "378\n",
        "378"
       ]
      },
      {
       "output_type": "stream",
       "stream": "stdout",
       "text": [
        " error on training set:  0.0132\n",
        "378 error on testing set:  0.1012\n",
        "379\n",
        "379 error on training set:  0.0132\n",
        "379 error on testing set:  0.0980\n",
        "380"
       ]
      },
      {
       "output_type": "stream",
       "stream": "stdout",
       "text": [
        "\n",
        "380 error on training set:  0.0132\n",
        "380 error on testing set:  0.1012\n",
        "381\n",
        "381"
       ]
      },
      {
       "output_type": "stream",
       "stream": "stdout",
       "text": [
        " error on training set:  0.0128\n",
        "381 error on testing set:  0.1008\n",
        "382\n",
        "382 error on training set:  0.0132\n",
        "382 error on testing set:  0.0996\n",
        "383"
       ]
      },
      {
       "output_type": "stream",
       "stream": "stdout",
       "text": [
        "\n",
        "383 error on training set:  0.0128\n",
        "383 error on testing set:  0.1012\n",
        "384\n",
        "384"
       ]
      },
      {
       "output_type": "stream",
       "stream": "stdout",
       "text": [
        " error on training set:  0.0128\n",
        "384 error on testing set:  0.1004\n",
        "385\n",
        "385 error on training set:  0.0128\n",
        "385 error on testing set:  0.0996\n",
        "386"
       ]
      },
      {
       "output_type": "stream",
       "stream": "stdout",
       "text": [
        "\n",
        "386 error on training set:  0.0128\n",
        "386 error on testing set:  0.0984\n",
        "387\n",
        "387"
       ]
      },
      {
       "output_type": "stream",
       "stream": "stdout",
       "text": [
        " error on training set:  0.0128\n",
        "387 error on testing set:  0.1004\n",
        "388\n",
        "388 error on training set:  0.0128\n",
        "388 error on testing set:  0.1008\n",
        "389"
       ]
      },
      {
       "output_type": "stream",
       "stream": "stdout",
       "text": [
        "\n",
        "389 error on training set:  0.0128\n",
        "389 error on testing set:  0.1000\n",
        "390"
       ]
      },
      {
       "output_type": "stream",
       "stream": "stdout",
       "text": [
        "\n",
        "390 error on training set:  0.0128\n",
        "390 error on testing set:  0.1008\n",
        "391\n",
        "391"
       ]
      },
      {
       "output_type": "stream",
       "stream": "stdout",
       "text": [
        " error on training set:  0.0128\n",
        "391 error on testing set:  0.0992\n",
        "392\n",
        "392 error on training set:  0.0128\n",
        "392 error on testing set:  0.1000\n",
        "393"
       ]
      },
      {
       "output_type": "stream",
       "stream": "stdout",
       "text": [
        "\n",
        "393 error on training set:  0.0124\n",
        "393 error on testing set:  0.0992\n",
        "394\n",
        "394"
       ]
      },
      {
       "output_type": "stream",
       "stream": "stdout",
       "text": [
        " error on training set:  0.0124\n",
        "394 error on testing set:  0.1020\n",
        "395\n",
        "395 error on training set:  0.0128\n",
        "395 error on testing set:  0.1000\n",
        "396"
       ]
      },
      {
       "output_type": "stream",
       "stream": "stdout",
       "text": [
        "\n",
        "396 error on training set:  0.0128\n",
        "396 error on testing set:  0.0996\n",
        "397\n",
        "397"
       ]
      },
      {
       "output_type": "stream",
       "stream": "stdout",
       "text": [
        " error on training set:  0.0128\n",
        "397 error on testing set:  0.1000\n",
        "398\n",
        "398 error on training set:  0.0124\n",
        "398 error on testing set:  0.0996\n",
        "399"
       ]
      },
      {
       "output_type": "stream",
       "stream": "stdout",
       "text": [
        "\n",
        "399 error on training set:  0.0120\n",
        "399 error on testing set:  0.1000\n",
        "400"
       ]
      },
      {
       "output_type": "stream",
       "stream": "stdout",
       "text": [
        "\n",
        "400 error on training set:  0.0128\n",
        "400 error on testing set:  0.1000\n",
        "401\n",
        "401"
       ]
      },
      {
       "output_type": "stream",
       "stream": "stdout",
       "text": [
        " error on training set:  0.0128\n",
        "401 error on testing set:  0.0996\n",
        "402"
       ]
      },
      {
       "output_type": "stream",
       "stream": "stdout",
       "text": [
        "\n",
        "402 error on training set:  0.0124\n",
        "402 error on testing set:  0.1004\n",
        "403"
       ]
      },
      {
       "output_type": "stream",
       "stream": "stdout",
       "text": [
        "\n",
        "403 error on training set:  0.0128\n",
        "403 error on testing set:  0.1000\n",
        "404\n",
        "404"
       ]
      },
      {
       "output_type": "stream",
       "stream": "stdout",
       "text": [
        " error on training set:  0.0124\n",
        "404 error on testing set:  0.1004\n",
        "405\n",
        "405 error on training set:  0.0124\n",
        "405 error on testing set:  0.0992\n",
        "406"
       ]
      },
      {
       "output_type": "stream",
       "stream": "stdout",
       "text": [
        "\n",
        "406 error on training set:  0.0128\n",
        "406 error on testing set:  0.1008\n",
        "407\n",
        "407"
       ]
      },
      {
       "output_type": "stream",
       "stream": "stdout",
       "text": [
        " error on training set:  0.0124\n",
        "407 error on testing set:  0.0996\n",
        "408\n",
        "408 error on training set:  0.0124\n",
        "408 error on testing set:  0.1012\n",
        "409"
       ]
      },
      {
       "output_type": "stream",
       "stream": "stdout",
       "text": [
        "\n",
        "409 error on training set:  0.0120\n",
        "409 error on testing set:  0.0988\n",
        "410"
       ]
      },
      {
       "output_type": "stream",
       "stream": "stdout",
       "text": [
        "\n",
        "410 error on training set:  0.0120\n",
        "410 error on testing set:  0.0988\n",
        "411\n",
        "411"
       ]
      },
      {
       "output_type": "stream",
       "stream": "stdout",
       "text": [
        " error on training set:  0.0120\n",
        "411 error on testing set:  0.0992\n",
        "412\n",
        "412 error on training set:  0.0120\n",
        "412 error on testing set:  0.1008\n",
        "413"
       ]
      },
      {
       "output_type": "stream",
       "stream": "stdout",
       "text": [
        "\n",
        "413 error on training set:  0.0120\n",
        "413 error on testing set:  0.0984\n",
        "414\n",
        "414"
       ]
      },
      {
       "output_type": "stream",
       "stream": "stdout",
       "text": [
        " error on training set:  0.0124\n",
        "414 error on testing set:  0.0992\n",
        "415\n",
        "415 error on training set:  0.0120\n",
        "415 error on testing set:  0.1012\n",
        "416"
       ]
      },
      {
       "output_type": "stream",
       "stream": "stdout",
       "text": [
        "\n",
        "416 error on training set:  0.0124\n",
        "416 error on testing set:  0.1008\n",
        "417\n",
        "417"
       ]
      },
      {
       "output_type": "stream",
       "stream": "stdout",
       "text": [
        " error on training set:  0.0120\n",
        "417 error on testing set:  0.0988\n",
        "418\n",
        "418 error on training set:  0.0120\n",
        "418 error on testing set:  0.1004\n",
        "419"
       ]
      },
      {
       "output_type": "stream",
       "stream": "stdout",
       "text": [
        "\n",
        "419 error on training set:  0.0116\n",
        "419 error on testing set:  0.1004\n",
        "420"
       ]
      },
      {
       "output_type": "stream",
       "stream": "stdout",
       "text": [
        "\n",
        "420 error on training set:  0.0120\n",
        "420 error on testing set:  0.1004\n",
        "421\n",
        "421"
       ]
      },
      {
       "output_type": "stream",
       "stream": "stdout",
       "text": [
        " error on training set:  0.0120\n",
        "421 error on testing set:  0.1016\n",
        "422\n",
        "422 error on training set:  0.0116\n",
        "422 error on testing set:  0.1008\n",
        "423"
       ]
      },
      {
       "output_type": "stream",
       "stream": "stdout",
       "text": [
        "\n",
        "423 error on training set:  0.0120\n",
        "423 error on testing set:  0.1008\n",
        "424\n",
        "424"
       ]
      },
      {
       "output_type": "stream",
       "stream": "stdout",
       "text": [
        " error on training set:  0.0112\n",
        "424 error on testing set:  0.0992\n",
        "425\n",
        "425 error on training set:  0.0116\n",
        "425 error on testing set:  0.0996\n",
        "426"
       ]
      },
      {
       "output_type": "stream",
       "stream": "stdout",
       "text": [
        "\n",
        "426 error on training set:  0.0120\n",
        "426 error on testing set:  0.0988\n",
        "427\n",
        "427"
       ]
      },
      {
       "output_type": "stream",
       "stream": "stdout",
       "text": [
        " error on training set:  0.0120\n",
        "427 error on testing set:  0.1000\n",
        "428\n",
        "428 error on training set:  0.0120\n",
        "428 error on testing set:  0.1016\n",
        "429"
       ]
      },
      {
       "output_type": "stream",
       "stream": "stdout",
       "text": [
        "\n",
        "429 error on training set:  0.0116\n",
        "429 error on testing set:  0.0996\n",
        "430"
       ]
      },
      {
       "output_type": "stream",
       "stream": "stdout",
       "text": [
        "\n",
        "430 error on training set:  0.0112\n",
        "430 error on testing set:  0.1016\n",
        "431\n",
        "431"
       ]
      },
      {
       "output_type": "stream",
       "stream": "stdout",
       "text": [
        " error on training set:  0.0116\n",
        "431 error on testing set:  0.1008\n",
        "432\n",
        "432 error on training set:  0.0112\n",
        "432 error on testing set:  0.0992\n",
        "433"
       ]
      },
      {
       "output_type": "stream",
       "stream": "stdout",
       "text": [
        "\n",
        "433 error on training set:  0.0116\n",
        "433 error on testing set:  0.1000\n",
        "434\n",
        "434"
       ]
      },
      {
       "output_type": "stream",
       "stream": "stdout",
       "text": [
        " error on training set:  0.0112\n",
        "434 error on testing set:  0.0996\n",
        "435\n",
        "435 error on training set:  0.0112\n",
        "435 error on testing set:  0.0984\n",
        "436"
       ]
      },
      {
       "output_type": "stream",
       "stream": "stdout",
       "text": [
        "\n",
        "436 error on training set:  0.0116\n",
        "436 error on testing set:  0.1000\n",
        "437\n",
        "437"
       ]
      },
      {
       "output_type": "stream",
       "stream": "stdout",
       "text": [
        " error on training set:  0.0112\n",
        "437 error on testing set:  0.0992\n",
        "438\n",
        "438 error on training set:  0.0116\n",
        "438 error on testing set:  0.1000\n",
        "439"
       ]
      },
      {
       "output_type": "stream",
       "stream": "stdout",
       "text": [
        "\n",
        "439 error on training set:  0.0116\n",
        "439 error on testing set:  0.1016\n",
        "440"
       ]
      },
      {
       "output_type": "stream",
       "stream": "stdout",
       "text": [
        "\n",
        "440 error on training set:  0.0112\n",
        "440 error on testing set:  0.1020\n",
        "441\n",
        "441"
       ]
      },
      {
       "output_type": "stream",
       "stream": "stdout",
       "text": [
        " error on training set:  0.0112\n",
        "441 error on testing set:  0.1008\n",
        "442\n",
        "442 error on training set:  0.0116\n",
        "442 error on testing set:  0.1000\n",
        "443"
       ]
      },
      {
       "output_type": "stream",
       "stream": "stdout",
       "text": [
        "\n",
        "443 error on training set:  0.0112\n",
        "443 error on testing set:  0.1008\n",
        "444\n",
        "444"
       ]
      },
      {
       "output_type": "stream",
       "stream": "stdout",
       "text": [
        " error on training set:  0.0112\n",
        "444 error on testing set:  0.1008\n",
        "445\n",
        "445 error on training set:  0.0108\n",
        "445 error on testing set:  0.1000\n",
        "446"
       ]
      },
      {
       "output_type": "stream",
       "stream": "stdout",
       "text": [
        "\n",
        "446 error on training set:  0.0116\n",
        "446 error on testing set:  0.1004\n",
        "447\n",
        "447"
       ]
      },
      {
       "output_type": "stream",
       "stream": "stdout",
       "text": [
        " error on training set:  0.0108\n",
        "447 error on testing set:  0.1000\n",
        "448\n",
        "448 error on training set:  0.0112\n",
        "448 error on testing set:  0.1004\n",
        "449"
       ]
      },
      {
       "output_type": "stream",
       "stream": "stdout",
       "text": [
        "\n",
        "449 error on training set:  0.0116\n",
        "449 error on testing set:  0.1008\n",
        "450"
       ]
      },
      {
       "output_type": "stream",
       "stream": "stdout",
       "text": [
        "\n",
        "450 error on training set:  0.0112\n",
        "450 error on testing set:  0.1012\n",
        "451\n",
        "451"
       ]
      },
      {
       "output_type": "stream",
       "stream": "stdout",
       "text": [
        " error on training set:  0.0116\n",
        "451 error on testing set:  0.1016\n",
        "452\n",
        "452 error on training set:  0.0108\n",
        "452 error on testing set:  0.1008\n",
        "453"
       ]
      },
      {
       "output_type": "stream",
       "stream": "stdout",
       "text": [
        "\n",
        "453 error on training set:  0.0112\n",
        "453 error on testing set:  0.1004\n",
        "454\n",
        "454"
       ]
      },
      {
       "output_type": "stream",
       "stream": "stdout",
       "text": [
        " error on training set:  0.0112\n",
        "454 error on testing set:  0.1008\n",
        "455\n",
        "455 error on training set:  0.0116\n",
        "455 error on testing set:  0.1008\n",
        "456"
       ]
      },
      {
       "output_type": "stream",
       "stream": "stdout",
       "text": [
        "\n",
        "456 error on training set:  0.0108\n",
        "456 error on testing set:  0.0996\n",
        "457\n",
        "457"
       ]
      },
      {
       "output_type": "stream",
       "stream": "stdout",
       "text": [
        " error on training set:  0.0108\n",
        "457 error on testing set:  0.0988\n",
        "458\n",
        "458 error on training set:  0.0116\n",
        "458 error on testing set:  0.0996\n",
        "459"
       ]
      },
      {
       "output_type": "stream",
       "stream": "stdout",
       "text": [
        "\n",
        "459 error on training set:  0.0108\n",
        "459 error on testing set:  0.1004\n",
        "460"
       ]
      },
      {
       "output_type": "stream",
       "stream": "stdout",
       "text": [
        "\n",
        "460 error on training set:  0.0112\n",
        "460 error on testing set:  0.0988\n",
        "461\n",
        "461"
       ]
      },
      {
       "output_type": "stream",
       "stream": "stdout",
       "text": [
        " error on training set:  0.0112\n",
        "461 error on testing set:  0.1000\n",
        "462\n",
        "462 error on training set:  0.0112\n",
        "462 error on testing set:  0.0988\n",
        "463"
       ]
      },
      {
       "output_type": "stream",
       "stream": "stdout",
       "text": [
        "\n",
        "463 error on training set:  0.0112\n",
        "463 error on testing set:  0.0992\n",
        "464\n",
        "464"
       ]
      },
      {
       "output_type": "stream",
       "stream": "stdout",
       "text": [
        " error on training set:  0.0112\n",
        "464 error on testing set:  0.1008\n",
        "465\n",
        "465 error on training set:  0.0108\n",
        "465 error on testing set:  0.1008\n",
        "466"
       ]
      },
      {
       "output_type": "stream",
       "stream": "stdout",
       "text": [
        "\n",
        "466 error on training set:  0.0108\n",
        "466 error on testing set:  0.0996\n",
        "467\n",
        "467"
       ]
      },
      {
       "output_type": "stream",
       "stream": "stdout",
       "text": [
        " error on training set:  0.0108\n",
        "467 error on testing set:  0.1012\n",
        "468\n",
        "468 error on training set:  0.0108\n",
        "468 error on testing set:  0.1000\n",
        "469"
       ]
      },
      {
       "output_type": "stream",
       "stream": "stdout",
       "text": [
        "\n",
        "469 error on training set:  0.0108\n",
        "469 error on testing set:  0.0996\n",
        "470"
       ]
      },
      {
       "output_type": "stream",
       "stream": "stdout",
       "text": [
        "\n",
        "470 error on training set:  0.0108\n",
        "470 error on testing set:  0.0996\n",
        "471\n",
        "471"
       ]
      },
      {
       "output_type": "stream",
       "stream": "stdout",
       "text": [
        " error on training set:  0.0108\n",
        "471 error on testing set:  0.1016\n",
        "472\n",
        "472 error on training set:  0.0108\n",
        "472 error on testing set:  0.1008\n",
        "473"
       ]
      },
      {
       "output_type": "stream",
       "stream": "stdout",
       "text": [
        "\n",
        "473 error on training set:  0.0108\n",
        "473 error on testing set:  0.0996\n",
        "474\n",
        "474"
       ]
      },
      {
       "output_type": "stream",
       "stream": "stdout",
       "text": [
        " error on training set:  0.0108\n",
        "474 error on testing set:  0.1004\n",
        "475\n",
        "475 error on training set:  0.0104\n",
        "475 error on testing set:  0.0992\n",
        "476"
       ]
      },
      {
       "output_type": "stream",
       "stream": "stdout",
       "text": [
        "\n",
        "476 error on training set:  0.0104\n",
        "476 error on testing set:  0.1000\n",
        "477\n",
        "477"
       ]
      },
      {
       "output_type": "stream",
       "stream": "stdout",
       "text": [
        " error on training set:  0.0108\n",
        "477 error on testing set:  0.1012\n",
        "478\n",
        "478 error on training set:  0.0108\n",
        "478 error on testing set:  0.1000\n",
        "479"
       ]
      },
      {
       "output_type": "stream",
       "stream": "stdout",
       "text": [
        "\n",
        "479 error on training set:  0.0108\n",
        "479 error on testing set:  0.0996\n",
        "480"
       ]
      },
      {
       "output_type": "stream",
       "stream": "stdout",
       "text": [
        "\n",
        "480 error on training set:  0.0100\n",
        "480 error on testing set:  0.1004\n",
        "481\n",
        "481"
       ]
      },
      {
       "output_type": "stream",
       "stream": "stdout",
       "text": [
        " error on training set:  0.0104\n",
        "481 error on testing set:  0.1004\n",
        "482\n",
        "482 error on training set:  0.0100\n",
        "482 error on testing set:  0.1004\n",
        "483"
       ]
      },
      {
       "output_type": "stream",
       "stream": "stdout",
       "text": [
        "\n",
        "483 error on training set:  0.0108\n",
        "483 error on testing set:  0.1008\n",
        "484\n",
        "484"
       ]
      },
      {
       "output_type": "stream",
       "stream": "stdout",
       "text": [
        " error on training set:  0.0100\n",
        "484 error on testing set:  0.0996\n",
        "485\n",
        "485 error on training set:  0.0100\n",
        "485 error on testing set:  0.1000\n",
        "486"
       ]
      },
      {
       "output_type": "stream",
       "stream": "stdout",
       "text": [
        "\n",
        "486 error on training set:  0.0108\n",
        "486 error on testing set:  0.0996\n",
        "487\n",
        "487"
       ]
      },
      {
       "output_type": "stream",
       "stream": "stdout",
       "text": [
        " error on training set:  0.0104\n",
        "487 error on testing set:  0.0996\n",
        "488\n",
        "488 error on training set:  0.0104\n",
        "488 error on testing set:  0.0996\n",
        "489"
       ]
      },
      {
       "output_type": "stream",
       "stream": "stdout",
       "text": [
        "\n",
        "489 error on training set:  0.0104\n",
        "489 error on testing set:  0.1004\n",
        "490"
       ]
      },
      {
       "output_type": "stream",
       "stream": "stdout",
       "text": [
        "\n",
        "490 error on training set:  0.0104\n",
        "490 error on testing set:  0.1004\n",
        "491\n",
        "491"
       ]
      },
      {
       "output_type": "stream",
       "stream": "stdout",
       "text": [
        " error on training set:  0.0104\n",
        "491 error on testing set:  0.1000\n",
        "492\n",
        "492 error on training set:  0.0104\n",
        "492 error on testing set:  0.0996\n",
        "493"
       ]
      },
      {
       "output_type": "stream",
       "stream": "stdout",
       "text": [
        "\n",
        "493 error on training set:  0.0100\n",
        "493 error on testing set:  0.0996\n",
        "494\n",
        "494"
       ]
      },
      {
       "output_type": "stream",
       "stream": "stdout",
       "text": [
        " error on training set:  0.0104\n",
        "494 error on testing set:  0.1004\n",
        "495\n",
        "495 error on training set:  0.0100\n",
        "495 error on testing set:  0.1000\n",
        "496"
       ]
      },
      {
       "output_type": "stream",
       "stream": "stdout",
       "text": [
        "\n",
        "496 error on training set:  0.0100\n",
        "496 error on testing set:  0.1000\n",
        "497\n",
        "497"
       ]
      },
      {
       "output_type": "stream",
       "stream": "stdout",
       "text": [
        " error on training set:  0.0100\n",
        "497 error on testing set:  0.1004\n",
        "498\n",
        "498 error on training set:  0.0104\n",
        "498 error on testing set:  0.1004\n",
        "499"
       ]
      },
      {
       "output_type": "stream",
       "stream": "stdout",
       "text": [
        "\n",
        "499 error on training set:  0.0100\n",
        "499 error on testing set:  0.0996\n",
        "500"
       ]
      },
      {
       "output_type": "stream",
       "stream": "stdout",
       "text": [
        "\n",
        "500 error on training set:  0.0100\n",
        "500 error on testing set:  0.0996\n",
        "501\n",
        "501"
       ]
      },
      {
       "output_type": "stream",
       "stream": "stdout",
       "text": [
        " error on training set:  0.0096\n",
        "501 error on testing set:  0.0992\n",
        "502\n",
        "502 error on training set:  0.0100\n",
        "502 error on testing set:  0.1000\n",
        "503"
       ]
      },
      {
       "output_type": "stream",
       "stream": "stdout",
       "text": [
        "\n",
        "503 error on training set:  0.0100\n",
        "503 error on testing set:  0.1004\n",
        "504\n",
        "504"
       ]
      },
      {
       "output_type": "stream",
       "stream": "stdout",
       "text": [
        " error on training set:  0.0100\n",
        "504 error on testing set:  0.1004\n",
        "505\n",
        "505 error on training set:  0.0100\n",
        "505 error on testing set:  0.1008\n",
        "506"
       ]
      },
      {
       "output_type": "stream",
       "stream": "stdout",
       "text": [
        "\n",
        "506 error on training set:  0.0104\n",
        "506 error on testing set:  0.1000\n",
        "507\n",
        "507"
       ]
      },
      {
       "output_type": "stream",
       "stream": "stdout",
       "text": [
        " error on training set:  0.0100\n",
        "507 error on testing set:  0.1008\n",
        "508\n",
        "508 error on training set:  0.0104\n",
        "508 error on testing set:  0.0996\n",
        "509"
       ]
      },
      {
       "output_type": "stream",
       "stream": "stdout",
       "text": [
        "\n",
        "509 error on training set:  0.0100\n",
        "509 error on testing set:  0.0992\n",
        "510"
       ]
      },
      {
       "output_type": "stream",
       "stream": "stdout",
       "text": [
        "\n",
        "510 error on training set:  0.0096\n",
        "510 error on testing set:  0.1000\n",
        "511\n",
        "511"
       ]
      },
      {
       "output_type": "stream",
       "stream": "stdout",
       "text": [
        " error on training set:  0.0088\n",
        "511 error on testing set:  0.1000\n",
        "512\n",
        "512 error on training set:  0.0100\n",
        "512 error on testing set:  0.1008\n",
        "513"
       ]
      },
      {
       "output_type": "stream",
       "stream": "stdout",
       "text": [
        "\n",
        "513 error on training set:  0.0096\n",
        "513 error on testing set:  0.1008\n",
        "514\n",
        "514"
       ]
      },
      {
       "output_type": "stream",
       "stream": "stdout",
       "text": [
        " error on training set:  0.0088\n",
        "514 error on testing set:  0.1008\n",
        "515\n",
        "515 error on training set:  0.0088\n",
        "515 error on testing set:  0.1016\n",
        "516"
       ]
      },
      {
       "output_type": "stream",
       "stream": "stdout",
       "text": [
        "\n",
        "516 error on training set:  0.0100\n",
        "516 error on testing set:  0.0996\n",
        "517\n",
        "517"
       ]
      },
      {
       "output_type": "stream",
       "stream": "stdout",
       "text": [
        " error on training set:  0.0088\n",
        "517 error on testing set:  0.1016\n",
        "518\n",
        "518 error on training set:  0.0084\n",
        "518 error on testing set:  0.1004\n",
        "519"
       ]
      },
      {
       "output_type": "stream",
       "stream": "stdout",
       "text": [
        "\n",
        "519 error on training set:  0.0088\n",
        "519 error on testing set:  0.1000\n",
        "520"
       ]
      },
      {
       "output_type": "stream",
       "stream": "stdout",
       "text": [
        "\n",
        "520 error on training set:  0.0088\n",
        "520 error on testing set:  0.0996\n",
        "521\n",
        "521"
       ]
      },
      {
       "output_type": "stream",
       "stream": "stdout",
       "text": [
        " error on training set:  0.0092\n",
        "521 error on testing set:  0.1000\n",
        "522\n",
        "522 error on training set:  0.0084\n",
        "522 error on testing set:  0.1012\n",
        "523"
       ]
      },
      {
       "output_type": "stream",
       "stream": "stdout",
       "text": [
        "\n",
        "523 error on training set:  0.0084\n",
        "523 error on testing set:  0.0996\n",
        "524\n",
        "524"
       ]
      },
      {
       "output_type": "stream",
       "stream": "stdout",
       "text": [
        " error on training set:  0.0084\n",
        "524 error on testing set:  0.1008\n",
        "525\n",
        "525 error on training set:  0.0088\n",
        "525 error on testing set:  0.1000\n",
        "526"
       ]
      },
      {
       "output_type": "stream",
       "stream": "stdout",
       "text": [
        "\n",
        "526 error on training set:  0.0076\n",
        "526 error on testing set:  0.1000\n",
        "527\n",
        "527"
       ]
      },
      {
       "output_type": "stream",
       "stream": "stdout",
       "text": [
        " error on training set:  0.0084\n",
        "527 error on testing set:  0.0988\n",
        "528\n",
        "528 error on training set:  0.0084\n",
        "528 error on testing set:  0.1008\n",
        "529"
       ]
      },
      {
       "output_type": "stream",
       "stream": "stdout",
       "text": [
        "\n",
        "529 error on training set:  0.0080\n",
        "529 error on testing set:  0.1004\n",
        "530"
       ]
      },
      {
       "output_type": "stream",
       "stream": "stdout",
       "text": [
        "\n",
        "530 error on training set:  0.0080\n",
        "530 error on testing set:  0.1012\n",
        "531\n",
        "531"
       ]
      },
      {
       "output_type": "stream",
       "stream": "stdout",
       "text": [
        " error on training set:  0.0080\n",
        "531 error on testing set:  0.1008\n",
        "532\n",
        "532 error on training set:  0.0084\n",
        "532 error on testing set:  0.1012\n",
        "533"
       ]
      },
      {
       "output_type": "stream",
       "stream": "stdout",
       "text": [
        "\n",
        "533 error on training set:  0.0080\n",
        "533 error on testing set:  0.1012\n",
        "534\n",
        "534"
       ]
      },
      {
       "output_type": "stream",
       "stream": "stdout",
       "text": [
        " error on training set:  0.0080\n",
        "534 error on testing set:  0.1016\n",
        "535\n",
        "535 error on training set:  0.0076\n",
        "535 error on testing set:  0.1008\n",
        "536"
       ]
      },
      {
       "output_type": "stream",
       "stream": "stdout",
       "text": [
        "\n",
        "536 error on training set:  0.0072\n",
        "536 error on testing set:  0.1020\n",
        "537\n",
        "537"
       ]
      },
      {
       "output_type": "stream",
       "stream": "stdout",
       "text": [
        " error on training set:  0.0076\n",
        "537 error on testing set:  0.1000\n",
        "538\n",
        "538 error on training set:  0.0072\n",
        "538 error on testing set:  0.1008\n",
        "539"
       ]
      },
      {
       "output_type": "stream",
       "stream": "stdout",
       "text": [
        "\n",
        "539 error on training set:  0.0076\n",
        "539 error on testing set:  0.1008\n",
        "540"
       ]
      },
      {
       "output_type": "stream",
       "stream": "stdout",
       "text": [
        "\n",
        "540 error on training set:  0.0080\n",
        "540 error on testing set:  0.1012\n",
        "541\n",
        "541"
       ]
      },
      {
       "output_type": "stream",
       "stream": "stdout",
       "text": [
        " error on training set:  0.0076\n",
        "541 error on testing set:  0.1000\n",
        "542\n",
        "542 error on training set:  0.0076\n",
        "542 error on testing set:  0.1004\n",
        "543"
       ]
      },
      {
       "output_type": "stream",
       "stream": "stdout",
       "text": [
        "\n",
        "543 error on training set:  0.0076\n",
        "543 error on testing set:  0.1000\n",
        "544\n",
        "544"
       ]
      },
      {
       "output_type": "stream",
       "stream": "stdout",
       "text": [
        " error on training set:  0.0076\n",
        "544 error on testing set:  0.1004\n",
        "545\n",
        "545 error on training set:  0.0072\n",
        "545 error on testing set:  0.1000\n",
        "546"
       ]
      },
      {
       "output_type": "stream",
       "stream": "stdout",
       "text": [
        "\n",
        "546 error on training set:  0.0076\n",
        "546 error on testing set:  0.1012\n",
        "547\n",
        "547"
       ]
      },
      {
       "output_type": "stream",
       "stream": "stdout",
       "text": [
        " error on training set:  0.0076\n",
        "547 error on testing set:  0.1000\n",
        "548\n",
        "548 error on training set:  0.0076\n",
        "548 error on testing set:  0.1004\n",
        "549"
       ]
      },
      {
       "output_type": "stream",
       "stream": "stdout",
       "text": [
        "\n",
        "549 error on training set:  0.0076\n",
        "549 error on testing set:  0.1008\n",
        "550"
       ]
      },
      {
       "output_type": "stream",
       "stream": "stdout",
       "text": [
        "\n",
        "550 error on training set:  0.0072\n",
        "550 error on testing set:  0.0992\n",
        "551\n",
        "551"
       ]
      },
      {
       "output_type": "stream",
       "stream": "stdout",
       "text": [
        " error on training set:  0.0076\n",
        "551 error on testing set:  0.1004\n",
        "552\n",
        "552 error on training set:  0.0080\n",
        "552 error on testing set:  0.1012\n",
        "553"
       ]
      },
      {
       "output_type": "stream",
       "stream": "stdout",
       "text": [
        "\n",
        "553 error on training set:  0.0080\n",
        "553 error on testing set:  0.1000\n",
        "554\n",
        "554"
       ]
      },
      {
       "output_type": "stream",
       "stream": "stdout",
       "text": [
        " error on training set:  0.0072\n",
        "554 error on testing set:  0.1020\n",
        "555\n",
        "555 error on training set:  0.0072\n",
        "555 error on testing set:  0.0996\n",
        "556"
       ]
      },
      {
       "output_type": "stream",
       "stream": "stdout",
       "text": [
        "\n",
        "556 error on training set:  0.0068\n",
        "556 error on testing set:  0.1012\n",
        "557\n",
        "557"
       ]
      },
      {
       "output_type": "stream",
       "stream": "stdout",
       "text": [
        " error on training set:  0.0072\n",
        "557 error on testing set:  0.1008\n",
        "558\n",
        "558 error on training set:  0.0072\n",
        "558 error on testing set:  0.1004\n",
        "559"
       ]
      },
      {
       "output_type": "stream",
       "stream": "stdout",
       "text": [
        "\n",
        "559 error on training set:  0.0068\n",
        "559 error on testing set:  0.1012\n",
        "560"
       ]
      },
      {
       "output_type": "stream",
       "stream": "stdout",
       "text": [
        "\n",
        "560 error on training set:  0.0064\n",
        "560 error on testing set:  0.1024\n",
        "561\n",
        "561"
       ]
      },
      {
       "output_type": "stream",
       "stream": "stdout",
       "text": [
        " error on training set:  0.0072\n",
        "561 error on testing set:  0.1000\n",
        "562\n",
        "562 error on training set:  0.0072\n",
        "562 error on testing set:  0.1000\n",
        "563"
       ]
      },
      {
       "output_type": "stream",
       "stream": "stdout",
       "text": [
        "\n",
        "563 error on training set:  0.0072\n",
        "563 error on testing set:  0.1008\n",
        "564\n",
        "564"
       ]
      },
      {
       "output_type": "stream",
       "stream": "stdout",
       "text": [
        " error on training set:  0.0072\n",
        "564 error on testing set:  0.1004\n",
        "565\n",
        "565 error on training set:  0.0072\n",
        "565 error on testing set:  0.1020\n",
        "566"
       ]
      },
      {
       "output_type": "stream",
       "stream": "stdout",
       "text": [
        "\n",
        "566 error on training set:  0.0072\n",
        "566 error on testing set:  0.1016\n",
        "567\n",
        "567"
       ]
      },
      {
       "output_type": "stream",
       "stream": "stdout",
       "text": [
        " error on training set:  0.0068\n",
        "567 error on testing set:  0.1012\n",
        "568\n",
        "568 error on training set:  0.0072\n",
        "568 error on testing set:  0.1008\n",
        "569"
       ]
      },
      {
       "output_type": "stream",
       "stream": "stdout",
       "text": [
        "\n",
        "569 error on training set:  0.0068\n",
        "569 error on testing set:  0.1008\n",
        "570"
       ]
      },
      {
       "output_type": "stream",
       "stream": "stdout",
       "text": [
        "\n",
        "570 error on training set:  0.0068\n",
        "570 error on testing set:  0.0996\n",
        "571\n",
        "571"
       ]
      },
      {
       "output_type": "stream",
       "stream": "stdout",
       "text": [
        " error on training set:  0.0064\n",
        "571 error on testing set:  0.1004\n",
        "572\n",
        "572 error on training set:  0.0064\n",
        "572 error on testing set:  0.0996\n",
        "573"
       ]
      },
      {
       "output_type": "stream",
       "stream": "stdout",
       "text": [
        "\n",
        "573 error on training set:  0.0064\n",
        "573 error on testing set:  0.1000\n",
        "574\n",
        "574"
       ]
      },
      {
       "output_type": "stream",
       "stream": "stdout",
       "text": [
        " error on training set:  0.0064\n",
        "574 error on testing set:  0.1004\n",
        "575\n",
        "575 error on training set:  0.0060\n",
        "575 error on testing set:  0.1016\n",
        "576"
       ]
      },
      {
       "output_type": "stream",
       "stream": "stdout",
       "text": [
        "\n",
        "576 error on training set:  0.0064\n",
        "576 error on testing set:  0.1004\n",
        "577\n",
        "577"
       ]
      },
      {
       "output_type": "stream",
       "stream": "stdout",
       "text": [
        " error on training set:  0.0068\n",
        "577 error on testing set:  0.1004\n",
        "578\n",
        "578 error on training set:  0.0060\n",
        "578 error on testing set:  0.1000\n",
        "579"
       ]
      },
      {
       "output_type": "stream",
       "stream": "stdout",
       "text": [
        "\n",
        "579 error on training set:  0.0060\n",
        "579 error on testing set:  0.0992\n",
        "580"
       ]
      },
      {
       "output_type": "stream",
       "stream": "stdout",
       "text": [
        "\n",
        "580 error on training set:  0.0068\n",
        "580 error on testing set:  0.1012\n",
        "581\n",
        "581"
       ]
      },
      {
       "output_type": "stream",
       "stream": "stdout",
       "text": [
        " error on training set:  0.0068\n",
        "581 error on testing set:  0.1020\n",
        "582\n",
        "582 error on training set:  0.0064\n",
        "582 error on testing set:  0.1012\n",
        "583"
       ]
      },
      {
       "output_type": "stream",
       "stream": "stdout",
       "text": [
        "\n",
        "583 error on training set:  0.0060\n",
        "583 error on testing set:  0.1012\n",
        "584\n",
        "584"
       ]
      },
      {
       "output_type": "stream",
       "stream": "stdout",
       "text": [
        " error on training set:  0.0060\n",
        "584 error on testing set:  0.1012\n",
        "585\n",
        "585 error on training set:  0.0060\n",
        "585 error on testing set:  0.1004\n",
        "586"
       ]
      },
      {
       "output_type": "stream",
       "stream": "stdout",
       "text": [
        "\n",
        "586 error on training set:  0.0060\n",
        "586 error on testing set:  0.1000\n",
        "587\n",
        "587"
       ]
      },
      {
       "output_type": "stream",
       "stream": "stdout",
       "text": [
        " error on training set:  0.0060\n",
        "587 error on testing set:  0.1000\n",
        "588\n",
        "588 error on training set:  0.0060\n",
        "588 error on testing set:  0.1012\n",
        "589"
       ]
      },
      {
       "output_type": "stream",
       "stream": "stdout",
       "text": [
        "\n",
        "589 error on training set:  0.0056\n",
        "589 error on testing set:  0.1008\n",
        "590"
       ]
      },
      {
       "output_type": "stream",
       "stream": "stdout",
       "text": [
        "\n",
        "590 error on training set:  0.0060\n",
        "590 error on testing set:  0.1004\n",
        "591\n",
        "591"
       ]
      },
      {
       "output_type": "stream",
       "stream": "stdout",
       "text": [
        " error on training set:  0.0056\n",
        "591 error on testing set:  0.1004\n",
        "592\n",
        "592 error on training set:  0.0060\n",
        "592 error on testing set:  0.1004\n",
        "593"
       ]
      },
      {
       "output_type": "stream",
       "stream": "stdout",
       "text": [
        "\n",
        "593 error on training set:  0.0060\n",
        "593 error on testing set:  0.1012\n",
        "594\n",
        "594"
       ]
      },
      {
       "output_type": "stream",
       "stream": "stdout",
       "text": [
        " error on training set:  0.0056\n",
        "594 error on testing set:  0.1004\n",
        "595\n",
        "595 error on training set:  0.0060\n",
        "595 error on testing set:  0.1008\n",
        "596"
       ]
      },
      {
       "output_type": "stream",
       "stream": "stdout",
       "text": [
        "\n",
        "596 error on training set:  0.0060\n",
        "596 error on testing set:  0.1008\n",
        "597\n",
        "597"
       ]
      },
      {
       "output_type": "stream",
       "stream": "stdout",
       "text": [
        " error on training set:  0.0060\n",
        "597 error on testing set:  0.1012\n",
        "598\n",
        "598 error on training set:  0.0060\n",
        "598 error on testing set:  0.1000\n",
        "599"
       ]
      },
      {
       "output_type": "stream",
       "stream": "stdout",
       "text": [
        "\n",
        "599 error on training set:  0.0056\n",
        "599 error on testing set:  0.1012\n",
        "600"
       ]
      },
      {
       "output_type": "stream",
       "stream": "stdout",
       "text": [
        "\n",
        "600 error on training set:  0.0060\n",
        "600 error on testing set:  0.1008\n",
        "601\n",
        "601"
       ]
      },
      {
       "output_type": "stream",
       "stream": "stdout",
       "text": [
        " error on training set:  0.0056\n",
        "601 error on testing set:  0.1016\n",
        "602\n",
        "602 error on training set:  0.0056\n",
        "602 error on testing set:  0.1016\n",
        "603"
       ]
      },
      {
       "output_type": "stream",
       "stream": "stdout",
       "text": [
        "\n",
        "603 error on training set:  0.0056\n",
        "603 error on testing set:  0.1012\n",
        "604\n",
        "604"
       ]
      },
      {
       "output_type": "stream",
       "stream": "stdout",
       "text": [
        " error on training set:  0.0060\n",
        "604 error on testing set:  0.1012\n",
        "605\n",
        "605 error on training set:  0.0056\n",
        "605 error on testing set:  0.1008\n",
        "606"
       ]
      },
      {
       "output_type": "stream",
       "stream": "stdout",
       "text": [
        "\n",
        "606 error on training set:  0.0056\n",
        "606 error on testing set:  0.1012\n",
        "607\n",
        "607"
       ]
      },
      {
       "output_type": "stream",
       "stream": "stdout",
       "text": [
        " error on training set:  0.0056\n",
        "607 error on testing set:  0.1016\n",
        "608\n",
        "608 error on training set:  0.0056\n",
        "608 error on testing set:  0.1008\n",
        "609"
       ]
      },
      {
       "output_type": "stream",
       "stream": "stdout",
       "text": [
        "\n",
        "609 error on training set:  0.0056\n",
        "609 error on testing set:  0.1008\n",
        "610"
       ]
      },
      {
       "output_type": "stream",
       "stream": "stdout",
       "text": [
        "\n",
        "610 error on training set:  0.0056\n",
        "610 error on testing set:  0.1020\n",
        "611\n",
        "611"
       ]
      },
      {
       "output_type": "stream",
       "stream": "stdout",
       "text": [
        " error on training set:  0.0056\n",
        "611 error on testing set:  0.1016\n",
        "612\n",
        "612 error on training set:  0.0056\n",
        "612 error on testing set:  0.1016\n",
        "613"
       ]
      },
      {
       "output_type": "stream",
       "stream": "stdout",
       "text": [
        "\n",
        "613 error on training set:  0.0060\n",
        "613 error on testing set:  0.1008\n",
        "614\n",
        "614"
       ]
      },
      {
       "output_type": "stream",
       "stream": "stdout",
       "text": [
        " error on training set:  0.0056\n",
        "614 error on testing set:  0.1000\n",
        "615\n",
        "615 error on training set:  0.0056\n",
        "615 error on testing set:  0.1000\n",
        "616"
       ]
      },
      {
       "output_type": "stream",
       "stream": "stdout",
       "text": [
        "\n",
        "616 error on training set:  0.0056\n",
        "616 error on testing set:  0.1016\n",
        "617\n",
        "617"
       ]
      },
      {
       "output_type": "stream",
       "stream": "stdout",
       "text": [
        " error on training set:  0.0056\n",
        "617 error on testing set:  0.1016\n",
        "618\n",
        "618 error on training set:  0.0056\n",
        "618 error on testing set:  0.1012\n",
        "619"
       ]
      },
      {
       "output_type": "stream",
       "stream": "stdout",
       "text": [
        "\n",
        "619 error on training set:  0.0056\n",
        "619 error on testing set:  0.1012\n",
        "620"
       ]
      },
      {
       "output_type": "stream",
       "stream": "stdout",
       "text": [
        "\n",
        "620 error on training set:  0.0056\n",
        "620 error on testing set:  0.1020\n",
        "621\n",
        "621"
       ]
      },
      {
       "output_type": "stream",
       "stream": "stdout",
       "text": [
        " error on training set:  0.0052\n",
        "621 error on testing set:  0.1008\n",
        "622\n",
        "622 error on training set:  0.0060\n",
        "622 error on testing set:  0.1012\n",
        "623"
       ]
      },
      {
       "output_type": "stream",
       "stream": "stdout",
       "text": [
        "\n",
        "623 error on training set:  0.0056\n",
        "623 error on testing set:  0.1000\n",
        "624\n",
        "624"
       ]
      },
      {
       "output_type": "stream",
       "stream": "stdout",
       "text": [
        " error on training set:  0.0048\n",
        "624 error on testing set:  0.1008\n",
        "625\n",
        "625 error on training set:  0.0048\n",
        "625 error on testing set:  0.1012\n",
        "626"
       ]
      },
      {
       "output_type": "stream",
       "stream": "stdout",
       "text": [
        "\n",
        "626 error on training set:  0.0056\n",
        "626 error on testing set:  0.1012\n",
        "627\n",
        "627"
       ]
      },
      {
       "output_type": "stream",
       "stream": "stdout",
       "text": [
        " error on training set:  0.0056\n",
        "627 error on testing set:  0.1036\n",
        "628\n",
        "628 error on training set:  0.0056\n",
        "628 error on testing set:  0.1024\n",
        "629"
       ]
      },
      {
       "output_type": "stream",
       "stream": "stdout",
       "text": [
        "\n",
        "629 error on training set:  0.0052\n",
        "629 error on testing set:  0.1008\n",
        "630"
       ]
      },
      {
       "output_type": "stream",
       "stream": "stdout",
       "text": [
        "\n",
        "630 error on training set:  0.0052\n",
        "630 error on testing set:  0.1012\n",
        "631\n",
        "631"
       ]
      },
      {
       "output_type": "stream",
       "stream": "stdout",
       "text": [
        " error on training set:  0.0052\n",
        "631 error on testing set:  0.1016\n",
        "632\n",
        "632 error on training set:  0.0056\n",
        "632 error on testing set:  0.1024\n",
        "633"
       ]
      },
      {
       "output_type": "stream",
       "stream": "stdout",
       "text": [
        "\n",
        "633 error on training set:  0.0056\n",
        "633 error on testing set:  0.1024\n",
        "634\n",
        "634"
       ]
      },
      {
       "output_type": "stream",
       "stream": "stdout",
       "text": [
        " error on training set:  0.0048\n",
        "634 error on testing set:  0.1012\n",
        "635\n",
        "635 error on training set:  0.0056\n",
        "635 error on testing set:  0.1024\n",
        "636"
       ]
      },
      {
       "output_type": "stream",
       "stream": "stdout",
       "text": [
        "\n",
        "636 error on training set:  0.0052\n",
        "636 error on testing set:  0.1024\n",
        "637\n",
        "637"
       ]
      },
      {
       "output_type": "stream",
       "stream": "stdout",
       "text": [
        " error on training set:  0.0052\n",
        "637 error on testing set:  0.1012\n",
        "638\n",
        "638 error on training set:  0.0052\n",
        "638 error on testing set:  0.1020\n",
        "639"
       ]
      },
      {
       "output_type": "stream",
       "stream": "stdout",
       "text": [
        "\n",
        "639 error on training set:  0.0052\n",
        "639 error on testing set:  0.1012\n",
        "640"
       ]
      },
      {
       "output_type": "stream",
       "stream": "stdout",
       "text": [
        "\n",
        "640 error on training set:  0.0052\n",
        "640 error on testing set:  0.1016\n",
        "641\n",
        "641"
       ]
      },
      {
       "output_type": "stream",
       "stream": "stdout",
       "text": [
        " error on training set:  0.0052\n",
        "641 error on testing set:  0.1024\n",
        "642\n",
        "642 error on training set:  0.0052\n",
        "642 error on testing set:  0.1012\n",
        "643"
       ]
      },
      {
       "output_type": "stream",
       "stream": "stdout",
       "text": [
        "\n",
        "643 error on training set:  0.0052\n",
        "643 error on testing set:  0.1024\n",
        "644\n",
        "644"
       ]
      },
      {
       "output_type": "stream",
       "stream": "stdout",
       "text": [
        " error on training set:  0.0052\n",
        "644 error on testing set:  0.1020\n",
        "645\n",
        "645 error on training set:  0.0052\n",
        "645 error on testing set:  0.1016\n",
        "646"
       ]
      },
      {
       "output_type": "stream",
       "stream": "stdout",
       "text": [
        "\n",
        "646 error on training set:  0.0052\n",
        "646 error on testing set:  0.1028\n",
        "647\n",
        "647"
       ]
      },
      {
       "output_type": "stream",
       "stream": "stdout",
       "text": [
        " error on training set:  0.0052\n",
        "647 error on testing set:  0.1024\n",
        "648\n",
        "648 error on training set:  0.0052\n",
        "648 error on testing set:  0.1016\n",
        "649"
       ]
      },
      {
       "output_type": "stream",
       "stream": "stdout",
       "text": [
        "\n",
        "649 error on training set:  0.0052\n",
        "649 error on testing set:  0.1028\n",
        "650"
       ]
      },
      {
       "output_type": "stream",
       "stream": "stdout",
       "text": [
        "\n",
        "650 error on training set:  0.0048\n",
        "650 error on testing set:  0.1028\n",
        "651\n",
        "651"
       ]
      },
      {
       "output_type": "stream",
       "stream": "stdout",
       "text": [
        " error on training set:  0.0044\n",
        "651 error on testing set:  0.1020\n",
        "652\n",
        "652 error on training set:  0.0048\n",
        "652 error on testing set:  0.1024\n",
        "653"
       ]
      },
      {
       "output_type": "stream",
       "stream": "stdout",
       "text": [
        "\n",
        "653 error on training set:  0.0044\n",
        "653 error on testing set:  0.1024\n",
        "654\n",
        "654"
       ]
      },
      {
       "output_type": "stream",
       "stream": "stdout",
       "text": [
        " error on training set:  0.0044\n",
        "654 error on testing set:  0.1016\n",
        "655\n",
        "655 error on training set:  0.0048\n",
        "655 error on testing set:  0.1024\n",
        "656"
       ]
      },
      {
       "output_type": "stream",
       "stream": "stdout",
       "text": [
        "\n",
        "656 error on training set:  0.0048\n",
        "656 error on testing set:  0.1020\n",
        "657\n",
        "657"
       ]
      },
      {
       "output_type": "stream",
       "stream": "stdout",
       "text": [
        " error on training set:  0.0048\n",
        "657 error on testing set:  0.1036\n",
        "658\n",
        "658 error on training set:  0.0048\n",
        "658 error on testing set:  0.1040\n",
        "659"
       ]
      },
      {
       "output_type": "stream",
       "stream": "stdout",
       "text": [
        "\n",
        "659 error on training set:  0.0048\n",
        "659 error on testing set:  0.1028\n",
        "660"
       ]
      },
      {
       "output_type": "stream",
       "stream": "stdout",
       "text": [
        "\n",
        "660 error on training set:  0.0048\n",
        "660 error on testing set:  0.1020\n",
        "661\n",
        "661"
       ]
      },
      {
       "output_type": "stream",
       "stream": "stdout",
       "text": [
        " error on training set:  0.0044\n",
        "661 error on testing set:  0.1020\n",
        "662\n",
        "662 error on training set:  0.0044\n",
        "662 error on testing set:  0.1016\n",
        "663"
       ]
      },
      {
       "output_type": "stream",
       "stream": "stdout",
       "text": [
        "\n",
        "663 error on training set:  0.0044\n",
        "663 error on testing set:  0.1024\n",
        "664\n",
        "664"
       ]
      },
      {
       "output_type": "stream",
       "stream": "stdout",
       "text": [
        " error on training set:  0.0044\n",
        "664 error on testing set:  0.1024\n",
        "665\n",
        "665 error on training set:  0.0044\n",
        "665 error on testing set:  0.1024\n",
        "666"
       ]
      },
      {
       "output_type": "stream",
       "stream": "stdout",
       "text": [
        "\n",
        "666 error on training set:  0.0044\n",
        "666 error on testing set:  0.1020\n",
        "667\n",
        "667"
       ]
      },
      {
       "output_type": "stream",
       "stream": "stdout",
       "text": [
        " error on training set:  0.0048\n",
        "667 error on testing set:  0.1024\n",
        "668\n",
        "668 error on training set:  0.0048\n",
        "668 error on testing set:  0.1032\n",
        "669"
       ]
      },
      {
       "output_type": "stream",
       "stream": "stdout",
       "text": [
        "\n",
        "669 error on training set:  0.0048\n",
        "669 error on testing set:  0.1040\n",
        "670"
       ]
      },
      {
       "output_type": "stream",
       "stream": "stdout",
       "text": [
        "\n",
        "670 error on training set:  0.0044\n",
        "670 error on testing set:  0.1032\n",
        "671\n",
        "671"
       ]
      },
      {
       "output_type": "stream",
       "stream": "stdout",
       "text": [
        " error on training set:  0.0048\n",
        "671 error on testing set:  0.1040\n",
        "672\n",
        "672 error on training set:  0.0044\n",
        "672 error on testing set:  0.1028\n",
        "673"
       ]
      },
      {
       "output_type": "stream",
       "stream": "stdout",
       "text": [
        "\n",
        "673 error on training set:  0.0044\n",
        "673 error on testing set:  0.1024\n",
        "674\n",
        "674"
       ]
      },
      {
       "output_type": "stream",
       "stream": "stdout",
       "text": [
        " error on training set:  0.0048\n",
        "674 error on testing set:  0.1036\n",
        "675\n",
        "675 error on training set:  0.0044\n",
        "675 error on testing set:  0.1020\n",
        "676"
       ]
      },
      {
       "output_type": "stream",
       "stream": "stdout",
       "text": [
        "\n",
        "676 error on training set:  0.0044\n",
        "676 error on testing set:  0.1032\n",
        "677\n",
        "677"
       ]
      },
      {
       "output_type": "stream",
       "stream": "stdout",
       "text": [
        " error on training set:  0.0048\n",
        "677 error on testing set:  0.1028\n",
        "678\n",
        "678 error on training set:  0.0048\n",
        "678 error on testing set:  0.1032\n",
        "679"
       ]
      },
      {
       "output_type": "stream",
       "stream": "stdout",
       "text": [
        "\n",
        "679 error on training set:  0.0044\n",
        "679 error on testing set:  0.1024\n",
        "680"
       ]
      },
      {
       "output_type": "stream",
       "stream": "stdout",
       "text": [
        "\n",
        "680 error on training set:  0.0048\n",
        "680 error on testing set:  0.1036\n",
        "681\n",
        "681"
       ]
      },
      {
       "output_type": "stream",
       "stream": "stdout",
       "text": [
        " error on training set:  0.0048\n",
        "681 error on testing set:  0.1020\n",
        "682\n",
        "682 error on training set:  0.0048\n",
        "682 error on testing set:  0.1020\n",
        "683"
       ]
      },
      {
       "output_type": "stream",
       "stream": "stdout",
       "text": [
        "\n",
        "683 error on training set:  0.0044\n",
        "683 error on testing set:  0.1024\n",
        "684\n",
        "684"
       ]
      },
      {
       "output_type": "stream",
       "stream": "stdout",
       "text": [
        " error on training set:  0.0048\n",
        "684 error on testing set:  0.1024\n",
        "685\n",
        "685 error on training set:  0.0044\n",
        "685 error on testing set:  0.1024\n",
        "686"
       ]
      },
      {
       "output_type": "stream",
       "stream": "stdout",
       "text": [
        "\n",
        "686 error on training set:  0.0044\n",
        "686 error on testing set:  0.1024\n",
        "687\n",
        "687"
       ]
      },
      {
       "output_type": "stream",
       "stream": "stdout",
       "text": [
        " error on training set:  0.0044\n",
        "687 error on testing set:  0.1024\n",
        "688\n",
        "688 error on training set:  0.0044\n",
        "688 error on testing set:  0.1028\n",
        "689"
       ]
      },
      {
       "output_type": "stream",
       "stream": "stdout",
       "text": [
        "\n",
        "689 error on training set:  0.0044\n",
        "689 error on testing set:  0.1028\n",
        "690"
       ]
      },
      {
       "output_type": "stream",
       "stream": "stdout",
       "text": [
        "\n",
        "690 error on training set:  0.0044\n",
        "690 error on testing set:  0.1024\n",
        "691\n",
        "691"
       ]
      },
      {
       "output_type": "stream",
       "stream": "stdout",
       "text": [
        " error on training set:  0.0044\n",
        "691 error on testing set:  0.1028\n",
        "692\n",
        "692 error on training set:  0.0044\n",
        "692 error on testing set:  0.1028\n",
        "693"
       ]
      },
      {
       "output_type": "stream",
       "stream": "stdout",
       "text": [
        "\n",
        "693 error on training set:  0.0048\n",
        "693 error on testing set:  0.1040\n",
        "694\n",
        "694"
       ]
      },
      {
       "output_type": "stream",
       "stream": "stdout",
       "text": [
        " error on training set:  0.0044\n",
        "694 error on testing set:  0.1032\n",
        "695\n",
        "695 error on training set:  0.0044\n",
        "695 error on testing set:  0.1028\n",
        "696"
       ]
      },
      {
       "output_type": "stream",
       "stream": "stdout",
       "text": [
        "\n",
        "696 error on training set:  0.0044\n",
        "696 error on testing set:  0.1040\n",
        "697\n",
        "697"
       ]
      },
      {
       "output_type": "stream",
       "stream": "stdout",
       "text": [
        " error on training set:  0.0044\n",
        "697 error on testing set:  0.1032\n",
        "698\n",
        "698 error on training set:  0.0044\n",
        "698 error on testing set:  0.1032\n",
        "699"
       ]
      },
      {
       "output_type": "stream",
       "stream": "stdout",
       "text": [
        "\n",
        "699 error on training set:  0.0044\n",
        "699 error on testing set:  0.1032\n",
        "700"
       ]
      },
      {
       "output_type": "stream",
       "stream": "stdout",
       "text": [
        "\n",
        "700 error on training set:  0.0044\n",
        "700 error on testing set:  0.1036\n",
        "701\n",
        "701"
       ]
      },
      {
       "output_type": "stream",
       "stream": "stdout",
       "text": [
        " error on training set:  0.0044\n",
        "701 error on testing set:  0.1028\n",
        "702\n",
        "702 error on training set:  0.0044\n",
        "702 error on testing set:  0.1036\n",
        "703"
       ]
      },
      {
       "output_type": "stream",
       "stream": "stdout",
       "text": [
        "\n",
        "703 error on training set:  0.0044\n",
        "703 error on testing set:  0.1028\n",
        "704\n",
        "704"
       ]
      },
      {
       "output_type": "stream",
       "stream": "stdout",
       "text": [
        " error on training set:  0.0044\n",
        "704 error on testing set:  0.1028\n",
        "705\n",
        "705 error on training set:  0.0044\n",
        "705 error on testing set:  0.1032\n",
        "706"
       ]
      },
      {
       "output_type": "stream",
       "stream": "stdout",
       "text": [
        "\n",
        "706 error on training set:  0.0044\n",
        "706 error on testing set:  0.1040\n",
        "707\n",
        "707"
       ]
      },
      {
       "output_type": "stream",
       "stream": "stdout",
       "text": [
        " error on training set:  0.0044\n",
        "707 error on testing set:  0.1024\n",
        "708\n",
        "708 error on training set:  0.0044\n",
        "708 error on testing set:  0.1024\n",
        "709"
       ]
      },
      {
       "output_type": "stream",
       "stream": "stdout",
       "text": [
        "\n",
        "709 error on training set:  0.0044\n",
        "709 error on testing set:  0.1044\n",
        "710"
       ]
      },
      {
       "output_type": "stream",
       "stream": "stdout",
       "text": [
        "\n",
        "710 error on training set:  0.0044\n",
        "710 error on testing set:  0.1040\n",
        "711\n",
        "711"
       ]
      },
      {
       "output_type": "stream",
       "stream": "stdout",
       "text": [
        " error on training set:  0.0044\n",
        "711 error on testing set:  0.1036\n",
        "712\n",
        "712 error on training set:  0.0044\n",
        "712 error on testing set:  0.1036\n",
        "713"
       ]
      },
      {
       "output_type": "stream",
       "stream": "stdout",
       "text": [
        "\n",
        "713 error on training set:  0.0044\n",
        "713 error on testing set:  0.1036\n",
        "714\n",
        "714"
       ]
      },
      {
       "output_type": "stream",
       "stream": "stdout",
       "text": [
        " error on training set:  0.0044\n",
        "714 error on testing set:  0.1036\n",
        "715\n",
        "715 error on training set:  0.0044\n",
        "715 error on testing set:  0.1036\n",
        "716"
       ]
      },
      {
       "output_type": "stream",
       "stream": "stdout",
       "text": [
        "\n",
        "716 error on training set:  0.0044\n",
        "716 error on testing set:  0.1040\n",
        "717\n",
        "717"
       ]
      },
      {
       "output_type": "stream",
       "stream": "stdout",
       "text": [
        " error on training set:  0.0044\n",
        "717 error on testing set:  0.1040\n",
        "718\n",
        "718 error on training set:  0.0044\n",
        "718 error on testing set:  0.1020\n",
        "719"
       ]
      },
      {
       "output_type": "stream",
       "stream": "stdout",
       "text": [
        "\n",
        "719 error on training set:  0.0044\n",
        "719 error on testing set:  0.1040\n",
        "720"
       ]
      },
      {
       "output_type": "stream",
       "stream": "stdout",
       "text": [
        "\n",
        "720 error on training set:  0.0044\n",
        "720 error on testing set:  0.1032\n",
        "721\n",
        "721"
       ]
      },
      {
       "output_type": "stream",
       "stream": "stdout",
       "text": [
        " error on training set:  0.0044\n",
        "721 error on testing set:  0.1036\n",
        "722\n",
        "722 error on training set:  0.0044\n",
        "722 error on testing set:  0.1036\n",
        "723"
       ]
      },
      {
       "output_type": "stream",
       "stream": "stdout",
       "text": [
        "\n",
        "723 error on training set:  0.0044\n",
        "723 error on testing set:  0.1036\n",
        "724\n",
        "724"
       ]
      },
      {
       "output_type": "stream",
       "stream": "stdout",
       "text": [
        " error on training set:  0.0044\n",
        "724 error on testing set:  0.1020\n",
        "725\n",
        "725 error on training set:  0.0044\n",
        "725 error on testing set:  0.1032\n",
        "726"
       ]
      },
      {
       "output_type": "stream",
       "stream": "stdout",
       "text": [
        "\n",
        "726 error on training set:  0.0044\n",
        "726 error on testing set:  0.1036\n",
        "727\n",
        "727"
       ]
      },
      {
       "output_type": "stream",
       "stream": "stdout",
       "text": [
        " error on training set:  0.0044\n",
        "727 error on testing set:  0.1036\n",
        "728\n",
        "728 error on training set:  0.0044\n",
        "728 error on testing set:  0.1040\n",
        "729"
       ]
      },
      {
       "output_type": "stream",
       "stream": "stdout",
       "text": [
        "\n",
        "729 error on training set:  0.0044\n",
        "729 error on testing set:  0.1036\n",
        "730"
       ]
      },
      {
       "output_type": "stream",
       "stream": "stdout",
       "text": [
        "\n",
        "730 error on training set:  0.0044\n",
        "730 error on testing set:  0.1040\n",
        "731\n",
        "731"
       ]
      },
      {
       "output_type": "stream",
       "stream": "stdout",
       "text": [
        " error on training set:  0.0044\n",
        "731 error on testing set:  0.1036\n",
        "732\n",
        "732 error on training set:  0.0044\n",
        "732 error on testing set:  0.1036\n",
        "733"
       ]
      },
      {
       "output_type": "stream",
       "stream": "stdout",
       "text": [
        "\n",
        "733 error on training set:  0.0044\n",
        "733 error on testing set:  0.1036\n",
        "734\n",
        "734"
       ]
      },
      {
       "output_type": "stream",
       "stream": "stdout",
       "text": [
        " error on training set:  0.0044\n",
        "734 error on testing set:  0.1036\n",
        "735\n",
        "735 error on training set:  0.0044\n",
        "735 error on testing set:  0.1036\n",
        "736"
       ]
      },
      {
       "output_type": "stream",
       "stream": "stdout",
       "text": [
        "\n",
        "736 error on training set:  0.0044\n",
        "736 error on testing set:  0.1040\n",
        "737\n",
        "737"
       ]
      },
      {
       "output_type": "stream",
       "stream": "stdout",
       "text": [
        " error on training set:  0.0044\n",
        "737 error on testing set:  0.1028\n",
        "738\n",
        "738 error on training set:  0.0044\n",
        "738 error on testing set:  0.1032\n",
        "739"
       ]
      },
      {
       "output_type": "stream",
       "stream": "stdout",
       "text": [
        "\n",
        "739 error on training set:  0.0044\n",
        "739 error on testing set:  0.1032\n",
        "740"
       ]
      },
      {
       "output_type": "stream",
       "stream": "stdout",
       "text": [
        "\n",
        "740 error on training set:  0.0044\n",
        "740 error on testing set:  0.1040\n",
        "741\n",
        "741"
       ]
      },
      {
       "output_type": "stream",
       "stream": "stdout",
       "text": [
        " error on training set:  0.0044\n",
        "741 error on testing set:  0.1044\n",
        "742\n",
        "742 error on training set:  0.0044\n",
        "742 error on testing set:  0.1036\n",
        "743"
       ]
      },
      {
       "output_type": "stream",
       "stream": "stdout",
       "text": [
        "\n",
        "743 error on training set:  0.0044\n",
        "743 error on testing set:  0.1040\n",
        "744\n",
        "744"
       ]
      },
      {
       "output_type": "stream",
       "stream": "stdout",
       "text": [
        " error on training set:  0.0044\n",
        "744 error on testing set:  0.1036\n",
        "745\n",
        "745 error on training set:  0.0044\n",
        "745 error on testing set:  0.1036\n",
        "746"
       ]
      },
      {
       "output_type": "stream",
       "stream": "stdout",
       "text": [
        "\n",
        "746 error on training set:  0.0044\n",
        "746 error on testing set:  0.1040\n",
        "747\n",
        "747"
       ]
      },
      {
       "output_type": "stream",
       "stream": "stdout",
       "text": [
        " error on training set:  0.0044\n",
        "747 error on testing set:  0.1040\n",
        "748\n",
        "748 error on training set:  0.0044\n",
        "748 error on testing set:  0.1044\n",
        "749"
       ]
      },
      {
       "output_type": "stream",
       "stream": "stdout",
       "text": [
        "\n",
        "749 error on training set:  0.0044\n",
        "749 error on testing set:  0.1044\n",
        "750"
       ]
      },
      {
       "output_type": "stream",
       "stream": "stdout",
       "text": [
        "\n",
        "750 error on training set:  0.0044\n",
        "750 error on testing set:  0.1048\n",
        "751\n",
        "751"
       ]
      },
      {
       "output_type": "stream",
       "stream": "stdout",
       "text": [
        " error on training set:  0.0044\n",
        "751 error on testing set:  0.1044\n",
        "752\n",
        "752 error on training set:  0.0044\n",
        "752 error on testing set:  0.1044\n",
        "753"
       ]
      },
      {
       "output_type": "stream",
       "stream": "stdout",
       "text": [
        "\n",
        "753 error on training set:  0.0044\n",
        "753 error on testing set:  0.1048\n",
        "754\n",
        "754"
       ]
      },
      {
       "output_type": "stream",
       "stream": "stdout",
       "text": [
        " error on training set:  0.0044\n",
        "754 error on testing set:  0.1048\n",
        "755\n",
        "755 error on training set:  0.0044\n",
        "755 error on testing set:  0.1044\n",
        "756"
       ]
      },
      {
       "output_type": "stream",
       "stream": "stdout",
       "text": [
        "\n",
        "756 error on training set:  0.0044\n",
        "756 error on testing set:  0.1036\n",
        "757\n",
        "757"
       ]
      },
      {
       "output_type": "stream",
       "stream": "stdout",
       "text": [
        " error on training set:  0.0044\n",
        "757 error on testing set:  0.1044\n",
        "758\n",
        "758 error on training set:  0.0044\n",
        "758 error on testing set:  0.1028\n",
        "759"
       ]
      },
      {
       "output_type": "stream",
       "stream": "stdout",
       "text": [
        "\n",
        "759 error on training set:  0.0044\n",
        "759 error on testing set:  0.1036\n",
        "760"
       ]
      },
      {
       "output_type": "stream",
       "stream": "stdout",
       "text": [
        "\n",
        "760 error on training set:  0.0044\n",
        "760 error on testing set:  0.1044\n",
        "761\n",
        "761"
       ]
      },
      {
       "output_type": "stream",
       "stream": "stdout",
       "text": [
        " error on training set:  0.0044\n",
        "761 error on testing set:  0.1044\n",
        "762\n",
        "762 error on training set:  0.0044\n",
        "762 error on testing set:  0.1044\n",
        "763"
       ]
      },
      {
       "output_type": "stream",
       "stream": "stdout",
       "text": [
        "\n",
        "763 error on training set:  0.0044\n",
        "763 error on testing set:  0.1048\n",
        "764\n",
        "764"
       ]
      },
      {
       "output_type": "stream",
       "stream": "stdout",
       "text": [
        " error on training set:  0.0044\n",
        "764 error on testing set:  0.1044\n",
        "765\n",
        "765 error on training set:  0.0044\n",
        "765 error on testing set:  0.1048\n",
        "766"
       ]
      },
      {
       "output_type": "stream",
       "stream": "stdout",
       "text": [
        "\n",
        "766 error on training set:  0.0044\n",
        "766 error on testing set:  0.1048\n",
        "767\n",
        "767"
       ]
      },
      {
       "output_type": "stream",
       "stream": "stdout",
       "text": [
        " error on training set:  0.0044\n",
        "767 error on testing set:  0.1048\n",
        "768\n",
        "768 error on training set:  0.0044\n",
        "768 error on testing set:  0.1048\n",
        "769"
       ]
      },
      {
       "output_type": "stream",
       "stream": "stdout",
       "text": [
        "\n",
        "769 error on training set:  0.0044\n",
        "769 error on testing set:  0.1044\n",
        "770"
       ]
      },
      {
       "output_type": "stream",
       "stream": "stdout",
       "text": [
        "\n",
        "770 error on training set:  0.0044\n",
        "770 error on testing set:  0.1048\n",
        "771\n",
        "771"
       ]
      },
      {
       "output_type": "stream",
       "stream": "stdout",
       "text": [
        " error on training set:  0.0044\n",
        "771 error on testing set:  0.1056\n",
        "772\n",
        "772 error on training set:  0.0044\n",
        "772 error on testing set:  0.1052\n",
        "773"
       ]
      },
      {
       "output_type": "stream",
       "stream": "stdout",
       "text": [
        "\n",
        "773 error on training set:  0.0040\n",
        "773 error on testing set:  0.1040\n",
        "774\n",
        "774"
       ]
      },
      {
       "output_type": "stream",
       "stream": "stdout",
       "text": [
        " error on training set:  0.0044\n",
        "774 error on testing set:  0.1052\n",
        "775\n",
        "775 error on training set:  0.0044\n",
        "775 error on testing set:  0.1056\n",
        "776"
       ]
      },
      {
       "output_type": "stream",
       "stream": "stdout",
       "text": [
        "\n",
        "776 error on training set:  0.0044\n",
        "776 error on testing set:  0.1048\n",
        "777\n",
        "777"
       ]
      },
      {
       "output_type": "stream",
       "stream": "stdout",
       "text": [
        " error on training set:  0.0044\n",
        "777 error on testing set:  0.1052\n",
        "778\n",
        "778 error on training set:  0.0044\n",
        "778 error on testing set:  0.1052\n",
        "779"
       ]
      },
      {
       "output_type": "stream",
       "stream": "stdout",
       "text": [
        "\n",
        "779 error on training set:  0.0044\n",
        "779 error on testing set:  0.1060\n",
        "780"
       ]
      },
      {
       "output_type": "stream",
       "stream": "stdout",
       "text": [
        "\n",
        "780 error on training set:  0.0044\n",
        "780 error on testing set:  0.1052\n",
        "781\n",
        "781"
       ]
      },
      {
       "output_type": "stream",
       "stream": "stdout",
       "text": [
        " error on training set:  0.0040\n",
        "781 error on testing set:  0.1044\n",
        "782\n",
        "782 error on training set:  0.0040\n",
        "782 error on testing set:  0.1044\n",
        "783"
       ]
      },
      {
       "output_type": "stream",
       "stream": "stdout",
       "text": [
        "\n",
        "783 error on training set:  0.0044\n",
        "783 error on testing set:  0.1052\n",
        "784\n",
        "784"
       ]
      },
      {
       "output_type": "stream",
       "stream": "stdout",
       "text": [
        " error on training set:  0.0040\n",
        "784 error on testing set:  0.1052\n",
        "785\n",
        "785 error on training set:  0.0044\n",
        "785 error on testing set:  0.1056\n",
        "786"
       ]
      },
      {
       "output_type": "stream",
       "stream": "stdout",
       "text": [
        "\n",
        "786 error on training set:  0.0040\n",
        "786 error on testing set:  0.1040\n",
        "787\n",
        "787"
       ]
      },
      {
       "output_type": "stream",
       "stream": "stdout",
       "text": [
        " error on training set:  0.0044\n",
        "787 error on testing set:  0.1056\n",
        "788\n",
        "788 error on training set:  0.0044\n",
        "788 error on testing set:  0.1052\n",
        "789"
       ]
      },
      {
       "output_type": "stream",
       "stream": "stdout",
       "text": [
        "\n",
        "789 error on training set:  0.0044\n",
        "789 error on testing set:  0.1052\n",
        "790"
       ]
      },
      {
       "output_type": "stream",
       "stream": "stdout",
       "text": [
        "\n",
        "790 error on training set:  0.0044\n",
        "790 error on testing set:  0.1052\n",
        "791\n",
        "791"
       ]
      },
      {
       "output_type": "stream",
       "stream": "stdout",
       "text": [
        " error on training set:  0.0044\n",
        "791 error on testing set:  0.1056\n",
        "792\n",
        "792 error on training set:  0.0044\n",
        "792 error on testing set:  0.1056\n",
        "793"
       ]
      },
      {
       "output_type": "stream",
       "stream": "stdout",
       "text": [
        "\n",
        "793 error on training set:  0.0044\n",
        "793 error on testing set:  0.1056\n",
        "794\n",
        "794"
       ]
      },
      {
       "output_type": "stream",
       "stream": "stdout",
       "text": [
        " error on training set:  0.0044\n",
        "794 error on testing set:  0.1056\n",
        "795\n",
        "795 error on training set:  0.0040\n",
        "795 error on testing set:  0.1048\n",
        "796"
       ]
      },
      {
       "output_type": "stream",
       "stream": "stdout",
       "text": [
        "\n",
        "796 error on training set:  0.0044\n",
        "796 error on testing set:  0.1060\n",
        "797\n",
        "797"
       ]
      },
      {
       "output_type": "stream",
       "stream": "stdout",
       "text": [
        " error on training set:  0.0044\n",
        "797 error on testing set:  0.1056\n",
        "798\n",
        "798 error on training set:  0.0044\n",
        "798 error on testing set:  0.1060\n",
        "799"
       ]
      },
      {
       "output_type": "stream",
       "stream": "stdout",
       "text": [
        "\n",
        "799 error on training set:  0.0044\n",
        "799 error on testing set:  0.1060\n",
        "800"
       ]
      },
      {
       "output_type": "stream",
       "stream": "stdout",
       "text": [
        "\n",
        "800 error on training set:  0.0040\n",
        "800 error on testing set:  0.1056\n",
        "801\n",
        "801"
       ]
      },
      {
       "output_type": "stream",
       "stream": "stdout",
       "text": [
        " error on training set:  0.0040\n",
        "801 error on testing set:  0.1052\n",
        "802\n",
        "802 error on training set:  0.0044\n",
        "802 error on testing set:  0.1056\n",
        "803"
       ]
      },
      {
       "output_type": "stream",
       "stream": "stdout",
       "text": [
        "\n",
        "803 error on training set:  0.0044\n",
        "803 error on testing set:  0.1060\n",
        "804\n",
        "804"
       ]
      },
      {
       "output_type": "stream",
       "stream": "stdout",
       "text": [
        " error on training set:  0.0044\n",
        "804 error on testing set:  0.1060\n",
        "805\n",
        "805 error on training set:  0.0040\n",
        "805 error on testing set:  0.1056\n",
        "806"
       ]
      },
      {
       "output_type": "stream",
       "stream": "stdout",
       "text": [
        "\n",
        "806 error on training set:  0.0040\n",
        "806 error on testing set:  0.1052\n",
        "807\n",
        "807"
       ]
      },
      {
       "output_type": "stream",
       "stream": "stdout",
       "text": [
        " error on training set:  0.0044\n",
        "807 error on testing set:  0.1060\n",
        "808\n",
        "808 error on training set:  0.0044\n",
        "808 error on testing set:  0.1060\n",
        "809"
       ]
      },
      {
       "output_type": "stream",
       "stream": "stdout",
       "text": [
        "\n",
        "809 error on training set:  0.0040\n",
        "809 error on testing set:  0.1056\n",
        "810"
       ]
      },
      {
       "output_type": "stream",
       "stream": "stdout",
       "text": [
        "\n",
        "810 error on training set:  0.0040\n",
        "810 error on testing set:  0.1056\n",
        "811\n",
        "811"
       ]
      },
      {
       "output_type": "stream",
       "stream": "stdout",
       "text": [
        " error on training set:  0.0044\n",
        "811 error on testing set:  0.1060\n",
        "812\n",
        "812 error on training set:  0.0040\n",
        "812 error on testing set:  0.1056\n",
        "813"
       ]
      },
      {
       "output_type": "stream",
       "stream": "stdout",
       "text": [
        "\n",
        "813 error on training set:  0.0040\n",
        "813 error on testing set:  0.1056\n",
        "814\n",
        "814"
       ]
      },
      {
       "output_type": "stream",
       "stream": "stdout",
       "text": [
        " error on training set:  0.0044\n",
        "814 error on testing set:  0.1060\n",
        "815\n",
        "815 error on training set:  0.0044\n",
        "815 error on testing set:  0.1060\n",
        "816"
       ]
      },
      {
       "output_type": "stream",
       "stream": "stdout",
       "text": [
        "\n",
        "816 error on training set:  0.0040\n",
        "816 error on testing set:  0.1056\n",
        "817\n",
        "817"
       ]
      },
      {
       "output_type": "stream",
       "stream": "stdout",
       "text": [
        " error on training set:  0.0044\n",
        "817 error on testing set:  0.1056\n",
        "818\n",
        "818 error on training set:  0.0040\n",
        "818 error on testing set:  0.1056\n",
        "819"
       ]
      },
      {
       "output_type": "stream",
       "stream": "stdout",
       "text": [
        "\n",
        "819 error on training set:  0.0040\n",
        "819 error on testing set:  0.1060\n",
        "820"
       ]
      },
      {
       "output_type": "stream",
       "stream": "stdout",
       "text": [
        "\n",
        "820 error on training set:  0.0040\n",
        "820 error on testing set:  0.1056\n",
        "821\n",
        "821"
       ]
      },
      {
       "output_type": "stream",
       "stream": "stdout",
       "text": [
        " error on training set:  0.0040\n",
        "821 error on testing set:  0.1056\n",
        "822\n",
        "822 error on training set:  0.0040\n",
        "822 error on testing set:  0.1056\n",
        "823"
       ]
      },
      {
       "output_type": "stream",
       "stream": "stdout",
       "text": [
        "\n",
        "823 error on training set:  0.0040\n",
        "823 error on testing set:  0.1056\n",
        "824\n",
        "824"
       ]
      },
      {
       "output_type": "stream",
       "stream": "stdout",
       "text": [
        " error on training set:  0.0040\n",
        "824 error on testing set:  0.1056\n",
        "825\n",
        "825 error on training set:  0.0040\n",
        "825 error on testing set:  0.1056\n",
        "826"
       ]
      },
      {
       "output_type": "stream",
       "stream": "stdout",
       "text": [
        "\n",
        "826 error on training set:  0.0040\n",
        "826 error on testing set:  0.1052\n",
        "827\n",
        "827"
       ]
      },
      {
       "output_type": "stream",
       "stream": "stdout",
       "text": [
        " error on training set:  0.0040\n",
        "827 error on testing set:  0.1056\n",
        "828\n",
        "828 error on training set:  0.0040\n",
        "828 error on testing set:  0.1052\n",
        "829"
       ]
      },
      {
       "output_type": "stream",
       "stream": "stdout",
       "text": [
        "\n",
        "829 error on training set:  0.0040\n",
        "829 error on testing set:  0.1052\n",
        "830"
       ]
      },
      {
       "output_type": "stream",
       "stream": "stdout",
       "text": [
        "\n",
        "830 error on training set:  0.0040\n",
        "830 error on testing set:  0.1060\n",
        "831\n",
        "831"
       ]
      },
      {
       "output_type": "stream",
       "stream": "stdout",
       "text": [
        " error on training set:  0.0040\n",
        "831 error on testing set:  0.1060\n",
        "832\n",
        "832 error on training set:  0.0040\n",
        "832 error on testing set:  0.1060\n",
        "833"
       ]
      },
      {
       "output_type": "stream",
       "stream": "stdout",
       "text": [
        "\n",
        "833 error on training set:  0.0040\n",
        "833 error on testing set:  0.1060\n",
        "834\n",
        "834"
       ]
      },
      {
       "output_type": "stream",
       "stream": "stdout",
       "text": [
        " error on training set:  0.0040\n",
        "834 error on testing set:  0.1056\n",
        "835\n",
        "835 error on training set:  0.0040\n",
        "835 error on testing set:  0.1060\n",
        "836"
       ]
      },
      {
       "output_type": "stream",
       "stream": "stdout",
       "text": [
        "\n",
        "836 error on training set:  0.0040\n",
        "836 error on testing set:  0.1060\n",
        "837\n",
        "837"
       ]
      },
      {
       "output_type": "stream",
       "stream": "stdout",
       "text": [
        " error on training set:  0.0040\n",
        "837 error on testing set:  0.1060\n",
        "838\n",
        "838 error on training set:  0.0040\n",
        "838 error on testing set:  0.1056\n",
        "839"
       ]
      },
      {
       "output_type": "stream",
       "stream": "stdout",
       "text": [
        "\n",
        "839 error on training set:  0.0040\n",
        "839 error on testing set:  0.1060\n",
        "840"
       ]
      },
      {
       "output_type": "stream",
       "stream": "stdout",
       "text": [
        "\n",
        "840 error on training set:  0.0040\n",
        "840 error on testing set:  0.1056\n",
        "841\n",
        "841"
       ]
      },
      {
       "output_type": "stream",
       "stream": "stdout",
       "text": [
        " error on training set:  0.0040\n",
        "841 error on testing set:  0.1060\n",
        "842\n",
        "842 error on training set:  0.0040\n",
        "842 error on testing set:  0.1060\n",
        "843"
       ]
      },
      {
       "output_type": "stream",
       "stream": "stdout",
       "text": [
        "\n",
        "843 error on training set:  0.0040\n",
        "843 error on testing set:  0.1060\n",
        "844\n",
        "844"
       ]
      },
      {
       "output_type": "stream",
       "stream": "stdout",
       "text": [
        " error on training set:  0.0040\n",
        "844 error on testing set:  0.1060\n",
        "845\n",
        "845 error on training set:  0.0040\n",
        "845 error on testing set:  0.1056\n",
        "846"
       ]
      },
      {
       "output_type": "stream",
       "stream": "stdout",
       "text": [
        "\n",
        "846 error on training set:  0.0040\n",
        "846 error on testing set:  0.1056\n",
        "847\n",
        "847"
       ]
      },
      {
       "output_type": "stream",
       "stream": "stdout",
       "text": [
        " error on training set:  0.0040\n",
        "847 error on testing set:  0.1060\n",
        "848\n",
        "848 error on training set:  0.0040\n",
        "848 error on testing set:  0.1064\n",
        "849"
       ]
      },
      {
       "output_type": "stream",
       "stream": "stdout",
       "text": [
        "\n",
        "849 error on training set:  0.0040\n",
        "849 error on testing set:  0.1064\n",
        "850"
       ]
      },
      {
       "output_type": "stream",
       "stream": "stdout",
       "text": [
        "\n",
        "850 error on training set:  0.0040\n",
        "850 error on testing set:  0.1060\n",
        "851\n",
        "851"
       ]
      },
      {
       "output_type": "stream",
       "stream": "stdout",
       "text": [
        " error on training set:  0.0040\n",
        "851 error on testing set:  0.1056\n",
        "852\n",
        "852 error on training set:  0.0036\n",
        "852 error on testing set:  0.1064\n",
        "853"
       ]
      },
      {
       "output_type": "stream",
       "stream": "stdout",
       "text": [
        "\n",
        "853 error on training set:  0.0040\n",
        "853 error on testing set:  0.1060\n",
        "854\n",
        "854"
       ]
      },
      {
       "output_type": "stream",
       "stream": "stdout",
       "text": [
        " error on training set:  0.0036\n",
        "854 error on testing set:  0.1064\n",
        "855\n",
        "855 error on training set:  0.0040\n",
        "855 error on testing set:  0.1064\n",
        "856"
       ]
      },
      {
       "output_type": "stream",
       "stream": "stdout",
       "text": [
        "\n",
        "856 error on training set:  0.0040\n",
        "856 error on testing set:  0.1060\n",
        "857\n",
        "857"
       ]
      },
      {
       "output_type": "stream",
       "stream": "stdout",
       "text": [
        " error on training set:  0.0036\n",
        "857 error on testing set:  0.1064\n",
        "858\n",
        "858 error on training set:  0.0036\n",
        "858 error on testing set:  0.1064\n",
        "859"
       ]
      },
      {
       "output_type": "stream",
       "stream": "stdout",
       "text": [
        "\n",
        "859 error on training set:  0.0036\n",
        "859 error on testing set:  0.1064\n",
        "860"
       ]
      },
      {
       "output_type": "stream",
       "stream": "stdout",
       "text": [
        "\n",
        "860 error on training set:  0.0036\n",
        "860 error on testing set:  0.1064\n",
        "861\n",
        "861"
       ]
      },
      {
       "output_type": "stream",
       "stream": "stdout",
       "text": [
        " error on training set:  0.0036\n",
        "861 error on testing set:  0.1064\n",
        "862\n",
        "862 error on training set:  0.0036\n",
        "862 error on testing set:  0.1064\n",
        "863"
       ]
      },
      {
       "output_type": "stream",
       "stream": "stdout",
       "text": [
        "\n",
        "863 error on training set:  0.0040\n",
        "863 error on testing set:  0.1064\n",
        "864\n",
        "864"
       ]
      },
      {
       "output_type": "stream",
       "stream": "stdout",
       "text": [
        " error on training set:  0.0036\n",
        "864 error on testing set:  0.1064\n",
        "865\n",
        "865 error on training set:  0.0040\n",
        "865 error on testing set:  0.1064\n",
        "866"
       ]
      },
      {
       "output_type": "stream",
       "stream": "stdout",
       "text": [
        "\n",
        "866 error on training set:  0.0036\n",
        "866 error on testing set:  0.1064\n",
        "867\n",
        "867"
       ]
      },
      {
       "output_type": "stream",
       "stream": "stdout",
       "text": [
        " error on training set:  0.0036\n",
        "867 error on testing set:  0.1068\n",
        "868\n",
        "868 error on training set:  0.0036\n",
        "868 error on testing set:  0.1064\n",
        "869"
       ]
      },
      {
       "output_type": "stream",
       "stream": "stdout",
       "text": [
        "\n",
        "869 error on training set:  0.0036\n",
        "869 error on testing set:  0.1064\n",
        "870"
       ]
      },
      {
       "output_type": "stream",
       "stream": "stdout",
       "text": [
        "\n",
        "870 error on training set:  0.0036\n",
        "870 error on testing set:  0.1068\n",
        "871\n",
        "871"
       ]
      },
      {
       "output_type": "stream",
       "stream": "stdout",
       "text": [
        " error on training set:  0.0036\n",
        "871 error on testing set:  0.1064\n",
        "872\n",
        "872 error on training set:  0.0036\n",
        "872 error on testing set:  0.1064\n",
        "873"
       ]
      },
      {
       "output_type": "stream",
       "stream": "stdout",
       "text": [
        "\n",
        "873 error on training set:  0.0036\n",
        "873 error on testing set:  0.1068\n",
        "874\n",
        "874"
       ]
      },
      {
       "output_type": "stream",
       "stream": "stdout",
       "text": [
        " error on training set:  0.0036\n",
        "874 error on testing set:  0.1064\n",
        "875\n",
        "875 error on training set:  0.0036\n",
        "875 error on testing set:  0.1064\n",
        "876"
       ]
      },
      {
       "output_type": "stream",
       "stream": "stdout",
       "text": [
        "\n",
        "876 error on training set:  0.0036\n",
        "876 error on testing set:  0.1060\n",
        "877\n",
        "877"
       ]
      },
      {
       "output_type": "stream",
       "stream": "stdout",
       "text": [
        " error on training set:  0.0032\n",
        "877 error on testing set:  0.1060\n",
        "878\n",
        "878 error on training set:  0.0036\n",
        "878 error on testing set:  0.1068\n",
        "879"
       ]
      },
      {
       "output_type": "stream",
       "stream": "stdout",
       "text": [
        "\n",
        "879 error on training set:  0.0032\n",
        "879 error on testing set:  0.1060\n",
        "880"
       ]
      },
      {
       "output_type": "stream",
       "stream": "stdout",
       "text": [
        "\n",
        "880 error on training set:  0.0036\n",
        "880 error on testing set:  0.1060\n",
        "881\n",
        "881"
       ]
      },
      {
       "output_type": "stream",
       "stream": "stdout",
       "text": [
        " error on training set:  0.0036\n",
        "881 error on testing set:  0.1060\n",
        "882\n",
        "882 error on training set:  0.0036\n",
        "882 error on testing set:  0.1068\n",
        "883"
       ]
      },
      {
       "output_type": "stream",
       "stream": "stdout",
       "text": [
        "\n",
        "883 error on training set:  0.0036\n",
        "883 error on testing set:  0.1068\n",
        "884\n",
        "884"
       ]
      },
      {
       "output_type": "stream",
       "stream": "stdout",
       "text": [
        " error on training set:  0.0036\n",
        "884 error on testing set:  0.1068\n",
        "885\n",
        "885 error on training set:  0.0032\n",
        "885 error on testing set:  0.1060\n",
        "886"
       ]
      },
      {
       "output_type": "stream",
       "stream": "stdout",
       "text": [
        "\n",
        "886 error on training set:  0.0032\n",
        "886 error on testing set:  0.1060\n",
        "887\n",
        "887"
       ]
      },
      {
       "output_type": "stream",
       "stream": "stdout",
       "text": [
        " error on training set:  0.0036\n",
        "887 error on testing set:  0.1068\n",
        "888\n",
        "888 error on training set:  0.0036\n",
        "888 error on testing set:  0.1064\n",
        "889"
       ]
      },
      {
       "output_type": "stream",
       "stream": "stdout",
       "text": [
        "\n",
        "889 error on training set:  0.0036\n",
        "889 error on testing set:  0.1064\n",
        "890"
       ]
      },
      {
       "output_type": "stream",
       "stream": "stdout",
       "text": [
        "\n",
        "890 error on training set:  0.0032\n",
        "890 error on testing set:  0.1064\n",
        "891\n",
        "891"
       ]
      },
      {
       "output_type": "stream",
       "stream": "stdout",
       "text": [
        " error on training set:  0.0032\n",
        "891 error on testing set:  0.1060\n",
        "892\n",
        "892 error on training set:  0.0032\n",
        "892 error on testing set:  0.1064\n",
        "893"
       ]
      },
      {
       "output_type": "stream",
       "stream": "stdout",
       "text": [
        "\n",
        "893 error on training set:  0.0036\n",
        "893 error on testing set:  0.1060\n",
        "894\n",
        "894"
       ]
      },
      {
       "output_type": "stream",
       "stream": "stdout",
       "text": [
        " error on training set:  0.0036\n",
        "894 error on testing set:  0.1064\n",
        "895\n",
        "895 error on training set:  0.0036\n",
        "895 error on testing set:  0.1064\n",
        "896"
       ]
      },
      {
       "output_type": "stream",
       "stream": "stdout",
       "text": [
        "\n",
        "896 error on training set:  0.0032\n",
        "896 error on testing set:  0.1068\n",
        "897\n",
        "897"
       ]
      },
      {
       "output_type": "stream",
       "stream": "stdout",
       "text": [
        " error on training set:  0.0032\n",
        "897 error on testing set:  0.1068\n",
        "898\n",
        "898 error on training set:  0.0032\n",
        "898 error on testing set:  0.1064\n",
        "899"
       ]
      },
      {
       "output_type": "stream",
       "stream": "stdout",
       "text": [
        "\n",
        "899 error on training set:  0.0036\n",
        "899 error on testing set:  0.1064\n",
        "900"
       ]
      },
      {
       "output_type": "stream",
       "stream": "stdout",
       "text": [
        "\n",
        "900 error on training set:  0.0036\n",
        "900 error on testing set:  0.1064\n",
        "901\n",
        "901"
       ]
      },
      {
       "output_type": "stream",
       "stream": "stdout",
       "text": [
        " error on training set:  0.0032\n",
        "901 error on testing set:  0.1068\n",
        "902\n",
        "902 error on training set:  0.0032\n",
        "902 error on testing set:  0.1072\n",
        "903"
       ]
      },
      {
       "output_type": "stream",
       "stream": "stdout",
       "text": [
        "\n",
        "903 error on training set:  0.0036\n",
        "903 error on testing set:  0.1068\n",
        "904\n",
        "904"
       ]
      },
      {
       "output_type": "stream",
       "stream": "stdout",
       "text": [
        " error on training set:  0.0032\n",
        "904 error on testing set:  0.1068\n",
        "905\n",
        "905 error on training set:  0.0032\n",
        "905 error on testing set:  0.1068\n",
        "906"
       ]
      },
      {
       "output_type": "stream",
       "stream": "stdout",
       "text": [
        "\n",
        "906 error on training set:  0.0032\n",
        "906 error on testing set:  0.1064\n",
        "907\n",
        "907"
       ]
      },
      {
       "output_type": "stream",
       "stream": "stdout",
       "text": [
        " error on training set:  0.0032\n",
        "907 error on testing set:  0.1068\n",
        "908\n",
        "908 error on training set:  0.0032\n",
        "908 error on testing set:  0.1064\n",
        "909"
       ]
      },
      {
       "output_type": "stream",
       "stream": "stdout",
       "text": [
        "\n",
        "909 error on training set:  0.0032\n",
        "909 error on testing set:  0.1068\n",
        "910"
       ]
      },
      {
       "output_type": "stream",
       "stream": "stdout",
       "text": [
        "\n",
        "910 error on training set:  0.0028\n",
        "910 error on testing set:  0.1068\n",
        "911\n",
        "911"
       ]
      },
      {
       "output_type": "stream",
       "stream": "stdout",
       "text": [
        " error on training set:  0.0028\n",
        "911 error on testing set:  0.1068\n",
        "912\n",
        "912 error on training set:  0.0028\n",
        "912 error on testing set:  0.1064\n",
        "913"
       ]
      },
      {
       "output_type": "stream",
       "stream": "stdout",
       "text": [
        "\n",
        "913 error on training set:  0.0028\n",
        "913 error on testing set:  0.1068\n",
        "914\n",
        "914"
       ]
      },
      {
       "output_type": "stream",
       "stream": "stdout",
       "text": [
        " error on training set:  0.0032\n",
        "914 error on testing set:  0.1068\n",
        "915\n",
        "915 error on training set:  0.0032\n",
        "915 error on testing set:  0.1068\n",
        "916"
       ]
      },
      {
       "output_type": "stream",
       "stream": "stdout",
       "text": [
        "\n",
        "916 error on training set:  0.0032\n",
        "916 error on testing set:  0.1064\n",
        "917\n",
        "917"
       ]
      },
      {
       "output_type": "stream",
       "stream": "stdout",
       "text": [
        " error on training set:  0.0028\n",
        "917 error on testing set:  0.1064\n",
        "918\n",
        "918 error on training set:  0.0028\n",
        "918 error on testing set:  0.1068\n",
        "919"
       ]
      },
      {
       "output_type": "stream",
       "stream": "stdout",
       "text": [
        "\n",
        "919 error on training set:  0.0028\n",
        "919 error on testing set:  0.1064\n",
        "920"
       ]
      },
      {
       "output_type": "stream",
       "stream": "stdout",
       "text": [
        "\n",
        "920 error on training set:  0.0028\n",
        "920 error on testing set:  0.1064\n",
        "921\n",
        "921"
       ]
      },
      {
       "output_type": "stream",
       "stream": "stdout",
       "text": [
        " error on training set:  0.0028\n",
        "921 error on testing set:  0.1068\n",
        "922\n",
        "922 error on training set:  0.0028\n",
        "922 error on testing set:  0.1064\n",
        "923"
       ]
      },
      {
       "output_type": "stream",
       "stream": "stdout",
       "text": [
        "\n",
        "923 error on training set:  0.0032\n",
        "923 error on testing set:  0.1068\n",
        "924\n",
        "924"
       ]
      },
      {
       "output_type": "stream",
       "stream": "stdout",
       "text": [
        " error on training set:  0.0032\n",
        "924 error on testing set:  0.1068\n",
        "925\n",
        "925 error on training set:  0.0028\n",
        "925 error on testing set:  0.1064\n",
        "926"
       ]
      },
      {
       "output_type": "stream",
       "stream": "stdout",
       "text": [
        "\n",
        "926 error on training set:  0.0028\n",
        "926 error on testing set:  0.1072\n",
        "927\n",
        "927"
       ]
      },
      {
       "output_type": "stream",
       "stream": "stdout",
       "text": [
        " error on training set:  0.0032\n",
        "927 error on testing set:  0.1060\n",
        "928\n",
        "928 error on training set:  0.0028\n",
        "928 error on testing set:  0.1068\n",
        "929"
       ]
      },
      {
       "output_type": "stream",
       "stream": "stdout",
       "text": [
        "\n",
        "929 error on training set:  0.0028\n",
        "929 error on testing set:  0.1068\n",
        "930"
       ]
      },
      {
       "output_type": "stream",
       "stream": "stdout",
       "text": [
        "\n",
        "930 error on training set:  0.0028\n",
        "930 error on testing set:  0.1068\n",
        "931\n",
        "931"
       ]
      },
      {
       "output_type": "stream",
       "stream": "stdout",
       "text": [
        " error on training set:  0.0028\n",
        "931 error on testing set:  0.1068\n",
        "932\n",
        "932 error on training set:  0.0028\n",
        "932 error on testing set:  0.1064\n",
        "933"
       ]
      },
      {
       "output_type": "stream",
       "stream": "stdout",
       "text": [
        "\n",
        "933 error on training set:  0.0028\n",
        "933 error on testing set:  0.1064\n",
        "934\n",
        "934"
       ]
      },
      {
       "output_type": "stream",
       "stream": "stdout",
       "text": [
        " error on training set:  0.0028\n",
        "934 error on testing set:  0.1068\n",
        "935\n",
        "935 error on training set:  0.0028\n",
        "935 error on testing set:  0.1068\n",
        "936"
       ]
      },
      {
       "output_type": "stream",
       "stream": "stdout",
       "text": [
        "\n",
        "936 error on training set:  0.0028\n",
        "936 error on testing set:  0.1068\n",
        "937\n",
        "937"
       ]
      },
      {
       "output_type": "stream",
       "stream": "stdout",
       "text": [
        " error on training set:  0.0028\n",
        "937 error on testing set:  0.1068\n",
        "938\n",
        "938 error on training set:  0.0028\n",
        "938 error on testing set:  0.1064\n",
        "939"
       ]
      },
      {
       "output_type": "stream",
       "stream": "stdout",
       "text": [
        "\n",
        "939 error on training set:  0.0028\n",
        "939 error on testing set:  0.1068\n",
        "940"
       ]
      },
      {
       "output_type": "stream",
       "stream": "stdout",
       "text": [
        "\n",
        "940 error on training set:  0.0028\n",
        "940 error on testing set:  0.1064\n",
        "941\n",
        "941"
       ]
      },
      {
       "output_type": "stream",
       "stream": "stdout",
       "text": [
        " error on training set:  0.0028\n",
        "941 error on testing set:  0.1064\n",
        "942\n",
        "942 error on training set:  0.0028\n",
        "942 error on testing set:  0.1068\n",
        "943"
       ]
      },
      {
       "output_type": "stream",
       "stream": "stdout",
       "text": [
        "\n",
        "943 error on training set:  0.0028\n",
        "943 error on testing set:  0.1064\n",
        "944\n",
        "944"
       ]
      },
      {
       "output_type": "stream",
       "stream": "stdout",
       "text": [
        " error on training set:  0.0028\n",
        "944 error on testing set:  0.1068\n",
        "945\n",
        "945 error on training set:  0.0028\n",
        "945 error on testing set:  0.1072\n",
        "946"
       ]
      },
      {
       "output_type": "stream",
       "stream": "stdout",
       "text": [
        "\n",
        "946 error on training set:  0.0028\n",
        "946 error on testing set:  0.1064\n",
        "947\n",
        "947"
       ]
      },
      {
       "output_type": "stream",
       "stream": "stdout",
       "text": [
        " error on training set:  0.0024\n",
        "947 error on testing set:  0.1060\n",
        "948\n",
        "948 error on training set:  0.0024\n",
        "948 error on testing set:  0.1064\n",
        "949"
       ]
      },
      {
       "output_type": "stream",
       "stream": "stdout",
       "text": [
        "\n",
        "949 error on training set:  0.0024\n",
        "949 error on testing set:  0.1064\n",
        "950"
       ]
      },
      {
       "output_type": "stream",
       "stream": "stdout",
       "text": [
        "\n",
        "950 error on training set:  0.0024\n",
        "950 error on testing set:  0.1064\n",
        "951\n",
        "951"
       ]
      },
      {
       "output_type": "stream",
       "stream": "stdout",
       "text": [
        " error on training set:  0.0024\n",
        "951 error on testing set:  0.1068\n",
        "952\n",
        "952 error on training set:  0.0024\n",
        "952 error on testing set:  0.1068\n",
        "953"
       ]
      },
      {
       "output_type": "stream",
       "stream": "stdout",
       "text": [
        "\n",
        "953 error on training set:  0.0024\n",
        "953 error on testing set:  0.1068\n",
        "954\n",
        "954"
       ]
      },
      {
       "output_type": "stream",
       "stream": "stdout",
       "text": [
        " error on training set:  0.0024\n",
        "954 error on testing set:  0.1060\n",
        "955\n",
        "955 error on training set:  0.0024\n",
        "955 error on testing set:  0.1068\n",
        "956"
       ]
      },
      {
       "output_type": "stream",
       "stream": "stdout",
       "text": [
        "\n",
        "956 error on training set:  0.0024\n",
        "956 error on testing set:  0.1064\n",
        "957\n",
        "957"
       ]
      },
      {
       "output_type": "stream",
       "stream": "stdout",
       "text": [
        " error on training set:  0.0024\n",
        "957 error on testing set:  0.1072\n",
        "958\n",
        "958 error on training set:  0.0024\n",
        "958 error on testing set:  0.1072\n",
        "959"
       ]
      },
      {
       "output_type": "stream",
       "stream": "stdout",
       "text": [
        "\n",
        "959 error on training set:  0.0024\n",
        "959 error on testing set:  0.1068\n",
        "960"
       ]
      },
      {
       "output_type": "stream",
       "stream": "stdout",
       "text": [
        "\n",
        "960 error on training set:  0.0024\n",
        "960 error on testing set:  0.1060\n",
        "961\n",
        "961"
       ]
      },
      {
       "output_type": "stream",
       "stream": "stdout",
       "text": [
        " error on training set:  0.0024\n",
        "961 error on testing set:  0.1064\n",
        "962\n",
        "962 error on training set:  0.0024\n",
        "962 error on testing set:  0.1060\n",
        "963"
       ]
      },
      {
       "output_type": "stream",
       "stream": "stdout",
       "text": [
        "\n",
        "963 error on training set:  0.0024\n",
        "963 error on testing set:  0.1064\n",
        "964\n",
        "964"
       ]
      },
      {
       "output_type": "stream",
       "stream": "stdout",
       "text": [
        " error on training set:  0.0024\n",
        "964 error on testing set:  0.1068\n",
        "965\n",
        "965 error on training set:  0.0024\n",
        "965 error on testing set:  0.1060\n",
        "966"
       ]
      },
      {
       "output_type": "stream",
       "stream": "stdout",
       "text": [
        "\n",
        "966 error on training set:  0.0024\n",
        "966 error on testing set:  0.1060\n",
        "967\n",
        "967"
       ]
      },
      {
       "output_type": "stream",
       "stream": "stdout",
       "text": [
        " error on training set:  0.0024\n",
        "967 error on testing set:  0.1060\n",
        "968\n",
        "968 error on training set:  0.0024\n",
        "968 error on testing set:  0.1060\n",
        "969"
       ]
      },
      {
       "output_type": "stream",
       "stream": "stdout",
       "text": [
        "\n",
        "969 error on training set:  0.0024\n",
        "969 error on testing set:  0.1064\n",
        "970"
       ]
      },
      {
       "output_type": "stream",
       "stream": "stdout",
       "text": [
        "\n",
        "970 error on training set:  0.0024\n",
        "970 error on testing set:  0.1060\n",
        "971\n",
        "971"
       ]
      },
      {
       "output_type": "stream",
       "stream": "stdout",
       "text": [
        " error on training set:  0.0024\n",
        "971 error on testing set:  0.1072\n",
        "972\n",
        "972 error on training set:  0.0024\n",
        "972 error on testing set:  0.1060\n",
        "973"
       ]
      },
      {
       "output_type": "stream",
       "stream": "stdout",
       "text": [
        "\n",
        "973 error on training set:  0.0024\n",
        "973 error on testing set:  0.1060\n",
        "974\n",
        "974"
       ]
      },
      {
       "output_type": "stream",
       "stream": "stdout",
       "text": [
        " error on training set:  0.0024\n",
        "974 error on testing set:  0.1060\n",
        "975\n",
        "975 error on training set:  0.0024\n",
        "975 error on testing set:  0.1060\n",
        "976"
       ]
      },
      {
       "output_type": "stream",
       "stream": "stdout",
       "text": [
        "\n",
        "976 error on training set:  0.0024\n",
        "976 error on testing set:  0.1072\n",
        "977\n",
        "977"
       ]
      },
      {
       "output_type": "stream",
       "stream": "stdout",
       "text": [
        " error on training set:  0.0024\n",
        "977 error on testing set:  0.1068\n",
        "978\n",
        "978 error on training set:  0.0024\n",
        "978 error on testing set:  0.1064\n",
        "979"
       ]
      },
      {
       "output_type": "stream",
       "stream": "stdout",
       "text": [
        "\n",
        "979 error on training set:  0.0024\n",
        "979 error on testing set:  0.1064\n",
        "980"
       ]
      },
      {
       "output_type": "stream",
       "stream": "stdout",
       "text": [
        "\n",
        "980 error on training set:  0.0024\n",
        "980 error on testing set:  0.1060\n",
        "981\n",
        "981"
       ]
      },
      {
       "output_type": "stream",
       "stream": "stdout",
       "text": [
        " error on training set:  0.0024\n",
        "981 error on testing set:  0.1060\n",
        "982\n",
        "982 error on training set:  0.0024\n",
        "982 error on testing set:  0.1056\n",
        "983"
       ]
      },
      {
       "output_type": "stream",
       "stream": "stdout",
       "text": [
        "\n",
        "983 error on training set:  0.0024\n",
        "983 error on testing set:  0.1060\n",
        "984\n",
        "984"
       ]
      },
      {
       "output_type": "stream",
       "stream": "stdout",
       "text": [
        " error on training set:  0.0024\n",
        "984 error on testing set:  0.1060\n",
        "985\n",
        "985 error on training set:  0.0024\n",
        "985 error on testing set:  0.1060\n",
        "986"
       ]
      },
      {
       "output_type": "stream",
       "stream": "stdout",
       "text": [
        "\n",
        "986 error on training set:  0.0024\n",
        "986 error on testing set:  0.1056\n",
        "987\n",
        "987"
       ]
      },
      {
       "output_type": "stream",
       "stream": "stdout",
       "text": [
        " error on training set:  0.0024\n",
        "987 error on testing set:  0.1060\n",
        "988\n",
        "988 error on training set:  0.0024\n",
        "988 error on testing set:  0.1056\n",
        "989"
       ]
      },
      {
       "output_type": "stream",
       "stream": "stdout",
       "text": [
        "\n",
        "989 error on training set:  0.0024\n",
        "989 error on testing set:  0.1060\n",
        "990"
       ]
      },
      {
       "output_type": "stream",
       "stream": "stdout",
       "text": [
        "\n",
        "990 error on training set:  0.0024\n",
        "990 error on testing set:  0.1060\n",
        "991\n",
        "991"
       ]
      },
      {
       "output_type": "stream",
       "stream": "stdout",
       "text": [
        " error on training set:  0.0024\n",
        "991 error on testing set:  0.1060\n",
        "992\n",
        "992 error on training set:  0.0024\n",
        "992 error on testing set:  0.1056\n",
        "993"
       ]
      },
      {
       "output_type": "stream",
       "stream": "stdout",
       "text": [
        "\n",
        "993 error on training set:  0.0024\n",
        "993 error on testing set:  0.1056\n",
        "994\n",
        "994"
       ]
      },
      {
       "output_type": "stream",
       "stream": "stdout",
       "text": [
        " error on training set:  0.0024\n",
        "994 error on testing set:  0.1060\n",
        "995\n",
        "995 error on training set:  0.0024\n",
        "995 error on testing set:  0.1064\n",
        "996"
       ]
      },
      {
       "output_type": "stream",
       "stream": "stdout",
       "text": [
        "\n",
        "996 error on training set:  0.0024\n",
        "996 error on testing set:  0.1064\n",
        "997\n",
        "997"
       ]
      },
      {
       "output_type": "stream",
       "stream": "stdout",
       "text": [
        " error on training set:  0.0024\n",
        "997 error on testing set:  0.1060\n",
        "998\n",
        "998 error on training set:  0.0024\n",
        "998 error on testing set:  0.1068\n",
        "999"
       ]
      },
      {
       "output_type": "stream",
       "stream": "stdout",
       "text": [
        "\n",
        "999 error on training set:  0.0024\n",
        "999 error on testing set:  0.1064\n",
        "1000"
       ]
      },
      {
       "output_type": "stream",
       "stream": "stdout",
       "text": [
        "\n",
        "1000 error on training set:  0.0024\n",
        "1000 error on testing set:  0.1060\n",
        "1001\n",
        "1001"
       ]
      },
      {
       "output_type": "stream",
       "stream": "stdout",
       "text": [
        " error on training set:  0.0024\n",
        "1001 error on testing set:  0.1064\n",
        "1002\n",
        "1002 error on training set:  0.0024\n",
        "1002 error on testing set:  0.1060\n",
        "1003"
       ]
      },
      {
       "output_type": "stream",
       "stream": "stdout",
       "text": [
        "\n",
        "1003 error on training set:  0.0024\n",
        "1003 error on testing set:  0.1060\n",
        "1004\n",
        "1004"
       ]
      },
      {
       "output_type": "stream",
       "stream": "stdout",
       "text": [
        " error on training set:  0.0024\n",
        "1004 error on testing set:  0.1064\n",
        "1005\n",
        "1005 error on training set:  0.0024\n",
        "1005 error on testing set:  0.1064\n",
        "1006"
       ]
      },
      {
       "output_type": "stream",
       "stream": "stdout",
       "text": [
        "\n",
        "1006 error on training set:  0.0024\n",
        "1006 error on testing set:  0.1068\n",
        "1007\n",
        "1007"
       ]
      },
      {
       "output_type": "stream",
       "stream": "stdout",
       "text": [
        " error on training set:  0.0024\n",
        "1007 error on testing set:  0.1064\n",
        "1008\n",
        "1008 error on training set:  0.0024\n",
        "1008 error on testing set:  0.1064\n",
        "1009"
       ]
      },
      {
       "output_type": "stream",
       "stream": "stdout",
       "text": [
        "\n",
        "1009 error on training set:  0.0024\n",
        "1009 error on testing set:  0.1060\n",
        "1010"
       ]
      },
      {
       "output_type": "stream",
       "stream": "stdout",
       "text": [
        "\n",
        "1010 error on training set:  0.0024\n",
        "1010 error on testing set:  0.1056\n",
        "1011\n",
        "1011"
       ]
      },
      {
       "output_type": "stream",
       "stream": "stdout",
       "text": [
        " error on training set:  0.0024\n",
        "1011 error on testing set:  0.1068\n",
        "1012\n",
        "1012 error on training set:  0.0024\n",
        "1012 error on testing set:  0.1064\n",
        "1013"
       ]
      },
      {
       "output_type": "stream",
       "stream": "stdout",
       "text": [
        "\n",
        "1013 error on training set:  0.0024\n",
        "1013 error on testing set:  0.1060\n",
        "1014\n",
        "1014"
       ]
      },
      {
       "output_type": "stream",
       "stream": "stdout",
       "text": [
        " error on training set:  0.0024\n",
        "1014 error on testing set:  0.1056\n",
        "1015\n",
        "1015 error on training set:  0.0024\n",
        "1015 error on testing set:  0.1064\n",
        "1016"
       ]
      },
      {
       "output_type": "stream",
       "stream": "stdout",
       "text": [
        "\n",
        "1016 error on training set:  0.0024\n",
        "1016 error on testing set:  0.1060\n",
        "1017\n",
        "1017"
       ]
      },
      {
       "output_type": "stream",
       "stream": "stdout",
       "text": [
        " error on training set:  0.0024\n",
        "1017 error on testing set:  0.1056\n",
        "1018\n",
        "1018 error on training set:  0.0024\n",
        "1018 error on testing set:  0.1060\n",
        "1019"
       ]
      },
      {
       "output_type": "stream",
       "stream": "stdout",
       "text": [
        "\n",
        "1019 error on training set:  0.0024\n",
        "1019 error on testing set:  0.1060\n",
        "1020"
       ]
      },
      {
       "output_type": "stream",
       "stream": "stdout",
       "text": [
        "\n",
        "1020 error on training set:  0.0024\n",
        "1020 error on testing set:  0.1056\n",
        "1021\n",
        "1021"
       ]
      },
      {
       "output_type": "stream",
       "stream": "stdout",
       "text": [
        " error on training set:  0.0024\n",
        "1021 error on testing set:  0.1060\n",
        "1022\n",
        "1022 error on training set:  0.0024\n",
        "1022 error on testing set:  0.1064\n",
        "1023"
       ]
      },
      {
       "output_type": "stream",
       "stream": "stdout",
       "text": [
        "\n",
        "1023 error on training set:  0.0024\n",
        "1023 error on testing set:  0.1060\n",
        "1024\n",
        "1024"
       ]
      },
      {
       "output_type": "stream",
       "stream": "stdout",
       "text": [
        " error on training set:  0.0024\n",
        "1024 error on testing set:  0.1060\n",
        "1025\n",
        "1025 error on training set:  0.0024\n",
        "1025 error on testing set:  0.1056\n",
        "1026"
       ]
      },
      {
       "output_type": "stream",
       "stream": "stdout",
       "text": [
        "\n",
        "1026 error on training set:  0.0024\n",
        "1026 error on testing set:  0.1060\n",
        "1027\n",
        "1027"
       ]
      },
      {
       "output_type": "stream",
       "stream": "stdout",
       "text": [
        " error on training set:  0.0024\n",
        "1027 error on testing set:  0.1068\n",
        "1028\n",
        "1028 error on training set:  0.0024\n",
        "1028 error on testing set:  0.1056\n",
        "1029"
       ]
      },
      {
       "output_type": "stream",
       "stream": "stdout",
       "text": [
        "\n",
        "1029 error on training set:  0.0024\n",
        "1029 error on testing set:  0.1060\n",
        "1030"
       ]
      },
      {
       "output_type": "stream",
       "stream": "stdout",
       "text": [
        "\n",
        "1030 error on training set:  0.0024\n",
        "1030 error on testing set:  0.1052\n",
        "1031\n",
        "1031"
       ]
      },
      {
       "output_type": "stream",
       "stream": "stdout",
       "text": [
        " error on training set:  0.0024\n",
        "1031 error on testing set:  0.1060\n",
        "1032\n",
        "1032 error on training set:  0.0024\n",
        "1032 error on testing set:  0.1056\n",
        "1033"
       ]
      },
      {
       "output_type": "stream",
       "stream": "stdout",
       "text": [
        "\n",
        "1033 error on training set:  0.0024\n",
        "1033 error on testing set:  0.1060\n",
        "1034\n",
        "1034"
       ]
      },
      {
       "output_type": "stream",
       "stream": "stdout",
       "text": [
        " error on training set:  0.0024\n",
        "1034 error on testing set:  0.1064\n",
        "1035\n",
        "1035 error on training set:  0.0024\n",
        "1035 error on testing set:  0.1056\n",
        "1036"
       ]
      },
      {
       "output_type": "stream",
       "stream": "stdout",
       "text": [
        "\n",
        "1036 error on training set:  0.0024\n",
        "1036 error on testing set:  0.1056\n",
        "1037\n",
        "1037"
       ]
      },
      {
       "output_type": "stream",
       "stream": "stdout",
       "text": [
        " error on training set:  0.0024\n",
        "1037 error on testing set:  0.1056\n",
        "1038\n",
        "1038 error on training set:  0.0024\n",
        "1038 error on testing set:  0.1060\n",
        "1039"
       ]
      },
      {
       "output_type": "stream",
       "stream": "stdout",
       "text": [
        "\n",
        "1039 error on training set:  0.0024\n",
        "1039 error on testing set:  0.1052\n",
        "1040"
       ]
      },
      {
       "output_type": "stream",
       "stream": "stdout",
       "text": [
        "\n",
        "1040 error on training set:  0.0024\n",
        "1040 error on testing set:  0.1060\n",
        "1041\n",
        "1041"
       ]
      },
      {
       "output_type": "stream",
       "stream": "stdout",
       "text": [
        " error on training set:  0.0024\n",
        "1041 error on testing set:  0.1056\n",
        "1042\n",
        "1042 error on training set:  0.0024\n",
        "1042 error on testing set:  0.1060\n",
        "1043"
       ]
      },
      {
       "output_type": "stream",
       "stream": "stdout",
       "text": [
        "\n",
        "1043 error on training set:  0.0024\n",
        "1043 error on testing set:  0.1064\n",
        "1044\n",
        "1044"
       ]
      },
      {
       "output_type": "stream",
       "stream": "stdout",
       "text": [
        " error on training set:  0.0024\n",
        "1044 error on testing set:  0.1056\n",
        "1045\n",
        "1045 error on training set:  0.0024\n",
        "1045 error on testing set:  0.1056\n",
        "1046"
       ]
      },
      {
       "output_type": "stream",
       "stream": "stdout",
       "text": [
        "\n",
        "1046 error on training set:  0.0024\n",
        "1046 error on testing set:  0.1060\n",
        "1047\n",
        "1047"
       ]
      },
      {
       "output_type": "stream",
       "stream": "stdout",
       "text": [
        " error on training set:  0.0024\n",
        "1047 error on testing set:  0.1060\n",
        "1048\n",
        "1048 error on training set:  0.0024\n",
        "1048 error on testing set:  0.1060\n",
        "1049"
       ]
      },
      {
       "output_type": "stream",
       "stream": "stdout",
       "text": [
        "\n",
        "1049 error on training set:  0.0024\n",
        "1049 error on testing set:  0.1056\n",
        "1050"
       ]
      },
      {
       "output_type": "stream",
       "stream": "stdout",
       "text": [
        "\n",
        "1050 error on training set:  0.0024\n",
        "1050 error on testing set:  0.1056\n",
        "1051\n",
        "1051"
       ]
      },
      {
       "output_type": "stream",
       "stream": "stdout",
       "text": [
        " error on training set:  0.0024\n",
        "1051 error on testing set:  0.1060\n",
        "1052\n",
        "1052 error on training set:  0.0024\n",
        "1052 error on testing set:  0.1056\n",
        "1053"
       ]
      },
      {
       "output_type": "stream",
       "stream": "stdout",
       "text": [
        "\n",
        "1053 error on training set:  0.0024\n",
        "1053 error on testing set:  0.1056\n",
        "1054\n",
        "1054"
       ]
      },
      {
       "output_type": "stream",
       "stream": "stdout",
       "text": [
        " error on training set:  0.0024\n",
        "1054 error on testing set:  0.1056\n",
        "1055\n",
        "1055 error on training set:  0.0024\n",
        "1055 error on testing set:  0.1056\n",
        "1056"
       ]
      },
      {
       "output_type": "stream",
       "stream": "stdout",
       "text": [
        "\n",
        "1056 error on training set:  0.0024\n",
        "1056 error on testing set:  0.1056\n",
        "1057\n",
        "1057"
       ]
      },
      {
       "output_type": "stream",
       "stream": "stdout",
       "text": [
        " error on training set:  0.0024\n",
        "1057 error on testing set:  0.1060\n",
        "1058\n",
        "1058 error on training set:  0.0024\n",
        "1058 error on testing set:  0.1060\n",
        "1059"
       ]
      },
      {
       "output_type": "stream",
       "stream": "stdout",
       "text": [
        "\n",
        "1059 error on training set:  0.0024\n",
        "1059 error on testing set:  0.1052\n",
        "1060"
       ]
      },
      {
       "output_type": "stream",
       "stream": "stdout",
       "text": [
        "\n",
        "1060 error on training set:  0.0024\n",
        "1060 error on testing set:  0.1052\n",
        "1061\n",
        "1061"
       ]
      },
      {
       "output_type": "stream",
       "stream": "stdout",
       "text": [
        " error on training set:  0.0024\n",
        "1061 error on testing set:  0.1056\n",
        "1062\n",
        "1062 error on training set:  0.0024\n",
        "1062 error on testing set:  0.1056\n",
        "1063"
       ]
      },
      {
       "output_type": "stream",
       "stream": "stdout",
       "text": [
        "\n",
        "1063 error on training set:  0.0024\n",
        "1063 error on testing set:  0.1060\n",
        "1064\n",
        "1064"
       ]
      },
      {
       "output_type": "stream",
       "stream": "stdout",
       "text": [
        " error on training set:  0.0024\n",
        "1064 error on testing set:  0.1056\n",
        "1065\n",
        "1065 error on training set:  0.0024\n",
        "1065 error on testing set:  0.1052\n",
        "1066"
       ]
      },
      {
       "output_type": "stream",
       "stream": "stdout",
       "text": [
        "\n",
        "1066 error on training set:  0.0024\n",
        "1066 error on testing set:  0.1056\n",
        "1067\n",
        "1067"
       ]
      },
      {
       "output_type": "stream",
       "stream": "stdout",
       "text": [
        " error on training set:  0.0024\n",
        "1067 error on testing set:  0.1052\n",
        "1068\n",
        "1068 error on training set:  0.0024\n",
        "1068 error on testing set:  0.1048\n",
        "1069"
       ]
      },
      {
       "output_type": "stream",
       "stream": "stdout",
       "text": [
        "\n",
        "1069 error on training set:  0.0024\n",
        "1069 error on testing set:  0.1056\n",
        "1070"
       ]
      },
      {
       "output_type": "stream",
       "stream": "stdout",
       "text": [
        "\n",
        "1070 error on training set:  0.0024\n",
        "1070 error on testing set:  0.1056\n",
        "1071\n",
        "1071"
       ]
      },
      {
       "output_type": "stream",
       "stream": "stdout",
       "text": [
        " error on training set:  0.0024\n",
        "1071 error on testing set:  0.1056\n",
        "1072\n",
        "1072 error on training set:  0.0024\n",
        "1072 error on testing set:  0.1056\n",
        "1073"
       ]
      },
      {
       "output_type": "stream",
       "stream": "stdout",
       "text": [
        "\n",
        "1073 error on training set:  0.0024\n",
        "1073 error on testing set:  0.1060\n",
        "1074\n",
        "1074"
       ]
      },
      {
       "output_type": "stream",
       "stream": "stdout",
       "text": [
        " error on training set:  0.0024\n",
        "1074 error on testing set:  0.1056\n",
        "1075\n",
        "1075 error on training set:  0.0024\n",
        "1075 error on testing set:  0.1060\n",
        "1076"
       ]
      },
      {
       "output_type": "stream",
       "stream": "stdout",
       "text": [
        "\n",
        "1076 error on training set:  0.0024\n",
        "1076 error on testing set:  0.1056\n",
        "1077\n",
        "1077"
       ]
      },
      {
       "output_type": "stream",
       "stream": "stdout",
       "text": [
        " error on training set:  0.0024\n",
        "1077 error on testing set:  0.1060\n",
        "1078\n",
        "1078 error on training set:  0.0024\n",
        "1078 error on testing set:  0.1052\n",
        "1079"
       ]
      },
      {
       "output_type": "stream",
       "stream": "stdout",
       "text": [
        "\n",
        "1079 error on training set:  0.0024\n",
        "1079 error on testing set:  0.1044\n",
        "1080"
       ]
      },
      {
       "output_type": "stream",
       "stream": "stdout",
       "text": [
        "\n",
        "1080 error on training set:  0.0024\n",
        "1080 error on testing set:  0.1052\n",
        "1081\n",
        "1081"
       ]
      },
      {
       "output_type": "stream",
       "stream": "stdout",
       "text": [
        " error on training set:  0.0024\n",
        "1081 error on testing set:  0.1056\n",
        "1082\n",
        "1082 error on training set:  0.0024\n",
        "1082 error on testing set:  0.1052\n",
        "1083"
       ]
      },
      {
       "output_type": "stream",
       "stream": "stdout",
       "text": [
        "\n",
        "1083 error on training set:  0.0024\n",
        "1083 error on testing set:  0.1060\n",
        "1084\n",
        "1084"
       ]
      },
      {
       "output_type": "stream",
       "stream": "stdout",
       "text": [
        " error on training set:  0.0024\n",
        "1084 error on testing set:  0.1056\n",
        "1085\n",
        "1085 error on training set:  0.0024\n",
        "1085 error on testing set:  0.1052\n",
        "1086"
       ]
      },
      {
       "output_type": "stream",
       "stream": "stdout",
       "text": [
        "\n",
        "1086 error on training set:  0.0024\n",
        "1086 error on testing set:  0.1048\n",
        "1087\n",
        "1087"
       ]
      },
      {
       "output_type": "stream",
       "stream": "stdout",
       "text": [
        " error on training set:  0.0024\n",
        "1087 error on testing set:  0.1056\n",
        "1088\n",
        "1088 error on training set:  0.0024\n",
        "1088 error on testing set:  0.1052\n",
        "1089"
       ]
      },
      {
       "output_type": "stream",
       "stream": "stdout",
       "text": [
        "\n",
        "1089 error on training set:  0.0024\n",
        "1089 error on testing set:  0.1056\n",
        "1090"
       ]
      },
      {
       "output_type": "stream",
       "stream": "stdout",
       "text": [
        "\n",
        "1090 error on training set:  0.0024\n",
        "1090 error on testing set:  0.1060\n",
        "1091\n",
        "1091"
       ]
      },
      {
       "output_type": "stream",
       "stream": "stdout",
       "text": [
        " error on training set:  0.0024\n",
        "1091 error on testing set:  0.1056\n",
        "1092\n",
        "1092 error on training set:  0.0024\n",
        "1092 error on testing set:  0.1052\n",
        "1093"
       ]
      },
      {
       "output_type": "stream",
       "stream": "stdout",
       "text": [
        "\n",
        "1093 error on training set:  0.0024\n",
        "1093 error on testing set:  0.1052\n",
        "1094\n",
        "1094"
       ]
      },
      {
       "output_type": "stream",
       "stream": "stdout",
       "text": [
        " error on training set:  0.0024\n",
        "1094 error on testing set:  0.1052\n",
        "1095\n",
        "1095 error on training set:  0.0024\n",
        "1095 error on testing set:  0.1052\n",
        "1096"
       ]
      },
      {
       "output_type": "stream",
       "stream": "stdout",
       "text": [
        "\n",
        "1096 error on training set:  0.0024\n",
        "1096 error on testing set:  0.1056\n",
        "1097\n",
        "1097"
       ]
      },
      {
       "output_type": "stream",
       "stream": "stdout",
       "text": [
        " error on training set:  0.0024\n",
        "1097 error on testing set:  0.1060\n",
        "1098\n",
        "1098 error on training set:  0.0024\n",
        "1098 error on testing set:  0.1052\n",
        "1099"
       ]
      },
      {
       "output_type": "stream",
       "stream": "stdout",
       "text": [
        "\n",
        "1099 error on training set:  0.0024\n",
        "1099 error on testing set:  0.1056\n",
        "1100"
       ]
      },
      {
       "output_type": "stream",
       "stream": "stdout",
       "text": [
        "\n",
        "1100 error on training set:  0.0024\n",
        "1100 error on testing set:  0.1052\n",
        "1101\n",
        "1101"
       ]
      },
      {
       "output_type": "stream",
       "stream": "stdout",
       "text": [
        " error on training set:  0.0024\n",
        "1101 error on testing set:  0.1056\n",
        "1102\n",
        "1102 error on training set:  0.0024\n",
        "1102 error on testing set:  0.1056\n",
        "1103"
       ]
      },
      {
       "output_type": "stream",
       "stream": "stdout",
       "text": [
        "\n",
        "1103 error on training set:  0.0024\n",
        "1103 error on testing set:  0.1052\n",
        "1104\n",
        "1104"
       ]
      },
      {
       "output_type": "stream",
       "stream": "stdout",
       "text": [
        " error on training set:  0.0024\n",
        "1104 error on testing set:  0.1060\n",
        "1105\n",
        "1105 error on training set:  0.0024\n",
        "1105 error on testing set:  0.1052\n",
        "1106"
       ]
      },
      {
       "output_type": "stream",
       "stream": "stdout",
       "text": [
        "\n",
        "1106 error on training set:  0.0024\n",
        "1106 error on testing set:  0.1056\n",
        "1107\n",
        "1107"
       ]
      },
      {
       "output_type": "stream",
       "stream": "stdout",
       "text": [
        " error on training set:  0.0024\n",
        "1107 error on testing set:  0.1048\n",
        "1108\n",
        "1108 error on training set:  0.0024\n",
        "1108 error on testing set:  0.1060\n",
        "1109"
       ]
      },
      {
       "output_type": "stream",
       "stream": "stdout",
       "text": [
        "\n",
        "1109 error on training set:  0.0024\n",
        "1109 error on testing set:  0.1060\n",
        "1110"
       ]
      },
      {
       "output_type": "stream",
       "stream": "stdout",
       "text": [
        "\n",
        "1110 error on training set:  0.0024\n",
        "1110 error on testing set:  0.1060\n",
        "1111\n",
        "1111"
       ]
      },
      {
       "output_type": "stream",
       "stream": "stdout",
       "text": [
        " error on training set:  0.0024\n",
        "1111 error on testing set:  0.1056\n",
        "1112\n",
        "1112 error on training set:  0.0024\n",
        "1112 error on testing set:  0.1056\n",
        "1113"
       ]
      },
      {
       "output_type": "stream",
       "stream": "stdout",
       "text": [
        "\n",
        "1113 error on training set:  0.0024\n",
        "1113 error on testing set:  0.1060\n",
        "1114\n",
        "1114"
       ]
      },
      {
       "output_type": "stream",
       "stream": "stdout",
       "text": [
        " error on training set:  0.0024\n",
        "1114 error on testing set:  0.1056\n",
        "1115\n",
        "1115 error on training set:  0.0024\n",
        "1115 error on testing set:  0.1056\n",
        "1116"
       ]
      },
      {
       "output_type": "stream",
       "stream": "stdout",
       "text": [
        "\n",
        "1116 error on training set:  0.0024\n",
        "1116 error on testing set:  0.1056\n",
        "1117\n",
        "1117"
       ]
      },
      {
       "output_type": "stream",
       "stream": "stdout",
       "text": [
        " error on training set:  0.0024\n",
        "1117 error on testing set:  0.1056\n",
        "1118\n",
        "1118 error on training set:  0.0024\n",
        "1118 error on testing set:  0.1064\n",
        "1119"
       ]
      },
      {
       "output_type": "stream",
       "stream": "stdout",
       "text": [
        "\n",
        "1119 error on training set:  0.0024\n",
        "1119 error on testing set:  0.1060\n",
        "1120"
       ]
      },
      {
       "output_type": "stream",
       "stream": "stdout",
       "text": [
        "\n",
        "1120 error on training set:  0.0024\n",
        "1120 error on testing set:  0.1064\n",
        "1121\n",
        "1121"
       ]
      },
      {
       "output_type": "stream",
       "stream": "stdout",
       "text": [
        " error on training set:  0.0024\n",
        "1121 error on testing set:  0.1068\n",
        "1122\n",
        "1122 error on training set:  0.0024\n",
        "1122 error on testing set:  0.1060\n",
        "1123"
       ]
      },
      {
       "output_type": "stream",
       "stream": "stdout",
       "text": [
        "\n",
        "1123 error on training set:  0.0024\n",
        "1123 error on testing set:  0.1048\n",
        "1124\n",
        "1124"
       ]
      },
      {
       "output_type": "stream",
       "stream": "stdout",
       "text": [
        " error on training set:  0.0024\n",
        "1124 error on testing set:  0.1056\n",
        "1125\n",
        "1125 error on training set:  0.0024\n",
        "1125 error on testing set:  0.1056\n",
        "1126"
       ]
      },
      {
       "output_type": "stream",
       "stream": "stdout",
       "text": [
        "\n",
        "1126 error on training set:  0.0024\n",
        "1126 error on testing set:  0.1060\n",
        "1127\n",
        "1127"
       ]
      },
      {
       "output_type": "stream",
       "stream": "stdout",
       "text": [
        " error on training set:  0.0024\n",
        "1127 error on testing set:  0.1060\n",
        "1128\n",
        "1128 error on training set:  0.0024\n",
        "1128 error on testing set:  0.1064\n",
        "1129"
       ]
      },
      {
       "output_type": "stream",
       "stream": "stdout",
       "text": [
        "\n",
        "1129 error on training set:  0.0024\n",
        "1129 error on testing set:  0.1060\n",
        "1130"
       ]
      },
      {
       "output_type": "stream",
       "stream": "stdout",
       "text": [
        "\n",
        "1130 error on training set:  0.0024\n",
        "1130 error on testing set:  0.1068\n",
        "1131\n",
        "1131"
       ]
      },
      {
       "output_type": "stream",
       "stream": "stdout",
       "text": [
        " error on training set:  0.0024\n",
        "1131 error on testing set:  0.1056\n",
        "1132\n",
        "1132 error on training set:  0.0024\n",
        "1132 error on testing set:  0.1052\n",
        "1133"
       ]
      },
      {
       "output_type": "stream",
       "stream": "stdout",
       "text": [
        "\n",
        "1133 error on training set:  0.0024\n",
        "1133 error on testing set:  0.1060\n",
        "1134\n",
        "1134"
       ]
      },
      {
       "output_type": "stream",
       "stream": "stdout",
       "text": [
        " error on training set:  0.0024\n",
        "1134 error on testing set:  0.1060\n",
        "1135\n",
        "1135 error on training set:  0.0024\n",
        "1135 error on testing set:  0.1064\n",
        "1136"
       ]
      },
      {
       "output_type": "stream",
       "stream": "stdout",
       "text": [
        "\n",
        "1136 error on training set:  0.0024\n",
        "1136 error on testing set:  0.1060\n",
        "1137\n",
        "1137"
       ]
      },
      {
       "output_type": "stream",
       "stream": "stdout",
       "text": [
        " error on training set:  0.0024\n",
        "1137 error on testing set:  0.1064\n",
        "1138\n",
        "1138 error on training set:  0.0024\n",
        "1138 error on testing set:  0.1064\n",
        "1139"
       ]
      },
      {
       "output_type": "stream",
       "stream": "stdout",
       "text": [
        "\n",
        "1139 error on training set:  0.0024\n",
        "1139 error on testing set:  0.1064\n",
        "1140"
       ]
      },
      {
       "output_type": "stream",
       "stream": "stdout",
       "text": [
        "\n",
        "1140 error on training set:  0.0024\n",
        "1140 error on testing set:  0.1052\n",
        "1141\n",
        "1141"
       ]
      },
      {
       "output_type": "stream",
       "stream": "stdout",
       "text": [
        " error on training set:  0.0024\n",
        "1141 error on testing set:  0.1064\n",
        "1142\n",
        "1142 error on training set:  0.0024\n",
        "1142 error on testing set:  0.1056\n",
        "1143"
       ]
      },
      {
       "output_type": "stream",
       "stream": "stdout",
       "text": [
        "\n",
        "1143 error on training set:  0.0024\n",
        "1143 error on testing set:  0.1056\n",
        "1144\n",
        "1144"
       ]
      },
      {
       "output_type": "stream",
       "stream": "stdout",
       "text": [
        " error on training set:  0.0024\n",
        "1144 error on testing set:  0.1060\n",
        "1145\n",
        "1145 error on training set:  0.0024\n",
        "1145 error on testing set:  0.1056\n",
        "1146"
       ]
      },
      {
       "output_type": "stream",
       "stream": "stdout",
       "text": [
        "\n",
        "1146 error on training set:  0.0024\n",
        "1146 error on testing set:  0.1060\n",
        "1147\n",
        "1147"
       ]
      },
      {
       "output_type": "stream",
       "stream": "stdout",
       "text": [
        " error on training set:  0.0024\n",
        "1147 error on testing set:  0.1060\n",
        "1148\n",
        "1148 error on training set:  0.0024\n",
        "1148 error on testing set:  0.1056\n",
        "1149"
       ]
      },
      {
       "output_type": "stream",
       "stream": "stdout",
       "text": [
        "\n",
        "1149 error on training set:  0.0024\n",
        "1149 error on testing set:  0.1056\n",
        "1150"
       ]
      },
      {
       "output_type": "stream",
       "stream": "stdout",
       "text": [
        "\n",
        "1150 error on training set:  0.0024\n",
        "1150 error on testing set:  0.1056\n",
        "1151\n",
        "1151"
       ]
      },
      {
       "output_type": "stream",
       "stream": "stdout",
       "text": [
        " error on training set:  0.0024\n",
        "1151 error on testing set:  0.1060\n",
        "1152\n",
        "1152 error on training set:  0.0024\n",
        "1152 error on testing set:  0.1060\n",
        "1153"
       ]
      },
      {
       "output_type": "stream",
       "stream": "stdout",
       "text": [
        "\n",
        "1153 error on training set:  0.0024\n",
        "1153 error on testing set:  0.1056\n",
        "1154\n",
        "1154"
       ]
      },
      {
       "output_type": "stream",
       "stream": "stdout",
       "text": [
        " error on training set:  0.0024\n",
        "1154 error on testing set:  0.1060\n",
        "1155\n",
        "1155 error on training set:  0.0024\n",
        "1155 error on testing set:  0.1056\n",
        "1156"
       ]
      },
      {
       "output_type": "stream",
       "stream": "stdout",
       "text": [
        "\n",
        "1156 error on training set:  0.0024\n",
        "1156 error on testing set:  0.1056\n",
        "1157\n",
        "1157"
       ]
      },
      {
       "output_type": "stream",
       "stream": "stdout",
       "text": [
        " error on training set:  0.0024\n",
        "1157 error on testing set:  0.1060\n",
        "1158\n",
        "1158 error on training set:  0.0020\n",
        "1158 error on testing set:  0.1048\n",
        "1159"
       ]
      },
      {
       "output_type": "stream",
       "stream": "stdout",
       "text": [
        "\n",
        "1159 error on training set:  0.0020\n",
        "1159 error on testing set:  0.1052\n",
        "1160"
       ]
      },
      {
       "output_type": "stream",
       "stream": "stdout",
       "text": [
        "\n",
        "1160 error on training set:  0.0020\n",
        "1160 error on testing set:  0.1056\n",
        "1161\n",
        "1161"
       ]
      },
      {
       "output_type": "stream",
       "stream": "stdout",
       "text": [
        " error on training set:  0.0020\n",
        "1161 error on testing set:  0.1052\n",
        "1162\n",
        "1162 error on training set:  0.0024\n",
        "1162 error on testing set:  0.1052\n",
        "1163"
       ]
      },
      {
       "output_type": "stream",
       "stream": "stdout",
       "text": [
        "\n",
        "1163 error on training set:  0.0020\n",
        "1163 error on testing set:  0.1064\n",
        "1164\n",
        "1164"
       ]
      },
      {
       "output_type": "stream",
       "stream": "stdout",
       "text": [
        " error on training set:  0.0020\n",
        "1164 error on testing set:  0.1064\n",
        "1165\n",
        "1165 error on training set:  0.0020\n",
        "1165 error on testing set:  0.1056\n",
        "1166"
       ]
      },
      {
       "output_type": "stream",
       "stream": "stdout",
       "text": [
        "\n",
        "1166 error on training set:  0.0020\n",
        "1166 error on testing set:  0.1060\n",
        "1167\n",
        "1167"
       ]
      },
      {
       "output_type": "stream",
       "stream": "stdout",
       "text": [
        " error on training set:  0.0020\n",
        "1167 error on testing set:  0.1052\n",
        "1168\n",
        "1168 error on training set:  0.0020\n",
        "1168 error on testing set:  0.1052\n",
        "1169"
       ]
      },
      {
       "output_type": "stream",
       "stream": "stdout",
       "text": [
        "\n",
        "1169 error on training set:  0.0020\n",
        "1169 error on testing set:  0.1056\n",
        "1170"
       ]
      },
      {
       "output_type": "stream",
       "stream": "stdout",
       "text": [
        "\n",
        "1170 error on training set:  0.0020\n",
        "1170 error on testing set:  0.1052\n",
        "1171\n",
        "1171"
       ]
      },
      {
       "output_type": "stream",
       "stream": "stdout",
       "text": [
        " error on training set:  0.0020\n",
        "1171 error on testing set:  0.1060\n",
        "1172\n",
        "1172 error on training set:  0.0020\n",
        "1172 error on testing set:  0.1060\n",
        "1173"
       ]
      },
      {
       "output_type": "stream",
       "stream": "stdout",
       "text": [
        "\n",
        "1173 error on training set:  0.0020\n",
        "1173 error on testing set:  0.1060\n",
        "1174\n",
        "1174"
       ]
      },
      {
       "output_type": "stream",
       "stream": "stdout",
       "text": [
        " error on training set:  0.0020\n",
        "1174 error on testing set:  0.1056\n",
        "1175\n",
        "1175 error on training set:  0.0020\n",
        "1175 error on testing set:  0.1056\n",
        "1176"
       ]
      },
      {
       "output_type": "stream",
       "stream": "stdout",
       "text": [
        "\n",
        "1176 error on training set:  0.0020\n",
        "1176 error on testing set:  0.1056\n",
        "1177\n",
        "1177"
       ]
      },
      {
       "output_type": "stream",
       "stream": "stdout",
       "text": [
        " error on training set:  0.0020\n",
        "1177 error on testing set:  0.1064\n",
        "1178\n",
        "1178 error on training set:  0.0020\n",
        "1178 error on testing set:  0.1052\n",
        "1179"
       ]
      },
      {
       "output_type": "stream",
       "stream": "stdout",
       "text": [
        "\n",
        "1179 error on training set:  0.0020\n",
        "1179 error on testing set:  0.1064\n",
        "1180"
       ]
      },
      {
       "output_type": "stream",
       "stream": "stdout",
       "text": [
        "\n",
        "1180 error on training set:  0.0020\n",
        "1180 error on testing set:  0.1056\n",
        "1181\n",
        "1181"
       ]
      },
      {
       "output_type": "stream",
       "stream": "stdout",
       "text": [
        " error on training set:  0.0020\n",
        "1181 error on testing set:  0.1052\n",
        "1182\n",
        "1182 error on training set:  0.0020\n",
        "1182 error on testing set:  0.1056\n",
        "1183"
       ]
      },
      {
       "output_type": "stream",
       "stream": "stdout",
       "text": [
        "\n",
        "1183 error on training set:  0.0020\n",
        "1183 error on testing set:  0.1056\n",
        "1184\n",
        "1184"
       ]
      },
      {
       "output_type": "stream",
       "stream": "stdout",
       "text": [
        " error on training set:  0.0020\n",
        "1184 error on testing set:  0.1060\n",
        "1185\n",
        "1185 error on training set:  0.0020\n",
        "1185 error on testing set:  0.1052\n",
        "1186"
       ]
      },
      {
       "output_type": "stream",
       "stream": "stdout",
       "text": [
        "\n",
        "1186 error on training set:  0.0020\n",
        "1186 error on testing set:  0.1052\n",
        "1187\n",
        "1187"
       ]
      },
      {
       "output_type": "stream",
       "stream": "stdout",
       "text": [
        " error on training set:  0.0020\n",
        "1187 error on testing set:  0.1056\n",
        "1188\n",
        "1188 error on training set:  0.0020\n",
        "1188 error on testing set:  0.1056\n",
        "1189"
       ]
      },
      {
       "output_type": "stream",
       "stream": "stdout",
       "text": [
        "\n",
        "1189 error on training set:  0.0020\n",
        "1189 error on testing set:  0.1064\n",
        "1190"
       ]
      },
      {
       "output_type": "stream",
       "stream": "stdout",
       "text": [
        "\n",
        "1190 error on training set:  0.0020\n",
        "1190 error on testing set:  0.1060\n",
        "1191\n",
        "1191"
       ]
      },
      {
       "output_type": "stream",
       "stream": "stdout",
       "text": [
        " error on training set:  0.0020\n",
        "1191 error on testing set:  0.1056\n",
        "1192\n",
        "1192 error on training set:  0.0020\n",
        "1192 error on testing set:  0.1056\n",
        "1193"
       ]
      },
      {
       "output_type": "stream",
       "stream": "stdout",
       "text": [
        "\n",
        "1193 error on training set:  0.0020\n",
        "1193 error on testing set:  0.1056\n",
        "1194\n",
        "1194"
       ]
      },
      {
       "output_type": "stream",
       "stream": "stdout",
       "text": [
        " error on training set:  0.0020\n",
        "1194 error on testing set:  0.1056\n",
        "1195\n",
        "1195 error on training set:  0.0020\n",
        "1195 error on testing set:  0.1052\n",
        "1196"
       ]
      },
      {
       "output_type": "stream",
       "stream": "stdout",
       "text": [
        "\n",
        "1196 error on training set:  0.0020\n",
        "1196 error on testing set:  0.1056\n",
        "1197\n",
        "1197"
       ]
      },
      {
       "output_type": "stream",
       "stream": "stdout",
       "text": [
        " error on training set:  0.0020\n",
        "1197 error on testing set:  0.1052\n",
        "1198\n",
        "1198 error on training set:  0.0020\n",
        "1198 error on testing set:  0.1052\n",
        "1199"
       ]
      },
      {
       "output_type": "stream",
       "stream": "stdout",
       "text": [
        "\n",
        "1199 error on training set:  0.0020\n",
        "1199 error on testing set:  0.1052\n",
        "1200"
       ]
      },
      {
       "output_type": "stream",
       "stream": "stdout",
       "text": [
        "\n",
        "1200 error on training set:  0.0020\n",
        "1200 error on testing set:  0.1052\n",
        "1201\n",
        "1201"
       ]
      },
      {
       "output_type": "stream",
       "stream": "stdout",
       "text": [
        " error on training set:  0.0016\n",
        "1201 error on testing set:  0.1056\n",
        "1202\n",
        "1202 error on training set:  0.0016\n",
        "1202 error on testing set:  0.1056\n",
        "1203"
       ]
      },
      {
       "output_type": "stream",
       "stream": "stdout",
       "text": [
        "\n",
        "1203 error on training set:  0.0016\n",
        "1203 error on testing set:  0.1060\n",
        "1204\n",
        "1204"
       ]
      },
      {
       "output_type": "stream",
       "stream": "stdout",
       "text": [
        " error on training set:  0.0016\n",
        "1204 error on testing set:  0.1060\n",
        "1205\n",
        "1205 error on training set:  0.0020\n",
        "1205 error on testing set:  0.1052\n",
        "1206"
       ]
      },
      {
       "output_type": "stream",
       "stream": "stdout",
       "text": [
        "\n",
        "1206 error on training set:  0.0020\n",
        "1206 error on testing set:  0.1052\n",
        "1207\n",
        "1207"
       ]
      },
      {
       "output_type": "stream",
       "stream": "stdout",
       "text": [
        " error on training set:  0.0016\n",
        "1207 error on testing set:  0.1060\n",
        "1208\n",
        "1208 error on training set:  0.0016\n",
        "1208 error on testing set:  0.1056\n",
        "1209"
       ]
      },
      {
       "output_type": "stream",
       "stream": "stdout",
       "text": [
        "\n",
        "1209 error on training set:  0.0016\n",
        "1209 error on testing set:  0.1056\n",
        "1210"
       ]
      },
      {
       "output_type": "stream",
       "stream": "stdout",
       "text": [
        "\n",
        "1210 error on training set:  0.0016\n",
        "1210 error on testing set:  0.1052\n",
        "1211\n",
        "1211"
       ]
      },
      {
       "output_type": "stream",
       "stream": "stdout",
       "text": [
        " error on training set:  0.0016\n",
        "1211 error on testing set:  0.1052\n",
        "1212\n",
        "1212 error on training set:  0.0016\n",
        "1212 error on testing set:  0.1060\n",
        "1213"
       ]
      },
      {
       "ename": "KeyboardInterrupt",
       "evalue": "",
       "output_type": "pyerr",
       "traceback": [
        "\u001b[0;31m---------------------------------------------------------------------------\u001b[0m\n\u001b[0;31mKeyboardInterrupt\u001b[0m                         Traceback (most recent call last)",
        "\u001b[0;32m<ipython-input-32-15f7c3bf4a3a>\u001b[0m in \u001b[0;36m<module>\u001b[0;34m()\u001b[0m\n\u001b[1;32m     31\u001b[0m         \u001b[0;32mprint\u001b[0m \u001b[0miters\u001b[0m\u001b[0;34m\u001b[0m\u001b[0m\n\u001b[1;32m     32\u001b[0m         \u001b[0mtr\u001b[0m \u001b[0;34m=\u001b[0m \u001b[0;36m1.0\u001b[0m \u001b[0;34m-\u001b[0m \u001b[0maccuracy_score\u001b[0m\u001b[0;34m(\u001b[0m\u001b[0mb_train\u001b[0m\u001b[0;34m,\u001b[0m \u001b[0mexp\u001b[0m\u001b[0;34m.\u001b[0m\u001b[0mnetwork\u001b[0m\u001b[0;34m.\u001b[0m\u001b[0mclassify\u001b[0m\u001b[0;34m(\u001b[0m\u001b[0ma_train\u001b[0m\u001b[0;34m)\u001b[0m\u001b[0;34m,\u001b[0m \u001b[0mnormalize\u001b[0m\u001b[0;34m=\u001b[0m\u001b[0mTrue\u001b[0m\u001b[0;34m)\u001b[0m\u001b[0;34m\u001b[0m\u001b[0m\n\u001b[0;32m---> 33\u001b[0;31m         \u001b[0mte\u001b[0m \u001b[0;34m=\u001b[0m \u001b[0;36m1.0\u001b[0m \u001b[0;34m-\u001b[0m \u001b[0maccuracy_score\u001b[0m\u001b[0;34m(\u001b[0m\u001b[0mb_test\u001b[0m\u001b[0;34m,\u001b[0m \u001b[0mexp\u001b[0m\u001b[0;34m.\u001b[0m\u001b[0mnetwork\u001b[0m\u001b[0;34m.\u001b[0m\u001b[0mclassify\u001b[0m\u001b[0;34m(\u001b[0m\u001b[0ma_test\u001b[0m\u001b[0;34m)\u001b[0m\u001b[0;34m,\u001b[0m \u001b[0mnormalize\u001b[0m\u001b[0;34m=\u001b[0m\u001b[0mTrue\u001b[0m\u001b[0;34m)\u001b[0m\u001b[0;34m\u001b[0m\u001b[0m\n\u001b[0m\u001b[1;32m     34\u001b[0m         \u001b[0;32mprint\u001b[0m \u001b[0miters\u001b[0m\u001b[0;34m,\u001b[0m \u001b[0;34m\"error on training set: %7.4f\"\u001b[0m \u001b[0;34m%\u001b[0m \u001b[0mtr\u001b[0m\u001b[0;34m\u001b[0m\u001b[0m\n\u001b[1;32m     35\u001b[0m         \u001b[0;32mprint\u001b[0m \u001b[0miters\u001b[0m\u001b[0;34m,\u001b[0m \u001b[0;34m\"error on testing set: %7.4f\"\u001b[0m \u001b[0;34m%\u001b[0m \u001b[0mte\u001b[0m\u001b[0;34m\u001b[0m\u001b[0m\n",
        "\u001b[0;32m/usr/local/lib/python2.7/dist-packages/theanets/feedforward.pyc\u001b[0m in \u001b[0;36mclassify\u001b[0;34m(self, x)\u001b[0m\n\u001b[1;32m    911\u001b[0m             \u001b[0mA\u001b[0m \u001b[0mvector\u001b[0m \u001b[0mof\u001b[0m \u001b[0;32mclass\u001b[0m \u001b[0mindex\u001b[0m \u001b[0mvalues\u001b[0m\u001b[0;34m,\u001b[0m \u001b[0mone\u001b[0m \u001b[0mper\u001b[0m \u001b[0mrow\u001b[0m \u001b[0mof\u001b[0m \u001b[0minput\u001b[0m \u001b[0mdata\u001b[0m\u001b[0;34m.\u001b[0m\u001b[0;34m\u001b[0m\u001b[0m\n\u001b[1;32m    912\u001b[0m         '''\n\u001b[0;32m--> 913\u001b[0;31m         \u001b[0;32mreturn\u001b[0m \u001b[0mself\u001b[0m\u001b[0;34m.\u001b[0m\u001b[0mpredict\u001b[0m\u001b[0;34m(\u001b[0m\u001b[0mx\u001b[0m\u001b[0;34m)\u001b[0m\u001b[0;34m.\u001b[0m\u001b[0margmax\u001b[0m\u001b[0;34m(\u001b[0m\u001b[0maxis\u001b[0m\u001b[0;34m=\u001b[0m\u001b[0;34m-\u001b[0m\u001b[0;36m1\u001b[0m\u001b[0;34m)\u001b[0m\u001b[0;34m\u001b[0m\u001b[0m\n\u001b[0m",
        "\u001b[0;32m/usr/local/lib/python2.7/dist-packages/theanets/feedforward.pyc\u001b[0m in \u001b[0;36mpredict\u001b[0;34m(self, x)\u001b[0m\n\u001b[1;32m    487\u001b[0m             \u001b[0mvariables\u001b[0m\u001b[0;34m.\u001b[0m\u001b[0;34m\u001b[0m\u001b[0m\n\u001b[1;32m    488\u001b[0m         '''\n\u001b[0;32m--> 489\u001b[0;31m         \u001b[0;32mreturn\u001b[0m \u001b[0mself\u001b[0m\u001b[0;34m.\u001b[0m\u001b[0mfeed_forward\u001b[0m\u001b[0;34m(\u001b[0m\u001b[0mx\u001b[0m\u001b[0;34m)\u001b[0m\u001b[0;34m[\u001b[0m\u001b[0;34m-\u001b[0m\u001b[0;36m1\u001b[0m\u001b[0;34m]\u001b[0m\u001b[0;34m\u001b[0m\u001b[0m\n\u001b[0m\u001b[1;32m    490\u001b[0m \u001b[0;34m\u001b[0m\u001b[0m\n\u001b[1;32m    491\u001b[0m     \u001b[0m__call__\u001b[0m \u001b[0;34m=\u001b[0m \u001b[0mpredict\u001b[0m\u001b[0;34m\u001b[0m\u001b[0m\n",
        "\u001b[0;32m/usr/local/lib/python2.7/dist-packages/theanets/feedforward.pyc\u001b[0m in \u001b[0;36mfeed_forward\u001b[0;34m(self, x)\u001b[0m\n\u001b[1;32m    468\u001b[0m             \u001b[0moutputs\u001b[0m\u001b[0;34m,\u001b[0m \u001b[0m_\u001b[0m\u001b[0;34m,\u001b[0m \u001b[0mupdates\u001b[0m \u001b[0;34m=\u001b[0m \u001b[0mself\u001b[0m\u001b[0;34m.\u001b[0m\u001b[0m_connect\u001b[0m\u001b[0;34m(\u001b[0m\u001b[0;34m)\u001b[0m\u001b[0;34m\u001b[0m\u001b[0m\n\u001b[1;32m    469\u001b[0m             \u001b[0mself\u001b[0m\u001b[0;34m.\u001b[0m\u001b[0m_compute\u001b[0m \u001b[0;34m=\u001b[0m \u001b[0mtheano\u001b[0m\u001b[0;34m.\u001b[0m\u001b[0mfunction\u001b[0m\u001b[0;34m(\u001b[0m\u001b[0;34m[\u001b[0m\u001b[0mself\u001b[0m\u001b[0;34m.\u001b[0m\u001b[0mx\u001b[0m\u001b[0;34m]\u001b[0m\u001b[0;34m,\u001b[0m \u001b[0moutputs\u001b[0m\u001b[0;34m,\u001b[0m \u001b[0mupdates\u001b[0m\u001b[0;34m=\u001b[0m\u001b[0mupdates\u001b[0m\u001b[0;34m)\u001b[0m\u001b[0;34m\u001b[0m\u001b[0m\n\u001b[0;32m--> 470\u001b[0;31m         \u001b[0;32mreturn\u001b[0m \u001b[0mself\u001b[0m\u001b[0;34m.\u001b[0m\u001b[0m_compute\u001b[0m\u001b[0;34m(\u001b[0m\u001b[0mx\u001b[0m\u001b[0;34m)\u001b[0m\u001b[0;34m\u001b[0m\u001b[0m\n\u001b[0m\u001b[1;32m    471\u001b[0m \u001b[0;34m\u001b[0m\u001b[0m\n\u001b[1;32m    472\u001b[0m     \u001b[0;32mdef\u001b[0m \u001b[0mpredict\u001b[0m\u001b[0;34m(\u001b[0m\u001b[0mself\u001b[0m\u001b[0;34m,\u001b[0m \u001b[0mx\u001b[0m\u001b[0;34m)\u001b[0m\u001b[0;34m:\u001b[0m\u001b[0;34m\u001b[0m\u001b[0m\n",
        "\u001b[0;32m/usr/local/lib/python2.7/dist-packages/theano/compile/function_module.pyc\u001b[0m in \u001b[0;36m__call__\u001b[0;34m(self, *args, **kwargs)\u001b[0m\n\u001b[1;32m    593\u001b[0m         \u001b[0mt0_fn\u001b[0m \u001b[0;34m=\u001b[0m \u001b[0mtime\u001b[0m\u001b[0;34m.\u001b[0m\u001b[0mtime\u001b[0m\u001b[0;34m(\u001b[0m\u001b[0;34m)\u001b[0m\u001b[0;34m\u001b[0m\u001b[0m\n\u001b[1;32m    594\u001b[0m         \u001b[0;32mtry\u001b[0m\u001b[0;34m:\u001b[0m\u001b[0;34m\u001b[0m\u001b[0m\n\u001b[0;32m--> 595\u001b[0;31m             \u001b[0moutputs\u001b[0m \u001b[0;34m=\u001b[0m \u001b[0mself\u001b[0m\u001b[0;34m.\u001b[0m\u001b[0mfn\u001b[0m\u001b[0;34m(\u001b[0m\u001b[0;34m)\u001b[0m\u001b[0;34m\u001b[0m\u001b[0m\n\u001b[0m\u001b[1;32m    596\u001b[0m         \u001b[0;32mexcept\u001b[0m \u001b[0mException\u001b[0m\u001b[0;34m:\u001b[0m\u001b[0;34m\u001b[0m\u001b[0m\n\u001b[1;32m    597\u001b[0m             \u001b[0;32mif\u001b[0m \u001b[0mhasattr\u001b[0m\u001b[0;34m(\u001b[0m\u001b[0mself\u001b[0m\u001b[0;34m.\u001b[0m\u001b[0mfn\u001b[0m\u001b[0;34m,\u001b[0m \u001b[0;34m'position_of_error'\u001b[0m\u001b[0;34m)\u001b[0m\u001b[0;34m:\u001b[0m\u001b[0;34m\u001b[0m\u001b[0m\n",
        "\u001b[0;32m/usr/local/lib/python2.7/dist-packages/theano/gof/op.pyc\u001b[0m in \u001b[0;36mrval\u001b[0;34m(p, i, o, n)\u001b[0m\n\u001b[1;32m    766\u001b[0m             \u001b[0;31m# default arguments are stored in the closure of `rval`\u001b[0m\u001b[0;34m\u001b[0m\u001b[0;34m\u001b[0m\u001b[0m\n\u001b[1;32m    767\u001b[0m             \u001b[0;32mdef\u001b[0m \u001b[0mrval\u001b[0m\u001b[0;34m(\u001b[0m\u001b[0mp\u001b[0m\u001b[0;34m=\u001b[0m\u001b[0mp\u001b[0m\u001b[0;34m,\u001b[0m \u001b[0mi\u001b[0m\u001b[0;34m=\u001b[0m\u001b[0mnode_input_storage\u001b[0m\u001b[0;34m,\u001b[0m \u001b[0mo\u001b[0m\u001b[0;34m=\u001b[0m\u001b[0mnode_output_storage\u001b[0m\u001b[0;34m,\u001b[0m \u001b[0mn\u001b[0m\u001b[0;34m=\u001b[0m\u001b[0mnode\u001b[0m\u001b[0;34m)\u001b[0m\u001b[0;34m:\u001b[0m\u001b[0;34m\u001b[0m\u001b[0m\n\u001b[0;32m--> 768\u001b[0;31m                 \u001b[0mr\u001b[0m \u001b[0;34m=\u001b[0m \u001b[0mp\u001b[0m\u001b[0;34m(\u001b[0m\u001b[0mn\u001b[0m\u001b[0;34m,\u001b[0m \u001b[0;34m[\u001b[0m\u001b[0mx\u001b[0m\u001b[0;34m[\u001b[0m\u001b[0;36m0\u001b[0m\u001b[0;34m]\u001b[0m \u001b[0;32mfor\u001b[0m \u001b[0mx\u001b[0m \u001b[0;32min\u001b[0m \u001b[0mi\u001b[0m\u001b[0;34m]\u001b[0m\u001b[0;34m,\u001b[0m \u001b[0mo\u001b[0m\u001b[0;34m)\u001b[0m\u001b[0;34m\u001b[0m\u001b[0m\n\u001b[0m\u001b[1;32m    769\u001b[0m                 \u001b[0;32mfor\u001b[0m \u001b[0mo\u001b[0m \u001b[0;32min\u001b[0m \u001b[0mnode\u001b[0m\u001b[0;34m.\u001b[0m\u001b[0moutputs\u001b[0m\u001b[0;34m:\u001b[0m\u001b[0;34m\u001b[0m\u001b[0m\n\u001b[1;32m    770\u001b[0m                     \u001b[0mcompute_map\u001b[0m\u001b[0;34m[\u001b[0m\u001b[0mo\u001b[0m\u001b[0;34m]\u001b[0m\u001b[0;34m[\u001b[0m\u001b[0;36m0\u001b[0m\u001b[0;34m]\u001b[0m \u001b[0;34m=\u001b[0m \u001b[0mTrue\u001b[0m\u001b[0;34m\u001b[0m\u001b[0m\n",
        "\u001b[0;32m/usr/local/lib/python2.7/dist-packages/theano/tensor/blas.pyc\u001b[0m in \u001b[0;36mperform\u001b[0;34m(self, node, inp, out)\u001b[0m\n\u001b[1;32m   1610\u001b[0m         \u001b[0mz\u001b[0m\u001b[0;34m,\u001b[0m \u001b[0;34m=\u001b[0m \u001b[0mout\u001b[0m\u001b[0;34m\u001b[0m\u001b[0m\n\u001b[1;32m   1611\u001b[0m         \u001b[0;32mtry\u001b[0m\u001b[0;34m:\u001b[0m\u001b[0;34m\u001b[0m\u001b[0m\n\u001b[0;32m-> 1612\u001b[0;31m             \u001b[0mz\u001b[0m\u001b[0;34m[\u001b[0m\u001b[0;36m0\u001b[0m\u001b[0;34m]\u001b[0m \u001b[0;34m=\u001b[0m \u001b[0mnumpy\u001b[0m\u001b[0;34m.\u001b[0m\u001b[0masarray\u001b[0m\u001b[0;34m(\u001b[0m\u001b[0mnumpy\u001b[0m\u001b[0;34m.\u001b[0m\u001b[0mdot\u001b[0m\u001b[0;34m(\u001b[0m\u001b[0mx\u001b[0m\u001b[0;34m,\u001b[0m \u001b[0my\u001b[0m\u001b[0;34m)\u001b[0m\u001b[0;34m)\u001b[0m\u001b[0;34m\u001b[0m\u001b[0m\n\u001b[0m\u001b[1;32m   1613\u001b[0m         \u001b[0;32mexcept\u001b[0m \u001b[0mValueError\u001b[0m\u001b[0;34m,\u001b[0m \u001b[0me\u001b[0m\u001b[0;34m:\u001b[0m\u001b[0;34m\u001b[0m\u001b[0m\n\u001b[1;32m   1614\u001b[0m             \u001b[0;31m# The error raised by numpy has no shape information, we mean to\u001b[0m\u001b[0;34m\u001b[0m\u001b[0;34m\u001b[0m\u001b[0m\n",
        "\u001b[0;31mKeyboardInterrupt\u001b[0m: "
       ]
      },
      {
       "output_type": "stream",
       "stream": "stdout",
       "text": [
        "\n",
        "1213 error on training set:  0.0016\n",
        "1213 error on testing set:  0.1060\n",
        "1214\n"
       ]
      }
     ],
     "prompt_number": 32
    },
    {
     "cell_type": "markdown",
     "metadata": {},
     "source": [
      "#### Pytania analityczne / do dyskusji\n",
      "\n",
      "* Co si\u0119 dzieje gdy zmienisz wielko\u015b\u0107 warstwy ukrytej na np. `10`? A je\u015bli na `2000`? \n",
      "* Jak wygl\u0105daj\u0105 te wykresy dla modeli regresji i klasyfikacji? \n",
      "* Sk\u0105d takie zale\u017cno\u015bci? \n",
      "* Czy potrafisz wydzieli\u0107 jakie\u015b sekcje w obserwowanych wykresach?"
     ]
    },
    {
     "cell_type": "markdown",
     "metadata": {},
     "source": [
      "### Przyk\u0142adowe rezultaty\n",
      "\n",
      "\n",
      "#### Regresja 10 neuron\u00f3w\n",
      "\n",
      "<img src=\"files/SN4_img/10reg.png\" width=\"600\">\n",
      "\n",
      "#### Klasyfikacja 10 neuron\u00f3w\n",
      "\n",
      "<img src=\"files/SN4_img/10cla.png\" width=\"600\">\n",
      "\n",
      "#### Regresja 100 neuron\u00f3w\n",
      "\n",
      "<img src=\"files/SN4_img/100reg.png\" width=\"600\">\n",
      "\n",
      "#### Klasyfikacja 100 neuron\u00f3w\n",
      "\n",
      "<img src=\"files/SN4_img/100cla.png\" width=\"600\">\n",
      "\n",
      "#### Regresja 1000 neuron\u00f3w\n",
      "\n",
      "<img src=\"files/SN4_img/1000reg.png\" width=\"600\">\n",
      "\n",
      "#### Klasyfikacja 1000 neuron\u00f3w\n",
      "\n",
      "<img src=\"files/SN4_img/1000cla.png\" width=\"600\">"
     ]
    }
   ],
   "metadata": {}
  }
 ]
}