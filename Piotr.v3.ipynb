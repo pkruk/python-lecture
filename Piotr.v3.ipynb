{
 "metadata": {
  "kernelspec": {
   "display_name": "Python 2",
   "language": "python",
   "name": "python2"
  },
  "language_info": {
   "codemirror_mode": {
    "name": "ipython",
    "version": 2
   },
   "file_extension": ".py",
   "mimetype": "text/x-python",
   "name": "python",
   "nbconvert_exporter": "python",
   "pygments_lexer": "ipython2",
   "version": "2.7.6"
  },
  "name": ""
 },
 "nbformat": 3,
 "nbformat_minor": 0,
 "worksheets": [
  {
   "cells": [
    {
     "cell_type": "code",
     "collapsed": false,
     "input": [
      "from sklearn.datasets import load_svmlight_file\n",
      "from sklearn.linear_model import Perceptron\n",
      "from sklearn.preprocessing import normalize\n",
      "from matplotlib import pyplot as plt\n",
      "import numpy as np\n",
      "import warnings\n",
      "import pickle\n",
      "\n",
      "warnings.filterwarnings('ignore')\n",
      "\n",
      "X, y = load_svmlight_file('data/task1.train')\n",
      "X = normalize(X)\n",
      "#The data to normalize, element by element. \n",
      "#scipy.sparse matrices should be in CSR format to avoid an un-necessary copy. we have a csr, so we can\n",
      "#max for y is 6.0\n"
     ],
     "language": "python",
     "metadata": {},
     "outputs": [],
     "prompt_number": 5
    },
    {
     "cell_type": "code",
     "collapsed": false,
     "input": [
      "\n",
      "model = Perceptron(n_iter=100, fit_intercept=False)\n",
      "model.fit(X[:-100],y[:-100])\n",
      "pred = model.predict(X[:-100])\n",
      "\n",
      "print \"matched:\", (str(sum(pred == y[:-100]))), \"length?\", len(y[:-100])\n",
      "pickle.dump( model, open( \"Kruk.model\", \"wb\" ) )\n",
      "\n",
      "\n",
      "#print str(sum(pred == y)/float(len(y)))\n",
      "# plt.scatter(X[:,0], X[:,1], c=pred, linewidth=0, s=100, alpha=0.8)\n",
      "# plt.show()"
     ],
     "language": "python",
     "metadata": {},
     "outputs": [
      {
       "output_type": "stream",
       "stream": "stdout",
       "text": [
        "matched: 791 length? 866\n"
       ]
      }
     ],
     "prompt_number": 2
    },
    {
     "cell_type": "code",
     "collapsed": true,
     "input": [
      "class FacesClassifier(object):\n",
      "    \n",
      "    def __init__(self, model='Kruk.model'):\n",
      "        self.model = pickle.load( open( model, \"rb\" ) )\n",
      "        \n",
      "    def predict(self, X):\n",
      "        return self.model.predict(X)"
     ],
     "language": "python",
     "metadata": {},
     "outputs": [],
     "prompt_number": 3
    },
    {
     "cell_type": "code",
     "collapsed": false,
     "input": [
      "f = FacesClassifier('Kruk.model')\n",
      "p = f.predict(X[-100:])\n",
      "print \"matched:\", (str(sum(p == y[-100:]))), \"length?\", len(y[-100:])"
     ],
     "language": "python",
     "metadata": {},
     "outputs": [
      {
       "output_type": "stream",
       "stream": "stdout",
       "text": [
        "matched: 76 length? 100\n"
       ]
      }
     ],
     "prompt_number": 4
    }
   ],
   "metadata": {}
  }
 ]
}