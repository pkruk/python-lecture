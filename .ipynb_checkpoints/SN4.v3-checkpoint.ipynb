{
 "metadata": {
  "kernelspec": {
   "display_name": "Python 2",
   "language": "python",
   "name": "python2"
  },
  "language_info": {
   "codemirror_mode": {
    "name": "ipython",
    "version": 2
   },
   "file_extension": ".py",
   "mimetype": "text/x-python",
   "name": "python",
   "nbconvert_exporter": "python",
   "pygments_lexer": "ipython2",
   "version": "2.7.9"
  },
  "name": ""
 },
 "nbformat": 3,
 "nbformat_minor": 0,
 "worksheets": [
  {
   "cells": [
    {
     "cell_type": "heading",
     "level": 1,
     "metadata": {},
     "source": [
      "Sieci Neuronowe - Laboratorium 4. Wyb\u00f3r funkcji kosztu"
     ]
    },
    {
     "cell_type": "heading",
     "level": 2,
     "metadata": {},
     "source": [
      "Regresja czy klasyfikacja?"
     ]
    },
    {
     "cell_type": "markdown",
     "metadata": {},
     "source": [
      "\n",
      "#### Regresja - b\u0142\u0105d \u015bredniokwadratowy\n",
      "Przyjmijmy, \u017ce mamy regresj\u0119 jednowymiarow\u0105 (wtedy $f(X_i|\\theta), Y_i \\in \\mathbb{R}$) lub wielowymiarow\u0105 (wtedy $f(X_i|\\theta), Y_i \\in \\mathbb{R}^m$)\n",
      "$$\n",
      "\\mathcal{L}(\\theta| X, Y) = \\tfrac{1}{N} \\sum_{i=1}^N \\| f(X_i|\\theta) - Y_i \\|_2^2 \n",
      "$$\n",
      "\n",
      "\n",
      "    theanets.Regresor\n",
      "\n",
      "\n",
      "#### Klasyfikacja - b\u0142\u0105d entropii krzy\u017cowej (b\u0142\u0105d logistyczny)\n",
      "Przyjmijmy \u017ce mamy `m` klas i `m` neuron\u00f3w wyj\u015bciowych gora -> wyjscie neuronu maksymalizujemy po wszystkich wyjsciach neuronow wyjsciowych stricte klasyfikacja\n",
      "$$\n",
      "\\mathcal{L}(\\theta| X, Y) = \\tfrac{1}{N} \\sum_{i=1}^N -\\log \\frac{\\exp(f_{Y_i}(X_i|\\theta))}{\\sum_{k=1}^m \\exp(f_k(X_i|\\theta))}\n",
      "$$\n",
      "\n",
      "    theanets.Classifer\n",
      "    \n"
     ]
    },
    {
     "cell_type": "markdown",
     "metadata": {},
     "source": [
      "#### Pytania do dyskusji:\n",
      "\n",
      "* Dlaczego te dwie funkcje kosztu s\u0105 najbardziej popularne?\n",
      "* Czy patrz\u0105c na nie przychodzi wam na my\u015bl jaka\u015b prosta inna funkcja kosztu? Jaka? Jakie mia\u0142aby cechy?\n",
      "* Jaka jest r\u00f3\u017cnica pomi\u0119dzy tymi kosztami? W og\u00f3lno\u015bci? A dla problemu binarnego?\n",
      "    "
     ]
    },
    {
     "cell_type": "markdown",
     "metadata": {},
     "source": [
      "### Zadania\n",
      "\n",
      "Stw\u00f3rz trzy architektury i przetestuj je w problemie rozpoznawania pisma:\n",
      "\n",
      "* Model regresji z jednym neuronem wyj\u015bciowem\n",
      "* Model regresji z `m` neuronami wyj\u015bciowymi (kodowanie klas one-hot-encoding)\n",
      "* Model klasyfikacji  z `m` neuronami wyj\u015bciowymi (kodowanie klas one-hot-encoding)\n"
     ]
    },
    {
     "cell_type": "heading",
     "level": 2,
     "metadata": {},
     "source": [
      "Analiza procesu uczenia"
     ]
    },
    {
     "cell_type": "markdown",
     "metadata": {},
     "source": [
      "Przy u\u017cyciu `theanets` oraz naszego zbioru danych (mo\u017cesz zredukowa\u0107 go do mniejszej liczby przyk\u0142ad\u00f3w \u017ceby zwi\u0119kszy\u0107 szybko\u015b\u0107 dzia\u0142ania) przeprowad\u017a eksperyment, w kt\u00f3rym po ka\u017cdej iteracji procesu uczenia sieci neuronowej sprawdzasz jaki wynik osi\u0105ga ona na zbiorze ucz\u0105cym oraz jaki na zbiorze testuj\u0105cym. Zaprezentuj wynik tego eksperymentu w postaci wykres\u00f3w (zale\u017cno\u015bci czasu od accuracy). Najlepiej tw\u00f3rz wykres co okre\u015blon\u0105 liczb\u0119 iteracji \u017ceby powstawa\u0142 on na bie\u017c\u0105co."
     ]
    },
    {
     "cell_type": "code",
     "collapsed": false,
     "input": [
      "from sklearn.metrics import accuracy_score\n",
      "import theanets\n",
      "from scipy.io import loadmat\n",
      "import numpy as np\n",
      "from sklearn.cross_validation import train_test_split\n",
      "\n",
      "D = loadmat('data/ex3data1.mat')\n",
      "X, y = D['X'], D['y']\n",
      "\n",
      "\n",
      "y=y.ravel() # y musi by\u0107 wektorem, a nie macierz\u0105 (5000, 1)\n",
      "y[y == 10] = 0\n",
      "\n",
      "\n",
      "a_train, a_test, b_train, b_test = train_test_split(X, y, test_size=0.5)\n",
      "\n",
      "x = X[0]\n",
      "\n",
      "exp = theanets.Experiment(\n",
      "    theanets.Classifier,\n",
      "    layers=(a_train.shape[1], \n",
      "            10, \n",
      "            10)\n",
      "    )\n",
      "b = b_train.ravel()\n",
      "exp.train(\n",
      "    (a_train, b),\n",
      "    optimize='sgd',\n",
      "    learning_rate=0.01,\n",
      "    momentum=0.2\n",
      "    )\n",
      "\n",
      "\n",
      "for iters, train, valid in enumerate(exp.itertrain((Xtrain, ytrain), optimize='sgd', \n",
      "                                                    learning_rate=0.1, momentum=0.1,\n",
      "                                                    patience=100000)):\n",
      "        print iters\n",
      "        tr = 1.0 - accuracy_score(ytrain, exp.network.classify(Xtrain), normalize=True)\n",
      "        te = 1.0 - accuracy_score(ytest, exp.network.classify(Xtest), normalize=True)\n",
      "        print iters, \"error on training set: %7.4f\" % tr\n",
      "        print iters, \"error on testing set: %7.4f\" % te"
     ],
     "language": "python",
     "metadata": {},
     "outputs": [
      {
       "ename": "ValueError",
       "evalue": "y_i value out of bounds\nApply node that caused the error: CrossentropySoftmaxArgmax1HotWithBias(Elemwise{Sub}[(0, 0)].0, Alloc.0, labels)\nInputs types: [TensorType(float64, matrix), TensorType(float64, vector), TensorType(int32, vector)]\nInputs shapes: [(64, 10), (10,), (64,)]\nInputs strides: [(80, 8), (8,), (4,)]\nInputs values: ['not shown', 'not shown', 'not shown']\n\nHINT: Re-running with most Theano optimization disabled could give you a back-trace of when this node was created. This can be done with by setting the Theano flag 'optimizer=fast_compile'. If that does not work, Theano optimizations can be disabled with 'optimizer=None'.\nHINT: Use the Theano flag 'exception_verbosity=high' for a debugprint and storage map footprint of this apply node.",
       "output_type": "pyerr",
       "traceback": [
        "\u001b[0;31m---------------------------------------------------------------------------\u001b[0m\n\u001b[0;31mValueError\u001b[0m                                Traceback (most recent call last)",
        "\u001b[0;32m<ipython-input-25-7fd13021a008>\u001b[0m in \u001b[0;36m<module>\u001b[0;34m()\u001b[0m\n\u001b[1;32m     26\u001b[0m     \u001b[0moptimize\u001b[0m\u001b[0;34m=\u001b[0m\u001b[0;34m'sgd'\u001b[0m\u001b[0;34m,\u001b[0m\u001b[0;34m\u001b[0m\u001b[0m\n\u001b[1;32m     27\u001b[0m     \u001b[0mlearning_rate\u001b[0m\u001b[0;34m=\u001b[0m\u001b[0;36m0.01\u001b[0m\u001b[0;34m,\u001b[0m\u001b[0;34m\u001b[0m\u001b[0m\n\u001b[0;32m---> 28\u001b[0;31m     \u001b[0mmomentum\u001b[0m\u001b[0;34m=\u001b[0m\u001b[0;36m0.2\u001b[0m\u001b[0;34m\u001b[0m\u001b[0m\n\u001b[0m\u001b[1;32m     29\u001b[0m     )\n\u001b[1;32m     30\u001b[0m \u001b[0;34m\u001b[0m\u001b[0m\n",
        "\u001b[0;32m/usr/local/lib/python2.7/dist-packages/theanets/main.pyc\u001b[0m in \u001b[0;36mtrain\u001b[0;34m(self, *args, **kwargs)\u001b[0m\n\u001b[1;32m    253\u001b[0m         '''\n\u001b[1;32m    254\u001b[0m         \u001b[0mmonitors\u001b[0m \u001b[0;34m=\u001b[0m \u001b[0mNone\u001b[0m\u001b[0;34m\u001b[0m\u001b[0m\n\u001b[0;32m--> 255\u001b[0;31m         \u001b[0;32mfor\u001b[0m \u001b[0mmonitors\u001b[0m \u001b[0;32min\u001b[0m \u001b[0mself\u001b[0m\u001b[0;34m.\u001b[0m\u001b[0mitertrain\u001b[0m\u001b[0;34m(\u001b[0m\u001b[0;34m*\u001b[0m\u001b[0margs\u001b[0m\u001b[0;34m,\u001b[0m \u001b[0;34m**\u001b[0m\u001b[0mkwargs\u001b[0m\u001b[0;34m)\u001b[0m\u001b[0;34m:\u001b[0m\u001b[0;34m\u001b[0m\u001b[0m\n\u001b[0m\u001b[1;32m    256\u001b[0m             \u001b[0;32mpass\u001b[0m\u001b[0;34m\u001b[0m\u001b[0m\n\u001b[1;32m    257\u001b[0m         \u001b[0;32mreturn\u001b[0m \u001b[0mmonitors\u001b[0m\u001b[0;34m\u001b[0m\u001b[0m\n",
        "\u001b[0;32m/usr/local/lib/python2.7/dist-packages/theanets/main.pyc\u001b[0m in \u001b[0;36mitertrain\u001b[0;34m(self, train_set, valid_set, optimize, **kwargs)\u001b[0m\n\u001b[1;32m    326\u001b[0m                 \u001b[0mopt\u001b[0m \u001b[0;34m=\u001b[0m \u001b[0mself\u001b[0m\u001b[0;34m.\u001b[0m\u001b[0mcreate_trainer\u001b[0m\u001b[0;34m(\u001b[0m\u001b[0mopt\u001b[0m\u001b[0;34m,\u001b[0m \u001b[0;34m**\u001b[0m\u001b[0mkwargs\u001b[0m\u001b[0;34m)\u001b[0m\u001b[0;34m\u001b[0m\u001b[0m\n\u001b[1;32m    327\u001b[0m             \u001b[0mstart\u001b[0m \u001b[0;34m=\u001b[0m \u001b[0mdatetime\u001b[0m\u001b[0;34m.\u001b[0m\u001b[0mdatetime\u001b[0m\u001b[0;34m.\u001b[0m\u001b[0mnow\u001b[0m\u001b[0;34m(\u001b[0m\u001b[0;34m)\u001b[0m\u001b[0;34m\u001b[0m\u001b[0m\n\u001b[0;32m--> 328\u001b[0;31m             \u001b[0;32mfor\u001b[0m \u001b[0mi\u001b[0m\u001b[0;34m,\u001b[0m \u001b[0mmonitors\u001b[0m \u001b[0;32min\u001b[0m \u001b[0menumerate\u001b[0m\u001b[0;34m(\u001b[0m\u001b[0mopt\u001b[0m\u001b[0;34m.\u001b[0m\u001b[0mitertrain\u001b[0m\u001b[0;34m(\u001b[0m\u001b[0;34m**\u001b[0m\u001b[0msets\u001b[0m\u001b[0;34m)\u001b[0m\u001b[0;34m)\u001b[0m\u001b[0;34m:\u001b[0m\u001b[0;34m\u001b[0m\u001b[0m\n\u001b[0m\u001b[1;32m    329\u001b[0m                 \u001b[0;32myield\u001b[0m \u001b[0mmonitors\u001b[0m\u001b[0;34m\u001b[0m\u001b[0m\n\u001b[1;32m    330\u001b[0m                 \u001b[0mnow\u001b[0m \u001b[0;34m=\u001b[0m \u001b[0mdatetime\u001b[0m\u001b[0;34m.\u001b[0m\u001b[0mdatetime\u001b[0m\u001b[0;34m.\u001b[0m\u001b[0mnow\u001b[0m\u001b[0;34m(\u001b[0m\u001b[0;34m)\u001b[0m\u001b[0;34m\u001b[0m\u001b[0m\n",
        "\u001b[0;32m/usr/local/lib/python2.7/dist-packages/theanets/trainer.pyc\u001b[0m in \u001b[0;36mitertrain\u001b[0;34m(self, train_set, valid_set, **kwargs)\u001b[0m\n\u001b[1;32m    246\u001b[0m             \u001b[0;32mif\u001b[0m \u001b[0;32mnot\u001b[0m \u001b[0miteration\u001b[0m \u001b[0;34m%\u001b[0m \u001b[0mself\u001b[0m\u001b[0;34m.\u001b[0m\u001b[0mvalidate_every\u001b[0m\u001b[0;34m:\u001b[0m\u001b[0;34m\u001b[0m\u001b[0m\n\u001b[1;32m    247\u001b[0m                 \u001b[0;32mtry\u001b[0m\u001b[0;34m:\u001b[0m\u001b[0;34m\u001b[0m\u001b[0m\n\u001b[0;32m--> 248\u001b[0;31m                     \u001b[0mvalidation\u001b[0m \u001b[0;34m=\u001b[0m \u001b[0mself\u001b[0m\u001b[0;34m.\u001b[0m\u001b[0mevaluate\u001b[0m\u001b[0;34m(\u001b[0m\u001b[0mvalid_set\u001b[0m\u001b[0;34m)\u001b[0m\u001b[0;34m\u001b[0m\u001b[0m\n\u001b[0m\u001b[1;32m    249\u001b[0m                 \u001b[0;32mexcept\u001b[0m \u001b[0mKeyboardInterrupt\u001b[0m\u001b[0;34m:\u001b[0m\u001b[0;34m\u001b[0m\u001b[0m\n\u001b[1;32m    250\u001b[0m                     \u001b[0mlogging\u001b[0m\u001b[0;34m.\u001b[0m\u001b[0minfo\u001b[0m\u001b[0;34m(\u001b[0m\u001b[0;34m'interrupted!'\u001b[0m\u001b[0;34m)\u001b[0m\u001b[0;34m\u001b[0m\u001b[0m\n",
        "\u001b[0;32m/usr/local/lib/python2.7/dist-packages/theanets/trainer.pyc\u001b[0m in \u001b[0;36mevaluate\u001b[0;34m(self, dataset)\u001b[0m\n\u001b[1;32m    184\u001b[0m             \u001b[0maccuracy\u001b[0m\u001b[0;34m,\u001b[0m \u001b[0;32mor\u001b[0m \u001b[0mwhatever\u001b[0m \u001b[0mthe\u001b[0m \u001b[0mlayers\u001b[0m \u001b[0;32min\u001b[0m \u001b[0mthe\u001b[0m \u001b[0mnetwork\u001b[0m \u001b[0mdefine\u001b[0m\u001b[0;34m.\u001b[0m\u001b[0;34m\u001b[0m\u001b[0m\n\u001b[1;32m    185\u001b[0m         '''\n\u001b[0;32m--> 186\u001b[0;31m         \u001b[0mvalues\u001b[0m \u001b[0;34m=\u001b[0m \u001b[0;34m[\u001b[0m\u001b[0mself\u001b[0m\u001b[0;34m.\u001b[0m\u001b[0mf_eval\u001b[0m\u001b[0;34m(\u001b[0m\u001b[0;34m*\u001b[0m\u001b[0mx\u001b[0m\u001b[0;34m)\u001b[0m \u001b[0;32mfor\u001b[0m \u001b[0mx\u001b[0m \u001b[0;32min\u001b[0m \u001b[0mdataset\u001b[0m\u001b[0;34m]\u001b[0m\u001b[0;34m\u001b[0m\u001b[0m\n\u001b[0m\u001b[1;32m    187\u001b[0m         \u001b[0mmonitors\u001b[0m \u001b[0;34m=\u001b[0m \u001b[0mzip\u001b[0m\u001b[0;34m(\u001b[0m\u001b[0mself\u001b[0m\u001b[0;34m.\u001b[0m\u001b[0m_monitor_names\u001b[0m\u001b[0;34m,\u001b[0m \u001b[0mnp\u001b[0m\u001b[0;34m.\u001b[0m\u001b[0mmean\u001b[0m\u001b[0;34m(\u001b[0m\u001b[0mvalues\u001b[0m\u001b[0;34m,\u001b[0m \u001b[0maxis\u001b[0m\u001b[0;34m=\u001b[0m\u001b[0;36m0\u001b[0m\u001b[0;34m)\u001b[0m\u001b[0;34m)\u001b[0m\u001b[0;34m\u001b[0m\u001b[0m\n\u001b[1;32m    188\u001b[0m         \u001b[0;32mreturn\u001b[0m \u001b[0mcollections\u001b[0m\u001b[0;34m.\u001b[0m\u001b[0mOrderedDict\u001b[0m\u001b[0;34m(\u001b[0m\u001b[0mmonitors\u001b[0m\u001b[0;34m)\u001b[0m\u001b[0;34m\u001b[0m\u001b[0m\n",
        "\u001b[0;32m/usr/local/lib/python2.7/dist-packages/theano/compile/function_module.pyc\u001b[0m in \u001b[0;36m__call__\u001b[0;34m(self, *args, **kwargs)\u001b[0m\n\u001b[1;32m    604\u001b[0m                         \u001b[0mself\u001b[0m\u001b[0;34m.\u001b[0m\u001b[0mfn\u001b[0m\u001b[0;34m.\u001b[0m\u001b[0mnodes\u001b[0m\u001b[0;34m[\u001b[0m\u001b[0mself\u001b[0m\u001b[0;34m.\u001b[0m\u001b[0mfn\u001b[0m\u001b[0;34m.\u001b[0m\u001b[0mposition_of_error\u001b[0m\u001b[0;34m]\u001b[0m\u001b[0;34m,\u001b[0m\u001b[0;34m\u001b[0m\u001b[0m\n\u001b[1;32m    605\u001b[0m                         \u001b[0mself\u001b[0m\u001b[0;34m.\u001b[0m\u001b[0mfn\u001b[0m\u001b[0;34m.\u001b[0m\u001b[0mthunks\u001b[0m\u001b[0;34m[\u001b[0m\u001b[0mself\u001b[0m\u001b[0;34m.\u001b[0m\u001b[0mfn\u001b[0m\u001b[0;34m.\u001b[0m\u001b[0mposition_of_error\u001b[0m\u001b[0;34m]\u001b[0m\u001b[0;34m,\u001b[0m\u001b[0;34m\u001b[0m\u001b[0m\n\u001b[0;32m--> 606\u001b[0;31m                         storage_map=self.fn.storage_map)\n\u001b[0m\u001b[1;32m    607\u001b[0m                 \u001b[0;32melse\u001b[0m\u001b[0;34m:\u001b[0m\u001b[0;34m\u001b[0m\u001b[0m\n\u001b[1;32m    608\u001b[0m                     \u001b[0;31m# For the c linker We don't have access from\u001b[0m\u001b[0;34m\u001b[0m\u001b[0;34m\u001b[0m\u001b[0m\n",
        "\u001b[0;32m/usr/local/lib/python2.7/dist-packages/theano/compile/function_module.pyc\u001b[0m in \u001b[0;36m__call__\u001b[0;34m(self, *args, **kwargs)\u001b[0m\n\u001b[1;32m    593\u001b[0m         \u001b[0mt0_fn\u001b[0m \u001b[0;34m=\u001b[0m \u001b[0mtime\u001b[0m\u001b[0;34m.\u001b[0m\u001b[0mtime\u001b[0m\u001b[0;34m(\u001b[0m\u001b[0;34m)\u001b[0m\u001b[0;34m\u001b[0m\u001b[0m\n\u001b[1;32m    594\u001b[0m         \u001b[0;32mtry\u001b[0m\u001b[0;34m:\u001b[0m\u001b[0;34m\u001b[0m\u001b[0m\n\u001b[0;32m--> 595\u001b[0;31m             \u001b[0moutputs\u001b[0m \u001b[0;34m=\u001b[0m \u001b[0mself\u001b[0m\u001b[0;34m.\u001b[0m\u001b[0mfn\u001b[0m\u001b[0;34m(\u001b[0m\u001b[0;34m)\u001b[0m\u001b[0;34m\u001b[0m\u001b[0m\n\u001b[0m\u001b[1;32m    596\u001b[0m         \u001b[0;32mexcept\u001b[0m \u001b[0mException\u001b[0m\u001b[0;34m:\u001b[0m\u001b[0;34m\u001b[0m\u001b[0m\n\u001b[1;32m    597\u001b[0m             \u001b[0;32mif\u001b[0m \u001b[0mhasattr\u001b[0m\u001b[0;34m(\u001b[0m\u001b[0mself\u001b[0m\u001b[0;34m.\u001b[0m\u001b[0mfn\u001b[0m\u001b[0;34m,\u001b[0m \u001b[0;34m'position_of_error'\u001b[0m\u001b[0;34m)\u001b[0m\u001b[0;34m:\u001b[0m\u001b[0;34m\u001b[0m\u001b[0m\n",
        "\u001b[0;31mValueError\u001b[0m: y_i value out of bounds\nApply node that caused the error: CrossentropySoftmaxArgmax1HotWithBias(Elemwise{Sub}[(0, 0)].0, Alloc.0, labels)\nInputs types: [TensorType(float64, matrix), TensorType(float64, vector), TensorType(int32, vector)]\nInputs shapes: [(64, 10), (10,), (64,)]\nInputs strides: [(80, 8), (8,), (4,)]\nInputs values: ['not shown', 'not shown', 'not shown']\n\nHINT: Re-running with most Theano optimization disabled could give you a back-trace of when this node was created. This can be done with by setting the Theano flag 'optimizer=fast_compile'. If that does not work, Theano optimizations can be disabled with 'optimizer=None'.\nHINT: Use the Theano flag 'exception_verbosity=high' for a debugprint and storage map footprint of this apply node."
       ]
      }
     ],
     "prompt_number": 25
    },
    {
     "cell_type": "markdown",
     "metadata": {},
     "source": [
      "#### Pytania analityczne / do dyskusji\n",
      "\n",
      "* Co si\u0119 dzieje gdy zmienisz wielko\u015b\u0107 warstwy ukrytej na np. `10`? A je\u015bli na `2000`? \n",
      "* Jak wygl\u0105daj\u0105 te wykresy dla modeli regresji i klasyfikacji? \n",
      "* Sk\u0105d takie zale\u017cno\u015bci? \n",
      "* Czy potrafisz wydzieli\u0107 jakie\u015b sekcje w obserwowanych wykresach?"
     ]
    },
    {
     "cell_type": "markdown",
     "metadata": {},
     "source": [
      "### Przyk\u0142adowe rezultaty\n",
      "\n",
      "\n",
      "#### Regresja 10 neuron\u00f3w\n",
      "\n",
      "<img src=\"files/SN4_img/10reg.png\" width=\"600\">\n",
      "\n",
      "#### Klasyfikacja 10 neuron\u00f3w\n",
      "\n",
      "<img src=\"files/SN4_img/10cla.png\" width=\"600\">\n",
      "\n",
      "#### Regresja 100 neuron\u00f3w\n",
      "\n",
      "<img src=\"files/SN4_img/100reg.png\" width=\"600\">\n",
      "\n",
      "#### Klasyfikacja 100 neuron\u00f3w\n",
      "\n",
      "<img src=\"files/SN4_img/100cla.png\" width=\"600\">\n",
      "\n",
      "#### Regresja 1000 neuron\u00f3w\n",
      "\n",
      "<img src=\"files/SN4_img/1000reg.png\" width=\"600\">\n",
      "\n",
      "#### Klasyfikacja 1000 neuron\u00f3w\n",
      "\n",
      "<img src=\"files/SN4_img/1000cla.png\" width=\"600\">"
     ]
    }
   ],
   "metadata": {}
  }
 ]
}