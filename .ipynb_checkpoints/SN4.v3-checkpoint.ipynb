{
 "metadata": {
  "kernelspec": {
   "display_name": "Python 2",
   "language": "python",
   "name": "python2"
  },
  "language_info": {
   "codemirror_mode": {
    "name": "ipython",
    "version": 2
   },
   "file_extension": ".py",
   "mimetype": "text/x-python",
   "name": "python",
   "nbconvert_exporter": "python",
   "pygments_lexer": "ipython2",
   "version": "2.7.9"
  },
  "name": ""
 },
 "nbformat": 3,
 "nbformat_minor": 0,
 "worksheets": [
  {
   "cells": [
    {
     "cell_type": "heading",
     "level": 1,
     "metadata": {},
     "source": [
      "Sieci Neuronowe - Laboratorium 4. Wyb\u00f3r funkcji kosztu"
     ]
    },
    {
     "cell_type": "heading",
     "level": 2,
     "metadata": {},
     "source": [
      "Regresja czy klasyfikacja?"
     ]
    },
    {
     "cell_type": "markdown",
     "metadata": {},
     "source": [
      "\n",
      "#### Regresja - b\u0142\u0105d \u015bredniokwadratowy\n",
      "Przyjmijmy, \u017ce mamy regresj\u0119 jednowymiarow\u0105 (wtedy $f(X_i|\\theta), Y_i \\in \\mathbb{R}$) lub wielowymiarow\u0105 (wtedy $f(X_i|\\theta), Y_i \\in \\mathbb{R}^m$)\n",
      "$$\n",
      "\\mathcal{L}(\\theta| X, Y) = \\tfrac{1}{N} \\sum_{i=1}^N \\| f(X_i|\\theta) - Y_i \\|_2^2 \n",
      "$$\n",
      "\n",
      "\n",
      "    theanets.Regresor\n",
      "\n",
      "\n",
      "#### Klasyfikacja - b\u0142\u0105d entropii krzy\u017cowej (b\u0142\u0105d logistyczny)\n",
      "Przyjmijmy \u017ce mamy `m` klas i `m` neuron\u00f3w wyj\u015bciowych gora -> wyjscie neuronu maksymalizujemy po wszystkich wyjsciach neuronow wyjsciowych stricte klasyfikacja\n",
      "$$\n",
      "\\mathcal{L}(\\theta| X, Y) = \\tfrac{1}{N} \\sum_{i=1}^N -\\log \\frac{\\exp(f_{Y_i}(X_i|\\theta))}{\\sum_{k=1}^m \\exp(f_k(X_i|\\theta))}\n",
      "$$\n",
      "\n",
      "    theanets.Classifer\n",
      "    \n"
     ]
    },
    {
     "cell_type": "markdown",
     "metadata": {},
     "source": [
      "#### Pytania do dyskusji:\n",
      "\n",
      "* Dlaczego te dwie funkcje kosztu s\u0105 najbardziej popularne?\n",
      "* Czy patrz\u0105c na nie przychodzi wam na my\u015bl jaka\u015b prosta inna funkcja kosztu? Jaka? Jakie mia\u0142aby cechy?\n",
      "* Jaka jest r\u00f3\u017cnica pomi\u0119dzy tymi kosztami? W og\u00f3lno\u015bci? A dla problemu binarnego?\n",
      "    "
     ]
    },
    {
     "cell_type": "markdown",
     "metadata": {},
     "source": [
      "### Zadania\n",
      "\n",
      "Stw\u00f3rz trzy architektury i przetestuj je w problemie rozpoznawania pisma:\n",
      "\n",
      "* Model regresji z jednym neuronem wyj\u015bciowem\n",
      "* Model regresji z `m` neuronami wyj\u015bciowymi (kodowanie klas one-hot-encoding)\n",
      "* Model klasyfikacji  z `m` neuronami wyj\u015bciowymi (kodowanie klas one-hot-encoding)\n"
     ]
    },
    {
     "cell_type": "heading",
     "level": 2,
     "metadata": {},
     "source": [
      "Analiza procesu uczenia"
     ]
    },
    {
     "cell_type": "markdown",
     "metadata": {},
     "source": [
      "Przy u\u017cyciu `theanets` oraz naszego zbioru danych (mo\u017cesz zredukowa\u0107 go do mniejszej liczby przyk\u0142ad\u00f3w \u017ceby zwi\u0119kszy\u0107 szybko\u015b\u0107 dzia\u0142ania) przeprowad\u017a eksperyment, w kt\u00f3rym po ka\u017cdej iteracji procesu uczenia sieci neuronowej sprawdzasz jaki wynik osi\u0105ga ona na zbiorze ucz\u0105cym oraz jaki na zbiorze testuj\u0105cym. Zaprezentuj wynik tego eksperymentu w postaci wykres\u00f3w (zale\u017cno\u015bci czasu od accuracy). Najlepiej tw\u00f3rz wykres co okre\u015blon\u0105 liczb\u0119 iteracji \u017ceby powstawa\u0142 on na bie\u017c\u0105co."
     ]
    },
    {
     "cell_type": "code",
     "collapsed": false,
     "input": [
      "from sklearn.metrics import accuracy_score\n",
      "import theanets\n",
      "from scipy.io import loadmat\n",
      "import numpy as np\n",
      "from sklearn.cross_validation import train_test_split\n",
      "\n",
      "D = loadmat('data/ex3data1.mat')\n",
      "X, y = D['X'], D['y']\n",
      "\n",
      "\n",
      "#y=y.ravel() # y musi by\u0107 wektorem, a nie macierz\u0105 (5000, 1)\n",
      "#y = y.reshape(y.shape[0],1)\n",
      "y[y == 10] = 0\n",
      "print X.shape, y.shape\n",
      "\n",
      "a_train, a_test, b_train, b_test = train_test_split(X, y, test_size=0.5)\n",
      "\n",
      "x = X[0]\n",
      "#b = b_train.ravel()\n",
      "#print a_train.shape[1]\n",
      "exp = theanets.Experiment(\n",
      "#    theanets.recurrent.Regressor,\n",
      "#     layers=(a_train.shape[1], \n",
      "#             10, \n",
      "#             10)\n",
      "#     )\n",
      "theanets.feedforward.Regressor,\n",
      "                    layers=(400,10,1),\n",
      "                    optimize='sgd',\n",
      "                    activation='tanh')\n",
      "\n",
      "print b_train\n",
      "\n",
      "for iters, (train, valid) in enumerate(exp.itertrain((a_train, b_train), optimize='sgd', \n",
      "                                                    learning_rate=0.1, momentum=0.1,\n",
      "                                                    patience=1)):\n",
      "        print iters\n",
      "        print exp.network.predict(a_train)\n",
      "        #tr = 1.0 - accuracy_score(b_train, exp.network.predict(a_train), normalize=True)\n",
      "        #te = 1.0 - accuracy_score(b_test, exp.network.predict(a_test), normalize=True)\n",
      "        print iters, \"error on training set: %7.4f\" % tr\n",
      "        print iters, \"error on testing set: %7.4f\" % te"
     ],
     "language": "python",
     "metadata": {},
     "outputs": [
      {
       "output_type": "stream",
       "stream": "stdout",
       "text": [
        "(5000, 400) (5000, 1)\n",
        "[[3]\n",
        " [4]\n",
        " [4]\n",
        " ..., \n",
        " [0]\n",
        " [4]\n",
        " [5]]"
       ]
      },
      {
       "output_type": "stream",
       "stream": "stdout",
       "text": [
        "\n",
        "0"
       ]
      },
      {
       "output_type": "stream",
       "stream": "stdout",
       "text": [
        "\n",
        "[[-1.51444954]\n",
        " [ 1.60105227]\n",
        " [ 1.64519553]\n",
        " ..., \n",
        " [-1.51392361]\n",
        " [ 2.6250054 ]\n",
        " [ 0.06404559]]"
       ]
      },
      {
       "ename": "ValueError",
       "evalue": "Can't handle mix of multiclass and continuous",
       "output_type": "pyerr",
       "traceback": [
        "\u001b[0;31m---------------------------------------------------------------------------\u001b[0m\n\u001b[0;31mValueError\u001b[0m                                Traceback (most recent call last)",
        "\u001b[0;32m<ipython-input-24-cda2b7157281>\u001b[0m in \u001b[0;36m<module>\u001b[0;34m()\u001b[0m\n\u001b[1;32m     37\u001b[0m         \u001b[0;32mprint\u001b[0m \u001b[0miters\u001b[0m\u001b[0;34m\u001b[0m\u001b[0m\n\u001b[1;32m     38\u001b[0m         \u001b[0;32mprint\u001b[0m \u001b[0mexp\u001b[0m\u001b[0;34m.\u001b[0m\u001b[0mnetwork\u001b[0m\u001b[0;34m.\u001b[0m\u001b[0mpredict\u001b[0m\u001b[0;34m(\u001b[0m\u001b[0ma_train\u001b[0m\u001b[0;34m)\u001b[0m\u001b[0;34m\u001b[0m\u001b[0m\n\u001b[0;32m---> 39\u001b[0;31m         \u001b[0mtr\u001b[0m \u001b[0;34m=\u001b[0m \u001b[0;36m1.0\u001b[0m \u001b[0;34m-\u001b[0m \u001b[0maccuracy_score\u001b[0m\u001b[0;34m(\u001b[0m\u001b[0mb_train\u001b[0m\u001b[0;34m,\u001b[0m \u001b[0mexp\u001b[0m\u001b[0;34m.\u001b[0m\u001b[0mnetwork\u001b[0m\u001b[0;34m.\u001b[0m\u001b[0mpredict\u001b[0m\u001b[0;34m(\u001b[0m\u001b[0ma_train\u001b[0m\u001b[0;34m)\u001b[0m\u001b[0;34m,\u001b[0m \u001b[0mnormalize\u001b[0m\u001b[0;34m=\u001b[0m\u001b[0mTrue\u001b[0m\u001b[0;34m)\u001b[0m\u001b[0;34m\u001b[0m\u001b[0m\n\u001b[0m\u001b[1;32m     40\u001b[0m         \u001b[0;31m#te = 1.0 - accuracy_score(b_test, exp.network.predict(a_test), normalize=True)\u001b[0m\u001b[0;34m\u001b[0m\u001b[0;34m\u001b[0m\u001b[0m\n\u001b[1;32m     41\u001b[0m         \u001b[0;32mprint\u001b[0m \u001b[0miters\u001b[0m\u001b[0;34m,\u001b[0m \u001b[0;34m\"error on training set: %7.4f\"\u001b[0m \u001b[0;34m%\u001b[0m \u001b[0mtr\u001b[0m\u001b[0;34m\u001b[0m\u001b[0m\n",
        "\u001b[0;32m/usr/lib/python2.7/dist-packages/sklearn/metrics/metrics.pyc\u001b[0m in \u001b[0;36maccuracy_score\u001b[0;34m(y_true, y_pred, normalize)\u001b[0m\n\u001b[1;32m   1062\u001b[0m \u001b[0;34m\u001b[0m\u001b[0m\n\u001b[1;32m   1063\u001b[0m     \u001b[0;31m# Compute accuracy for each possible representation\u001b[0m\u001b[0;34m\u001b[0m\u001b[0;34m\u001b[0m\u001b[0m\n\u001b[0;32m-> 1064\u001b[0;31m     \u001b[0my_type\u001b[0m\u001b[0;34m,\u001b[0m \u001b[0my_true\u001b[0m\u001b[0;34m,\u001b[0m \u001b[0my_pred\u001b[0m \u001b[0;34m=\u001b[0m \u001b[0m_check_clf_targets\u001b[0m\u001b[0;34m(\u001b[0m\u001b[0my_true\u001b[0m\u001b[0;34m,\u001b[0m \u001b[0my_pred\u001b[0m\u001b[0;34m)\u001b[0m\u001b[0;34m\u001b[0m\u001b[0m\n\u001b[0m\u001b[1;32m   1065\u001b[0m     \u001b[0;32mif\u001b[0m \u001b[0my_type\u001b[0m \u001b[0;34m==\u001b[0m \u001b[0;34m'multilabel-indicator'\u001b[0m\u001b[0;34m:\u001b[0m\u001b[0;34m\u001b[0m\u001b[0m\n\u001b[1;32m   1066\u001b[0m         \u001b[0mscore\u001b[0m \u001b[0;34m=\u001b[0m \u001b[0;34m(\u001b[0m\u001b[0my_pred\u001b[0m \u001b[0;34m!=\u001b[0m \u001b[0my_true\u001b[0m\u001b[0;34m)\u001b[0m\u001b[0;34m.\u001b[0m\u001b[0msum\u001b[0m\u001b[0;34m(\u001b[0m\u001b[0maxis\u001b[0m\u001b[0;34m=\u001b[0m\u001b[0;36m1\u001b[0m\u001b[0;34m)\u001b[0m \u001b[0;34m==\u001b[0m \u001b[0;36m0\u001b[0m\u001b[0;34m\u001b[0m\u001b[0m\n",
        "\u001b[0;32m/usr/lib/python2.7/dist-packages/sklearn/metrics/metrics.pyc\u001b[0m in \u001b[0;36m_check_clf_targets\u001b[0;34m(y_true, y_pred)\u001b[0m\n\u001b[1;32m    113\u001b[0m     \u001b[0;32mif\u001b[0m \u001b[0mlen\u001b[0m\u001b[0;34m(\u001b[0m\u001b[0my_type\u001b[0m\u001b[0;34m)\u001b[0m \u001b[0;34m>\u001b[0m \u001b[0;36m1\u001b[0m\u001b[0;34m:\u001b[0m\u001b[0;34m\u001b[0m\u001b[0m\n\u001b[1;32m    114\u001b[0m         raise ValueError(\"Can't handle mix of {0} and {1}\"\n\u001b[0;32m--> 115\u001b[0;31m                          \"\".format(type_true, type_pred))\n\u001b[0m\u001b[1;32m    116\u001b[0m \u001b[0;34m\u001b[0m\u001b[0m\n\u001b[1;32m    117\u001b[0m     \u001b[0;31m# We can't have more than one value on y_type => The set is no more needed\u001b[0m\u001b[0;34m\u001b[0m\u001b[0;34m\u001b[0m\u001b[0m\n",
        "\u001b[0;31mValueError\u001b[0m: Can't handle mix of multiclass and continuous"
       ]
      },
      {
       "output_type": "stream",
       "stream": "stdout",
       "text": [
        "\n"
       ]
      },
      {
       "output_type": "stream",
       "stream": "stderr",
       "text": [
        "/usr/local/lib/python2.7/dist-packages/theanets/main.py:128: DeprecationWarning: please use --hidden-activation instead of --activation\n",
        "  DeprecationWarning)\n"
       ]
      }
     ],
     "prompt_number": 24
    },
    {
     "cell_type": "markdown",
     "metadata": {},
     "source": [
      "#### Pytania analityczne / do dyskusji\n",
      "\n",
      "* Co si\u0119 dzieje gdy zmienisz wielko\u015b\u0107 warstwy ukrytej na np. `10`? A je\u015bli na `2000`? \n",
      "* Jak wygl\u0105daj\u0105 te wykresy dla modeli regresji i klasyfikacji? \n",
      "* Sk\u0105d takie zale\u017cno\u015bci? \n",
      "* Czy potrafisz wydzieli\u0107 jakie\u015b sekcje w obserwowanych wykresach?"
     ]
    },
    {
     "cell_type": "code",
     "collapsed": false,
     "input": [
      "216 error on training set:  0.0312\n",
      "216 error on testing set:  0.0940 neurony 10 w warstwie ukrytej\n",
      "warstwa 200, strasznie dlugo liczy i jakby szybciej zbiega przy 60 iteracji mam juz 0.08 i  0.10 i na trenujacym wiekszy\n",
      "blad, ale mniejsza roznica wzgledem testujacego:\n",
      "216 error on training set:  0.0312\n",
      "216 error on testing set:  0.0896\n"
     ],
     "language": "python",
     "metadata": {},
     "outputs": []
    },
    {
     "cell_type": "markdown",
     "metadata": {},
     "source": [
      "### Przyk\u0142adowe rezultaty\n",
      "\n",
      "\n",
      "#### Regresja 10 neuron\u00f3w\n",
      "\n",
      "<img src=\"files/SN4_img/10reg.png\" width=\"600\">\n",
      "\n",
      "#### Klasyfikacja 10 neuron\u00f3w\n",
      "\n",
      "<img src=\"files/SN4_img/10cla.png\" width=\"600\">\n",
      "\n",
      "#### Regresja 100 neuron\u00f3w\n",
      "\n",
      "<img src=\"files/SN4_img/100reg.png\" width=\"600\">\n",
      "\n",
      "#### Klasyfikacja 100 neuron\u00f3w\n",
      "\n",
      "<img src=\"files/SN4_img/100cla.png\" width=\"600\">\n",
      "\n",
      "#### Regresja 1000 neuron\u00f3w\n",
      "\n",
      "<img src=\"files/SN4_img/1000reg.png\" width=\"600\">\n",
      "\n",
      "#### Klasyfikacja 1000 neuron\u00f3w\n",
      "\n",
      "<img src=\"files/SN4_img/1000cla.png\" width=\"600\">"
     ]
    }
   ],
   "metadata": {}
  }
 ]
}