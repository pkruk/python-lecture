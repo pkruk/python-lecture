{
 "cells": [
  {
   "cell_type": "markdown",
   "metadata": {},
   "source": [
    "## Programowanie Python. Laboratoria 8"
   ]
  },
  {
   "cell_type": "markdown",
   "metadata": {},
   "source": [
    "###Zad 0.\n",
    "\n",
    "Zaimportuj `numpy` jako `np` i uruchom `np.__config__.show()`. Przyjrzyj sie wynikowi dzialania tej komendy. Jaka wiedze mozesz  stad uzyskac? W szczegolnosci, od ktorych elementow zalezec bedzie wydajnosc wykonywanych operacji?"
   ]
  },
  {
   "cell_type": "code",
   "execution_count": 1,
   "metadata": {
    "collapsed": false
   },
   "outputs": [
    {
     "name": "stdout",
     "output_type": "stream",
     "text": [
      "blas_info:\n",
      "    libraries = ['blas']\n",
      "    library_dirs = ['/usr/lib']\n",
      "    language = f77\n",
      "lapack_info:\n",
      "    libraries = ['lapack']\n",
      "    library_dirs = ['/usr/lib']\n",
      "    language = f77\n",
      "atlas_threads_info:\n",
      "  NOT AVAILABLE\n",
      "blas_opt_info:\n",
      "    libraries = ['blas']\n",
      "    library_dirs = ['/usr/lib']\n",
      "    language = f77\n",
      "    define_macros = [('NO_ATLAS_INFO', 1)]\n",
      "atlas_blas_threads_info:\n",
      "  NOT AVAILABLE\n",
      "openblas_info:\n",
      "  NOT AVAILABLE\n",
      "lapack_opt_info:\n",
      "    libraries = ['lapack', 'blas']\n",
      "    library_dirs = ['/usr/lib']\n",
      "    language = f77\n",
      "    define_macros = [('NO_ATLAS_INFO', 1)]\n",
      "atlas_info:\n",
      "  NOT AVAILABLE\n",
      "lapack_mkl_info:\n",
      "  NOT AVAILABLE\n",
      "blas_mkl_info:\n",
      "  NOT AVAILABLE\n",
      "atlas_blas_info:\n",
      "  NOT AVAILABLE\n",
      "mkl_info:\n",
      "  NOT AVAILABLE\n"
     ]
    }
   ],
   "source": [
    "import numpy as np\n",
    "\n",
    "np.__config__.show()"
   ]
  },
  {
   "cell_type": "markdown",
   "metadata": {},
   "source": [
    "###Zad 1.\n",
    "\n",
    "Stwórz losową tablicę liczb, następnie do każdego elementu dodaj 1. Następnie napisz dokładnie tę samą funkcję używając `numpy` i jego tablic. Porównaj czas działania swoich rozwiązań. Dlaczego tak się dzieje?"
   ]
  },
  {
   "cell_type": "code",
   "execution_count": 17,
   "metadata": {
    "collapsed": false
   },
   "outputs": [
    {
     "name": "stdout",
     "output_type": "stream",
     "text": [
      "1.92282605171\n",
      "1.27962017059\n"
     ]
    }
   ],
   "source": [
    "import random\n",
    "import timeit \n",
    "\n",
    "\n",
    "print timeit.timeit(\"[ random.random() for i in range(10)]\", number=1000000, setup=\"import random\")\n",
    "\n",
    "\n",
    "print timeit.timeit(\"np.random.random((1,10))\", number=1000000, setup=\"import numpy as np\")\n"
   ]
  },
  {
   "cell_type": "markdown",
   "metadata": {},
   "source": [
    "###Zad 2.\n",
    "\n",
    "Napisz funkcje obliczajaca $\\sin(x) + \\cos(x)$ dla kazdego elementu tablicy uzywajac petli oraz uzywajac numpy, porownaj ich szybkosc podobnie jak w poprzednim zadaniu."
   ]
  },
  {
   "cell_type": "code",
   "execution_count": 48,
   "metadata": {
    "collapsed": false
   },
   "outputs": [
    {
     "data": {
      "text/plain": [
       "0.5275359153747559"
      ]
     },
     "execution_count": 48,
     "metadata": {},
     "output_type": "execute_result"
    }
   ],
   "source": [
    "timeit.timeit(\"for i in x: math.cos(i) + math.sin(i)\", number=100, setup=\"import math\\nx = [float(i) for i in range(10)]\")\n",
    "timeit.timeit(\"for i in x: np.cos(i) + np.sin(i)\", number=10000, setup=\"import numpy as np\\nx = [float(i) for i in range(10)]\")"
   ]
  },
  {
   "cell_type": "markdown",
   "metadata": {},
   "source": [
    "###Zad 3.\n",
    "\n",
    "Napisz wydajniejsza forme nastepujacych funkcji. Dopisz do kazdej test potwierdzajacy szybkosc zaproponowanego rozwiazania."
   ]
  },
  {
   "cell_type": "code",
   "execution_count": 83,
   "metadata": {
    "collapsed": false
   },
   "outputs": [
    {
     "name": "stdout",
     "output_type": "stream",
     "text": [
      "difference 0.0122158527374 0.178283929825\n",
      "Normal: 1.70101094246\n",
      "Numpy: 0.281812906265\n"
     ]
    },
    {
     "name": "stderr",
     "output_type": "stream",
     "text": [
      "/usr/local/lib/python2.7/dist-packages/IPython/kernel/__main__.py:9: RuntimeWarning: overflow encountered in long_scalars\n"
     ]
    },
    {
     "data": {
      "text/plain": [
       "0.0"
      ]
     },
     "execution_count": 83,
     "metadata": {},
     "output_type": "execute_result"
    }
   ],
   "source": [
    "import numpy\n",
    "import time\n",
    "\n",
    "def cube_sum(x):\n",
    "    \"\"\"Zwraca sume szescianow elementow\"\"\"\n",
    "    result = 0\n",
    "    start_time_normal = time.time()\n",
    "    for i in range(len(x)):\n",
    "        result += x[i] ** 3\n",
    "    first_time = time.time() - start_time_normal\n",
    "    start_time = time.time()\n",
    "    result = np.sum((x**3))\n",
    "    print \"difference\", (time.time() - start_time), first_time\n",
    "    return result\n",
    "\n",
    "cube_sum(np.array([i for i in range(100000)]))\n",
    "\n",
    "def almost_variance(x):\n",
    "    \"\"\"Oblicza 1/n * SUM (x_i - mean(x))^4\"\"\"\n",
    "    start_time_normal = time.time()\n",
    "    m = sum(x) / len(x)\n",
    "    result = 0\n",
    "    for i in range(len(x)):\n",
    "        result += (x[i] - m) ** 4\n",
    "    result /= len(x)\n",
    "    print \"Normal:\", time.time() - start_time_normal\n",
    "    start_time = time.time()\n",
    "    m = np.mean(x)\n",
    "    result = (np.power(np.sum(x - m), 4)) / len(x)\n",
    "    print \"Numpy:\", time.time() - start_time\n",
    "    return result\n",
    "almost_variance([i for i in range(1000000)])"
   ]
  },
  {
   "cell_type": "markdown",
   "metadata": {},
   "source": [
    "###Zad 4.\n",
    "\n",
    "Wykorzystujac `broadcasting` (popatrz na rysunek ponizej) stworz tabliczke mnozenia tzn. tablice $A$ taka, ze $$A_{ij} = i \\cdot j\\;\\;\\;\\;\\; \\forall i,j \\in \\{1,\\dots,10\\}$$\n",
    "\n",
    "Czy potrafisz wykonac to jednym poleceniem? Tzn. jednolinijkowo, nie uzywajac przy tym petli/comprehensions?"
   ]
  },
  {
   "cell_type": "markdown",
   "metadata": {},
   "source": [
    "<img src=\"http://www.astroml.org/_images/fig_broadcast_visual_1.png\">"
   ]
  },
  {
   "cell_type": "code",
   "execution_count": 88,
   "metadata": {
    "collapsed": false
   },
   "outputs": [
    {
     "name": "stdout",
     "output_type": "stream",
     "text": [
      "[[ 0.  0.  0.]\n",
      " [ 1.  1.  1.]\n",
      " [ 2.  2.  2.]]\n"
     ]
    }
   ],
   "source": [
    "def tabliczka(x):\n",
    "    y = [i for i in range(x.shape[0])]\n",
    "    for i in range(x.shape[0]):\n",
    "        \n",
    "tabliczka(np.ones((3,3)))"
   ]
  },
  {
   "cell_type": "markdown",
   "metadata": {},
   "source": [
    "###Zad 5.\n",
    "\n",
    "Wygeneruj losowa tablice `100 x 10`, ktora bedzie reprezentowac `100` punktow w `10` wymiarowej przestrzeni. Napisz funkcje ktora policzy odleglosc euklidesowa pomiedzy kazda para punktow, czy potrafisz zrobic to **w jednej linijce, bez uzycia zadnych petli/comprehensions**? Przypomnienie, dla dwoch wektorow $x$ i $y$ $$d_{e}(x,y) = \\| x - y \\|^2_2 = \\sum_{i=1}^d (x_i - y_i)^2 $$"
   ]
  },
  {
   "cell_type": "markdown",
   "metadata": {},
   "source": [
    "###Zad 6.\n",
    "\n",
    "Napisz funkcje do \"wybielania\" zbioru punktow, tj. aplikowania nastepujacej transformacji (ponownie, zrob to w jednej linijce, bez uzycia petli etc.)\n",
    "$$\n",
    "\\mathrm{white}(X)_{ij} = \\frac{X_{ij} - \\mu_j}{\\sigma_j}\n",
    "$$\n",
    "gdzie $\\mu_j$ to srednia po $j$ej kolumnie, a $\\sigma_j$ to odchylenie standardowe po tej kolumnie, np.\n",
    "\n",
    "$$\n",
    "\\mathrm{white}\\left ( \\left [ \\begin{matrix} \n",
    "0& 1\\\\\n",
    "2& 3\\\\\n",
    "4& 5\\\\\n",
    "6& 7\\\\\n",
    "8& 9\n",
    "\\end{matrix} \\right ] \\right ) = \n",
    "\\left [ \\begin{matrix} \n",
    "-1.41421356& -1.41421356\\\\\n",
    "-0.70710678& -0.70710678\\\\\n",
    "0.        &  0.        \\\\\n",
    "0.70710678&  0.70710678\\\\\n",
    "1.41421356&  1.41421356\n",
    "\\end{matrix} \\right ]\n",
    "$$\n",
    "W szczegolnosci srednia po poszczegolnych kolumnach nowej macierzy powinna wynosic `0` a odchylenie standardowe `1`."
   ]
  },
  {
   "cell_type": "markdown",
   "metadata": {},
   "source": [
    "###Zad 7.\n",
    "\n",
    "Majac dana tablice dowolnie wymiarowa (dla uproszczenia mozesz przyjac ze jedno lub dwu) oraz liczbe `x` znajdz najblizsza wartosc `x` w `A`, tzn. \n",
    "$$\n",
    "\\mathrm{closest}(x, A) = \\arg\\min_{a\\in A}| x - a| \n",
    "$$\n",
    "np. \n",
    "$$\n",
    "\\mathrm{closest}(1.5, [1, -4, 3]) = 1\n",
    "$$\n",
    "Ponownie, czy potrafisz zrobic to jedna linijka bez petli, etc.?\n"
   ]
  },
  {
   "cell_type": "markdown",
   "metadata": {},
   "source": [
    "###Zad 8.\n",
    "\n",
    "Zaimplementuj proste liczenie wartosci wielomianu o zadanych wspolczynnikach (analogie `np.poly1d`), czyli funkcje\n",
    "$$\n",
    "\\mathrm{poly}(x, a) = a_0 + a_1 x + a_2 x^2 + \\dots + a_k x^k = \\sum_{i=1}^k a_i x^i\n",
    "$$\n",
    "Czy potrafisz zrobic to jednolinijkowo bez uzycia petli, etc. (oraz `np.poly1d` :-)). Moze Ci sie przydac metoda `cumprod`"
   ]
  },
  {
   "cell_type": "markdown",
   "metadata": {},
   "source": [
    "### Zadanie dodatkowe\n",
    "\n",
    "Zaimplementuj gre w zycie uzywajac numpy, gra powinna byc do uruchomienia uzywajac"
   ]
  },
  {
   "cell_type": "code",
   "execution_count": null,
   "metadata": {
    "collapsed": false
   },
   "outputs": [],
   "source": [
    "import numpy as np\n",
    "def evolve(Z):\n",
    "    ... # tutaj maksymalnie piec linii\n",
    "    return Z\n",
    "\n",
    "def print_life(Z):\n",
    "    trans = {0: ' ', 1: '*'}\n",
    "    for line in Z:\n",
    "        print(''.join([trans[el] for el in line]))\n",
    "\n",
    "import os\n",
    "import time\n",
    "data = np.random.randint(0,2,(10,20))\n",
    "for i in range(100): \n",
    "    os.system('clear') #na windowsie os.clear(cls)\n",
    "    print_life(data)\n",
    "    time.sleep(1)\n",
    "    data = evolve(data)"
   ]
  },
  {
   "cell_type": "markdown",
   "metadata": {},
   "source": [
    "Czy potrafisz zrobic to w nie wiecej jak 5linijkach (caly kod metody `evolve`, bez linijki `return` ani `def`, nie uzywajac `;`)"
   ]
  }
 ],
 "metadata": {
  "kernelspec": {
   "display_name": "Python 2",
   "language": "python",
   "name": "python2"
  },
  "language_info": {
   "codemirror_mode": {
    "name": "ipython",
    "version": 2
   },
   "file_extension": ".py",
   "mimetype": "text/x-python",
   "name": "python",
   "nbconvert_exporter": "python",
   "pygments_lexer": "ipython2",
   "version": "2.7.9"
  }
 },
 "nbformat": 4,
 "nbformat_minor": 0
}
