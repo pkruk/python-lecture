{
 "metadata": {
  "kernelspec": {
   "display_name": "Python 2",
   "language": "python",
   "name": "python2"
  },
  "language_info": {
   "codemirror_mode": {
    "name": "ipython",
    "version": 2
   },
   "file_extension": ".py",
   "mimetype": "text/x-python",
   "name": "python",
   "nbconvert_exporter": "python",
   "pygments_lexer": "ipython2",
   "version": "2.7.9"
  },
  "name": ""
 },
 "nbformat": 3,
 "nbformat_minor": 0,
 "worksheets": [
  {
   "cells": [
    {
     "cell_type": "heading",
     "level": 2,
     "metadata": {},
     "source": [
      "Programowanie Python. Laboratoria 8"
     ]
    },
    {
     "cell_type": "markdown",
     "metadata": {},
     "source": [
      "###Zad 0.\n",
      "\n",
      "Zaimportuj `numpy` jako `np` i uruchom `np.__config__.show()`. Przyjrzyj sie wynikowi dzialania tej komendy. Jaka wiedze mozesz  stad uzyskac? W szczegolnosci, od ktorych elementow zalezec bedzie wydajnosc wykonywanych operacji?"
     ]
    },
    {
     "cell_type": "markdown",
     "metadata": {},
     "source": [
      "###Zad 1.\n",
      "\n",
      "Stw\u00f3rz losow\u0105 tablic\u0119 liczb, nast\u0119pnie do ka\u017cdego elementu dodaj 1. Nast\u0119pnie napisz dok\u0142adnie t\u0119 sam\u0105\u00a0funkcj\u0119 u\u017cywaj\u0105c `numpy` i jego tablic. Por\u00f3wnaj czas dzia\u0142ania swoich rozwi\u0105za\u0144. Dlaczego tak si\u0119 dzieje?"
     ]
    },
    {
     "cell_type": "markdown",
     "metadata": {},
     "source": [
      "###Zad 2.\n",
      "\n",
      "Napisz funkcje obliczajaca $\\sin(x) + \\cos(x)$ dla kazdego elementu tablicy uzywajac petli oraz uzywajac numpy, porownaj ich szybkosc podobnie jak w poprzednim zadaniu."
     ]
    },
    {
     "cell_type": "markdown",
     "metadata": {},
     "source": [
      "###Zad 3.\n",
      "\n",
      "Napisz wydajniejsza forme nastepujacych funkcji. Dopisz do kazdej test potwierdzajacy szybkosc zaproponowanego rozwiazania."
     ]
    },
    {
     "cell_type": "code",
     "collapsed": true,
     "input": [
      "def cube_sum(x):\n",
      "    \"\"\"Zwraca sume szescianow elementow\"\"\"\n",
      "    result = 0\n",
      "    for i in range(len(x)):\n",
      "        result += x[i] ** 3\n",
      "    return result\n",
      "\n",
      "def almost_variance(x):\n",
      "    \"\"\"Oblicza 1/n * SUM (x_i - mean(x))^4\"\"\"\n",
      "    m = sum(x) / len(x)\n",
      "    result = 0\n",
      "    for i in range(len(x)):\n",
      "        result += (x[i] - m) ** 4\n",
      "    result /= len(x)\n",
      "    return result"
     ],
     "language": "python",
     "metadata": {},
     "outputs": [],
     "prompt_number": null
    },
    {
     "cell_type": "markdown",
     "metadata": {},
     "source": [
      "###Zad 4.\n",
      "\n",
      "Wykorzystujac `broadcasting` (popatrz na rysunek ponizej) stworz tabliczke mnozenia tzn. tablice $A$ taka, ze $$A_{ij} = i \\cdot j\\;\\;\\;\\;\\; \\forall i,j \\in \\{1,\\dots,10\\}$$\n",
      "\n",
      "Czy potrafisz wykonac to jednym poleceniem? Tzn. jednolinijkowo, nie uzywajac przy tym petli/comprehensions?"
     ]
    },
    {
     "cell_type": "markdown",
     "metadata": {},
     "source": [
      "<img src=\"http://www.astroml.org/_images/fig_broadcast_visual_1.png\">"
     ]
    },
    {
     "cell_type": "markdown",
     "metadata": {},
     "source": [
      "###Zad 5.\n",
      "\n",
      "Wygeneruj losowa tablice `100 x 10`, ktora bedzie reprezentowac `100` punktow w `10` wymiarowej przestrzeni. Napisz funkcje ktora policzy odleglosc euklidesowa pomiedzy kazda para punktow, czy potrafisz zrobic to **w jednej linijce, bez uzycia zadnych petli/comprehensions**? Przypomnienie, dla dwoch wektorow $x$ i $y$ $$d_{e}(x,y) = \\| x - y \\|^2_2 = \\sum_{i=1}^d (x_i - y_i)^2 $$"
     ]
    },
    {
     "cell_type": "markdown",
     "metadata": {},
     "source": [
      "###Zad 6.\n",
      "\n",
      "Napisz funkcje do \"wybielania\" zbioru punktow, tj. aplikowania nastepujacej transformacji (ponownie, zrob to w jednej linijce, bez uzycia petli etc.)\n",
      "$$\n",
      "\\mathrm{white}(X)_{ij} = \\frac{X_{ij} - \\mu_j}{\\sigma_j}\n",
      "$$\n",
      "gdzie $\\mu_j$ to srednia po $j$ej kolumnie, a $\\sigma_j$ to odchylenie standardowe po tej kolumnie, np.\n",
      "\n",
      "$$\n",
      "\\mathrm{white}\\left ( \\left [ \\begin{matrix} \n",
      "0& 1\\\\\n",
      "2& 3\\\\\n",
      "4& 5\\\\\n",
      "6& 7\\\\\n",
      "8& 9\n",
      "\\end{matrix} \\right ] \\right ) = \n",
      "\\left [ \\begin{matrix} \n",
      "-1.41421356& -1.41421356\\\\\n",
      "-0.70710678& -0.70710678\\\\\n",
      "0.        &  0.        \\\\\n",
      "0.70710678&  0.70710678\\\\\n",
      "1.41421356&  1.41421356\n",
      "\\end{matrix} \\right ]\n",
      "$$\n",
      "W szczegolnosci srednia po poszczegolnych kolumnach nowej macierzy powinna wynosic `0` a odchylenie standardowe `1`."
     ]
    },
    {
     "cell_type": "markdown",
     "metadata": {},
     "source": [
      "###Zad 7.\n",
      "\n",
      "Majac dana tablice dowolnie wymiarowa (dla uproszczenia mozesz przyjac ze jedno lub dwu) oraz liczbe `x` znajdz najblizsza wartosc `x` w `A`, tzn. \n",
      "$$\n",
      "\\mathrm{closest}(x, A) = \\arg\\min_{a\\in A}| x - a| \n",
      "$$\n",
      "np. \n",
      "$$\n",
      "\\mathrm{closest}(1.5, [1, -4, 3]) = 1\n",
      "$$\n",
      "Ponownie, czy potrafisz zrobic to jedna linijka bez petli, etc.?\n"
     ]
    },
    {
     "cell_type": "markdown",
     "metadata": {},
     "source": [
      "###Zad 8.\n",
      "\n",
      "Zaimplementuj proste liczenie wartosci wielomianu o zadanych wspolczynnikach (analogie `np.poly1d`), czyli funkcje\n",
      "$$\n",
      "\\mathrm{poly}(x, a) = a_0 + a_1 x + a_2 x^2 + \\dots + a_k x^k = \\sum_{i=1}^k a_i x^i\n",
      "$$\n",
      "Czy potrafisz zrobic to jednolinijkowo bez uzycia petli, etc. (oraz `np.poly1d` :-)). Moze Ci sie przydac metoda `cumprod`"
     ]
    },
    {
     "cell_type": "markdown",
     "metadata": {},
     "source": [
      "### Zadanie dodatkowe\n",
      "\n",
      "Zaimplementuj gre w zycie uzywajac numpy, gra powinna byc do uruchomienia uzywajac"
     ]
    },
    {
     "cell_type": "code",
     "collapsed": false,
     "input": [
      "import numpy as np\n",
      "def evolve(Z):\n",
      "    ... # tutaj maksymalnie piec linii\n",
      "    return Z\n",
      "\n",
      "def print_life(Z):\n",
      "    trans = {0: ' ', 1: '*'}\n",
      "    for line in Z:\n",
      "        print(''.join([trans[el] for el in line]))\n",
      "\n",
      "import os\n",
      "import time\n",
      "data = np.random.randint(0,2,(10,20))\n",
      "for i in range(100): \n",
      "    os.system('clear') #na windowsie os.clear(cls)\n",
      "    print_life(data)\n",
      "    time.sleep(1)\n",
      "    data = evolve(data)"
     ],
     "language": "python",
     "metadata": {},
     "outputs": [],
     "prompt_number": null
    },
    {
     "cell_type": "markdown",
     "metadata": {},
     "source": [
      "Czy potrafisz zrobic to w nie wiecej jak 5linijkach (caly kod metody `evolve`, bez linijki `return` ani `def`, nie uzywajac `;`)"
     ]
    }
   ],
   "metadata": {}
  }
 ]
}