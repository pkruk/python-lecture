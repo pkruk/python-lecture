{
 "cells": [
  {
   "cell_type": "code",
   "execution_count": 2,
   "metadata": {
    "collapsed": false
   },
   "outputs": [],
   "source": [
    "from sklearn.datasets import load_svmlight_file\n",
    "from sklearn.linear_model import Perceptron\n",
    "from sklearn.preprocessing import normalize\n",
    "from matplotlib import pyplot as plt\n",
    "import numpy as np\n",
    "import warnings\n",
    "import pickle\n",
    "\n",
    "warnings.filterwarnings('ignore')\n",
    "\n",
    "X, y = load_svmlight_file('data/task1.train')\n",
    "X = normalize(X)\n",
    "#The data to normalize, element by element. \n",
    "#scipy.sparse matrices should be in CSR format to avoid an un-necessary copy. we have a csr, so we can\n",
    "#max for y is 6.0\n"
   ]
  },
  {
   "cell_type": "code",
   "execution_count": 14,
   "metadata": {
    "collapsed": false
   },
   "outputs": [
    {
     "name": "stdout",
     "output_type": "stream",
     "text": [
      "matched: 570 length? 866\n",
      "0.658198614319\n"
     ]
    }
   ],
   "source": [
    "\n",
    "model = Perceptron(n_iter=1000, fit_intercept=False,penalty='l1')\n",
    "model.fit(X[:-100],y[:-100])\n",
    "pred = model.predict(X[:-100])\n",
    "\n",
    "print \"matched:\", (str(sum(pred == y[:-100]))), \"length?\", len(y[:-100])\n",
    "pickle.dump( model, open( \"Kruk.model\", \"wb\" ) )\n",
    "\n",
    "\n",
    "print sum(pred == y[:-100])/ float(len(y[:-100]))"
   ]
  },
  {
   "cell_type": "code",
   "execution_count": null,
   "metadata": {
    "collapsed": true
   },
   "outputs": [],
   "source": [
    "z l1 \n",
    "matched: 570 length? 866\n",
    "0.658198614319\n",
    "z l2 \n",
    "matched: 560 length? 866\n",
    "0.646651270208"
   ]
  },
  {
   "cell_type": "code",
   "execution_count": 66,
   "metadata": {
    "collapsed": true
   },
   "outputs": [],
   "source": [
    "class FacesClassifier(object):\n",
    "    \n",
    "    def __init__(self, model='Kruk.model'):\n",
    "        self.model = pickle.load( open( model, \"rb\" ) )\n",
    "        \n",
    "    def predict(self, X):\n",
    "        return self.model.predict(X)"
   ]
  },
  {
   "cell_type": "code",
   "execution_count": 68,
   "metadata": {
    "collapsed": false
   },
   "outputs": [
    {
     "name": "stdout",
     "output_type": "stream",
     "text": [
      "matched: 76 length? 100\n"
     ]
    }
   ],
   "source": [
    "f = FacesClassifier('Kruk.model')\n",
    "p = f.predict(X[-100:])\n",
    "print \"matched:\", (str(sum(p == y[-100:]))), \"length?\", len(y[-100:])"
   ]
  }
 ],
 "metadata": {
  "kernelspec": {
   "display_name": "Python 2",
   "language": "python",
   "name": "python2"
  },
  "language_info": {
   "codemirror_mode": {
    "name": "ipython",
    "version": 2
   },
   "file_extension": ".py",
   "mimetype": "text/x-python",
   "name": "python",
   "nbconvert_exporter": "python",
   "pygments_lexer": "ipython2",
   "version": "2.7.9"
  }
 },
 "nbformat": 4,
 "nbformat_minor": 0
}
