{
 "metadata": {
  "name": "",
  "signature": "sha256:c0c6ea7c5b4364d2c80c43cc70a46c5a30127943df93d3a3c312e2668cbd3c9f"
 },
 "nbformat": 3,
 "nbformat_minor": 0,
 "worksheets": [
  {
   "cells": [
    {
     "cell_type": "heading",
     "level": 2,
     "metadata": {},
     "source": [
      "Sieci Neuronowe - Laboratorium 3. Klasyfikacja obraz\u00f3w"
     ]
    },
    {
     "cell_type": "heading",
     "level": 2,
     "metadata": {},
     "source": [
      "Zbi\u00f3r danych"
     ]
    },
    {
     "cell_type": "markdown",
     "metadata": {},
     "source": [
      "W katalogu `data` pobierz zbi\u00f3r `ex3data1.mat` za pomoc\u0105 skryptu `download_SN3.sh`, wczytaj go (przyda si\u0119 `scipy.io.loadmat`) i wy\u015bwietl kilka pierwszych obrazk\u00f3w u\u017cywaj\u0105c funkcji `imshow` z `matplotlib.pyplot`"
     ]
    },
    {
     "cell_type": "code",
     "collapsed": false,
     "input": [
      "from scipy.io import loadmat\n",
      "D = loadmat('data/ex3data1.mat')\n",
      "X, y = D['X'], D['y']\n",
      "\n",
      "y=y.ravel() # y musi by\u0107 wektorem, a nie macierz\u0105 (5000, 1)\n",
      "y[y == 10] = 0\n",
      "\n",
      "x = X[0]"
     ],
     "language": "python",
     "metadata": {},
     "outputs": [],
     "prompt_number": 2
    },
    {
     "cell_type": "code",
     "collapsed": false,
     "input": [
      "%matplotlib inline\n",
      "\n",
      "## Przyk\u0142ad rysowania\n",
      "import numpy as np\n",
      "\n",
      "# x = np.array([0, 0, 1, 0, 0, 1, 1, 0, 0, 0, 1, 0, 0, 0, 1, 0]) # zwektoryzowany obrazek\n",
      "x = x.reshape(np.sqrt(len(x)), np.sqrt(len(x))) # przerabiamy na macierz\n",
      "\n",
      "#print(x) # wyswietlamy\n",
      "\n",
      "from matplotlib import pyplot as plt\n",
      "plt.figure()\n",
      "plt.imshow(x, aspect=\"auto\", cmap=\"gray\") # rysujemy obrazek\n",
      "plt.show()"
     ],
     "language": "python",
     "metadata": {},
     "outputs": [
      {
       "metadata": {},
       "output_type": "display_data",
       "png": "[encoded data removed]",
       "text": [
        "<matplotlib.figure.Figure at 0x7f87cc1badd0>"
       ]
      }
     ],
     "prompt_number": 3
    },
    {
     "cell_type": "markdown",
     "metadata": {},
     "source": [
      "Dlaczego obraz jest trzymany jako wektor? Czy to na pewno najlepsze rozwi\u0105zanie? Czy mo\u017cna zaproponowa\u0107 co\u015b innego?"
     ]
    },
    {
     "cell_type": "heading",
     "level": 3,
     "metadata": {},
     "source": [
      "Problem binarny"
     ]
    },
    {
     "cell_type": "markdown",
     "metadata": {},
     "source": [
      "Ogranicz problem wy\u0142\u0105cznie do etykiet 5 i 6, stw\u00f3rz nowy zbi\u00f3r `X_binary, y_binary`. Przyda si\u0119 indeksowanie tablicy tablic\u0105 logiczn\u0105:"
     ]
    },
    {
     "cell_type": "code",
     "collapsed": false,
     "input": [
      "import numpy as np\n",
      "\n",
      "xtmp = np.array([[1,3,4],[2,1,3],[4,1,1]])\n",
      "print(xtmp)\n",
      "print \n",
      "ltmp = np.array([True, False, True])\n",
      "print(xtmp[ltmp])\n",
      "print \n",
      "ytmp = np.array([0,0,1])\n",
      "print(ytmp == 0)\n",
      "print \n",
      "print(xtmp[ytmp == 0])\n",
      "\n"
     ],
     "language": "python",
     "metadata": {},
     "outputs": [
      {
       "output_type": "stream",
       "stream": "stdout",
       "text": [
        "[[1 3 4]\n",
        " [2 1 3]\n",
        " [4 1 1]]\n",
        "\n",
        "[[1 3 4]\n",
        " [4 1 1]]\n",
        "\n",
        "[ True  True False]\n",
        "\n",
        "[[1 3 4]\n",
        " [2 1 3]]\n"
       ]
      }
     ],
     "prompt_number": 4
    },
    {
     "cell_type": "code",
     "collapsed": false,
     "input": [
      "import numpy as np\n",
      "\n",
      "print X.shape, y.shape\n",
      "\n",
      "fivesAndSixesX = X[(y==5) | (y==6)]\n",
      "fivesAndSixesY = y[(y==5) | (y==6)]\n",
      "\n",
      "\n",
      "'''\n",
      "from matplotlib import pyplot as plt\n",
      "for x in fivesAndSixesX:\n",
      "\n",
      "    x = x.reshape(np.sqrt(len(x)), np.sqrt(len(x))) # przerabiamy na macierz\n",
      "    plt.figure()\n",
      "    plt.imshow(x.T, aspect=\"auto\", cmap=\"gray\", ) # rysujemy obrazek\n",
      "    plt.show()\n",
      "'''"
     ],
     "language": "python",
     "metadata": {},
     "outputs": [
      {
       "output_type": "stream",
       "stream": "stdout",
       "text": [
        "(5000, 400) (5000,)\n"
       ]
      },
      {
       "metadata": {},
       "output_type": "pyout",
       "prompt_number": 5,
       "text": [
        "'\\nfrom matplotlib import pyplot as plt\\nfor x in fivesAndSixesX:\\n\\n    x = x.reshape(np.sqrt(len(x)), np.sqrt(len(x))) # przerabiamy na macierz\\n    plt.figure()\\n    plt.imshow(x.T, aspect=\"auto\", cmap=\"gray\", ) # rysujemy obrazek\\n    plt.show()\\n'"
       ]
      }
     ],
     "prompt_number": 5
    },
    {
     "cell_type": "markdown",
     "metadata": {},
     "source": [
      "<img width=800 src=\"files/SN3_img/nn56.png\">"
     ]
    },
    {
     "cell_type": "markdown",
     "metadata": {},
     "source": [
      "Podziel zbi\u00f3r na dwie cz\u0119\u015bci w proporcjach 3:1, zbi\u00f3r **ucz\u0105cy** i zbi\u00f3r **testuj\u0105cy**"
     ]
    },
    {
     "cell_type": "code",
     "collapsed": false,
     "input": [
      "import numpy as np\n",
      "from sklearn.cross_validation import train_test_split\n",
      "\n",
      "X_binary_train, X_binary_test, y_binary_train, y_binary_test = train_test_split(fivesAndSixesX, fivesAndSixesY, test_size=0.25, random_state=497)\n",
      "\n",
      "print X_binary_train.shape, X_binary_test.shape, y_binary_train.shape, y_binary_test.shape\n",
      "\n",
      "y_binary_test = np.array(map(lambda v: -1 if v==5 else 1, y_binary_test))\n",
      "y_binary_train = np.array(map(lambda v: -1 if v==5 else 1, y_binary_train))"
     ],
     "language": "python",
     "metadata": {},
     "outputs": [
      {
       "output_type": "stream",
       "stream": "stdout",
       "text": [
        "(750, 400) (250, 400) (750,) (250,)\n"
       ]
      }
     ],
     "prompt_number": 6
    },
    {
     "cell_type": "markdown",
     "metadata": {},
     "source": [
      "Naucz sw\u00f3j `RandomLearner` na danych **ucz\u0105cych** i policz jego Accuracy na zbiorze **testuj\u0105cym**. Jaki osi\u0105ga wynik po kilkuset iteracjach?"
     ]
    },
    {
     "cell_type": "markdown",
     "metadata": {},
     "source": [
      "Definicja prostej: wektor 0 -> [x1, x2, ... , xn] + b, gdzie n to rozmiar przestrzenii (liczba wymiar\u00f3w), a b to bias - przesuni\u0119cie.\n",
      "\n",
      "Iloczyn skalarny wektora i punktu wyznacza nam po kt\u00f3rej stronie p\u0142aszczyzny wycznaczanej przez ten wektor (wektor w - wektor nomralny p\u0142aszczyny) le\u017cy punkt (w zale\u017cno\u015bci od znaku wyniku)"
     ]
    },
    {
     "cell_type": "code",
     "collapsed": false,
     "input": [
      "class RandomLearner():\n",
      "    \n",
      "    def __init__(self, T=1000):\n",
      "        self.iterations = T\n",
      "        self.w = None\n",
      "        self.b = None\n",
      "        self.d = None\n",
      "        self.best_acc = 0\n",
      "    \n",
      "    def fit(self, X, y):\n",
      "        \"\"\"\n",
      "            Model uczy sie zbioru (X, y) czyli znajduje w oraz b\n",
      "        \"\"\"\n",
      "        \n",
      "        X = np.array(X)\n",
      "        y = np.array(map(lambda v: -1 if v==5 else 1, y))\n",
      "        \n",
      "        self.d = len(X[0])\n",
      "        for i in xrange(0, self.iterations):\n",
      "            # Losuj w oraz b\n",
      "            w = np.random.normal(size=(self.d))\n",
      "            \n",
      "            b = np.random.random()\n",
      "            \n",
      "            # Sprawdz jaka jest predykcja dla takich parametrow (kandydata)\n",
      "            candidate = np.array(np.sign(np.dot(w, X.T) - b))\n",
      "            # Policz jej celnosc\u0087 (accuracy) i zaktualizuj model, jesli jest lepiej\n",
      "            acc = sum(candidate == y) / float(len(y))\n",
      "            \n",
      "            if acc > self.best_acc:\n",
      "                self.best_acc = acc\n",
      "                self.w = w\n",
      "                self.b = b\n",
      "        \n",
      "        return self\n",
      "    \n",
      "    def predict(self, X):\n",
      "        \"\"\"\n",
      "            Zwraca liste\u0099 predykcji dla kazdego wiersza X\n",
      "        \"\"\"\n",
      "        return np.sign(np.dot(self.w, X.T) - self.b)\n",
      "    "
     ],
     "language": "python",
     "metadata": {},
     "outputs": [],
     "prompt_number": 7
    },
    {
     "cell_type": "code",
     "collapsed": false,
     "input": [
      "import copy\n",
      "from sklearn.decomposition import PCA\n",
      "\n",
      "rl = RandomLearner()\n",
      "\n",
      "X_binary_train_PCA = copy.deepcopy(X_binary_train)\n",
      "pca = PCA(n_components = 100)\n",
      "X_binary_train_PCA = pca.fit_transform(X_binary_train_PCA)\n",
      "\n",
      "rl.fit(X_binary_train_PCA, y_binary_train)\n",
      "\n",
      "X_binary_test_PCA = copy.deepcopy(X_binary_test)\n",
      "pca = PCA(n_components = 100)\n",
      "X_binary_test_PCA = pca.fit_transform(X_binary_test_PCA)\n",
      "\n",
      "y_result_random = rl.predict(X_binary_test_PCA)\n",
      "print y_result_random\n",
      "diff = filter(lambda pair: pair[0]==pair[1], zip(y_result_random, y_binary_test))\n",
      "\n",
      "print len(diff)/float(len(y_result_random))"
     ],
     "language": "python",
     "metadata": {},
     "outputs": [
      {
       "output_type": "stream",
       "stream": "stdout",
       "text": [
        "[ 1.  1.  1.  1. -1. -1. -1.  1. -1. -1. -1. -1. -1. -1. -1. -1.  1.  1.\n",
        "  1.  1.  1. -1.  1.  1.  1. -1. -1. -1. -1. -1.  1. -1.  1.  1.  1. -1.\n",
        "  1.  1.  1. -1.  1. -1.  1.  1. -1.  1. -1.  1.  1.  1. -1. -1.  1. -1.\n",
        "  1.  1. -1. -1.  1.  1.  1. -1.  1. -1.  1.  1.  1.  1. -1.  1. -1. -1.\n",
        "  1. -1.  1. -1. -1.  1. -1.  1. -1.  1. -1.  1.  1.  1. -1.  1. -1.  1.\n",
        " -1. -1. -1. -1. -1.  1. -1.  1. -1. -1.  1.  1. -1.  1. -1. -1.  1.  1.\n",
        " -1. -1.  1. -1. -1. -1.  1.  1.  1. -1. -1.  1. -1. -1. -1. -1. -1. -1.\n",
        " -1.  1.  1. -1.  1.  1. -1. -1. -1.  1. -1. -1. -1. -1. -1. -1. -1.  1.\n",
        " -1. -1. -1.  1. -1. -1.  1.  1. -1. -1.  1. -1.  1.  1.  1.  1. -1.  1.\n",
        " -1. -1. -1. -1.  1. -1.  1. -1.  1.  1. -1. -1.  1.  1.  1. -1. -1. -1.\n",
        " -1. -1. -1.  1. -1. -1.  1. -1.  1.  1. -1. -1.  1. -1. -1. -1. -1. -1.\n",
        " -1.  1. -1. -1.  1. -1. -1.  1.  1.  1.  1. -1. -1.  1.  1. -1. -1.  1.\n",
        "  1. -1. -1. -1. -1.  1.  1.  1.  1. -1. -1. -1.  1. -1. -1.  1.  1.  1.\n",
        "  1.  1.  1.  1. -1.  1.  1.  1.  1.  1. -1. -1.  1.  1. -1.  1.]\n",
        "0.272\n"
       ]
      }
     ],
     "prompt_number": 10
    },
    {
     "cell_type": "markdown",
     "metadata": {},
     "source": [
      "Naucz Perceptron z `sklearn.linear_model` na tych samych danych, jaki osi\u0105ga wynik? Dlaczego?"
     ]
    },
    {
     "cell_type": "code",
     "collapsed": false,
     "input": [
      "from sklearn.linear_model import Perceptron\n",
      "from sklearn.decomposition import PCA\n",
      "import copy\n",
      "\n",
      "p = Perceptron(n_iter=100)\n",
      "p.fit(X_binary_train, y_binary_train)\n",
      "y_result_perceptron1 = p.predict(X_binary_test)\n",
      "\n",
      "\n",
      "\n",
      "diff = filter(lambda pair: pair[0]==pair[1], zip(y_result_perceptron1, y_binary_test))\n",
      "print 'before PCA'\n",
      "print len(diff), len(y_binary_test)\n",
      "\n",
      "# X_binary_train_PCA = copy.deepcopy(X_binary_train)\n",
      "# pca = PCA(n_components = 20, whiten=True)\n",
      "# pca.fit_transform(X_binary_train_PCA)\n",
      "\n",
      "# p2 = Perceptron(n_iter=100)\n",
      "# p2.fit(X_binary_train_PCA, y_binary_train)\n",
      "# y_result_perceptron2 = p2.predict(X_binary_test)\n",
      "\n",
      "# which_failed = map(lambda pair: pair[0]==pair[1], zip(y_result_perceptron2, y_binary_test))\n",
      "\n",
      "# print which_failed\n",
      "# print float(len(which_failed)), float(len(y_binary_test))\n",
      "# from matplotlib import pyplot as plt\n",
      "\n",
      "# to_print = []\n",
      "\n",
      "# for val in zip(which_failed, X_binary_test):\n",
      "#     if val[0]==True:\n",
      "#         to_print.append(val[1])\n",
      "        \n",
      "# print \"len to_print: \", len(to_print)\n",
      "\n",
      "# for x in to_print:\n",
      "\n",
      "#     x = x.reshape(np.sqrt(len(x)), np.sqrt(len(x))) # przerabiamy na macierz\n",
      "#     plt.figure()\n",
      "#     plt.imshow(x.T, aspect=\"auto\", cmap=\"gray\", ) # rysujemy obrazek\n",
      "#     plt.show()\n"
     ],
     "language": "python",
     "metadata": {},
     "outputs": [
      {
       "output_type": "stream",
       "stream": "stdout",
       "text": [
        "before PCA\n",
        "243 250\n"
       ]
      }
     ],
     "prompt_number": 18
    },
    {
     "cell_type": "heading",
     "level": 3,
     "metadata": {},
     "source": [
      "Problem wieloklasowy"
     ]
    },
    {
     "cell_type": "markdown",
     "metadata": {},
     "source": [
      "Wykonaj te same eksperymenty na pe\u0142nym problemie, mo\u017cesz pomin\u0105\u0107 uczenie `RandomLearner`a, jako, \u017ce nie obs\u0142uguje on obecnie wielu klas. **Do dyskusji - w jaki spos\u00f3b przerobi\u0107 go na wersj\u0119 wieloklasow\u0105?** Je\u015bli uczenie trwa zbyt d\u0142ugo mo\u017cesz zmieni\u0107 proporcje na 1:3."
     ]
    },
    {
     "cell_type": "markdown",
     "metadata": {},
     "source": [
      "Uwaga, w danych omylkowo klasa `0` jest zakodowana jako `10`, mozna to naprawi\u0107\u00a0pisz\u0105c\n",
      "\n",
      "    y[y == 10] = 0"
     ]
    },
    {
     "cell_type": "markdown",
     "metadata": {},
     "source": [
      "Pobierz `theanets` https://github.com/lmjohns3/theanets i stw\u00f3rz prost\u0105 wielowarstwow\u0105\u00a0sie\u0107, kt\u00f3r\u0105 nauczysz na tych danych.\n",
      "\n",
      "*Ciekawostka*, u\u017cycie `CTRL+C` podczas uczenia (`.train`) wywo\u0142uje przerwanie uczenia w tym miejscu w kt\u00f3rym jest, ale reszta kodu si\u0119 wykona, wi\u0119c mo\u017cna r\u0119cznie zatrzyma\u0107 d\u0142ugo trwaj\u0105ce uczenie i wci\u0105\u017c \"mie\u0107\" nauczony model."
     ]
    },
    {
     "cell_type": "code",
     "collapsed": false,
     "input": [
      "import theanets\n",
      "exp = theanets.Experiment(\n",
      "    theanets.Classifier,\n",
      "    #layers=(LICZBA_NEURONOW_WEJSCIOWYCH, LICZBA_NEURONOW_UKRYTYCH, LICZBA_NEURONOW_WYJSCIOWYCH)\n",
      "    layers=(X.shape[1], 20, 10)\n",
      ")\n",
      "\n",
      "X_train, X_test, y_train, y_test = train_test_split(X, y, test_size=0.75, random_state=497)\n",
      "\n",
      "print X_train.shape, X_test.shape, y_train.shape, y_test.shape\n",
      "\n",
      "\n",
      "exp.train(\n",
      "    (X_train, y_train),\n",
      "    optimize='sgd',\n",
      "    learning_rate=0.99,\n",
      "    momentum=0.9\n",
      "    )\n"
     ],
     "language": "python",
     "metadata": {},
     "outputs": [
      {
       "output_type": "stream",
       "stream": "stdout",
       "text": [
        "(1250, 400) (3750, 400) (1250,) (3750,)\n"
       ]
      },
      {
       "metadata": {},
       "output_type": "pyout",
       "prompt_number": 17,
       "text": [
        "(OrderedDict([('loss', 1.4870565472869635e-05), ('err', 1.4870565472869635e-05), ('hid1<0.1', 55.785615808823536), ('hid1<0.9', 77.32674632352942), ('out<0.1', 90.0), ('out<0.9', 90.0), ('acc', 100.0)]),\n",
        " OrderedDict([('loss', 1.4895662630317956e-05), ('err', 1.4895662630317956e-05), ('hid1<0.1', 55.778262867647058), ('hid1<0.9', 77.33065257352942), ('out<0.1', 90.0), ('out<0.9', 90.0), ('acc', 100.0)]))"
       ]
      }
     ],
     "prompt_number": 17
    },
    {
     "cell_type": "code",
     "collapsed": false,
     "input": [
      "Im wiecej ukrytych neuronow tym dluzej sie liczy siec i tym bardziej skomplikowany model, przy 10 ukrytych neuronach\n",
      "w moim modelu bylo dobrze i nie bylo widac roznicy miedzy siecia z 200 neuronami ukrytymi. ale ilosc ukrytych neuronow\n",
      "poprawia skutecznosc predykcji (captain obvious)"
     ],
     "language": "python",
     "metadata": {},
     "outputs": [
      {
       "ename": "SyntaxError",
       "evalue": "invalid syntax (<ipython-input-19-bcd2e0cb9d6f>, line 1)",
       "output_type": "pyerr",
       "traceback": [
        "\u001b[0;36m  File \u001b[0;32m\"<ipython-input-19-bcd2e0cb9d6f>\"\u001b[0;36m, line \u001b[0;32m1\u001b[0m\n\u001b[0;31m    Im wiecej ukrytych neuronow tym dluzej sie liczy siec i tym bardziej skomplikowany model\u001b[0m\n\u001b[0m            ^\u001b[0m\n\u001b[0;31mSyntaxError\u001b[0m\u001b[0;31m:\u001b[0m invalid syntax\n"
       ]
      }
     ],
     "prompt_number": 19
    },
    {
     "cell_type": "code",
     "collapsed": false,
     "input": [
      "print 'dddd'\n",
      "y_result = exp.network.predict(X_test)\n",
      "'''\n",
      "for i in xrange(20):\n",
      "    print np.argmax(y_result[i])\n",
      "\n",
      "    x = X_test[i].reshape(np.sqrt(len(X_test[i])), np.sqrt(len(X_test[i]))) # przerabiamy na macierz\n",
      "    plt.figure()\n",
      "    plt.imshow(x.T, aspect=\"auto\", cmap=\"gray\", ) # rysujemy obrazek\n",
      "    plt.show()\n",
      "'''\n",
      "y_result = [np.argmax(val) for val in y_result]\n",
      "which_failed = map(lambda pair: pair[0]==pair[1], zip(y_result, y_test))\n",
      "print len(which_failed), len(y_test)\n",
      "to_print = []\n",
      "\n",
      "for val in zip(which_failed, X_binary_test):\n",
      "    if val[0]==True:\n",
      "        to_print.append(val[1])\n",
      "        \n",
      "print \"len to_print: \", len(to_print)"
     ],
     "language": "python",
     "metadata": {},
     "outputs": [
      {
       "output_type": "stream",
       "stream": "stdout",
       "text": [
        "dddd\n",
        "3750"
       ]
      },
      {
       "output_type": "stream",
       "stream": "stdout",
       "text": [
        " 3750\n",
        "len to_print:  223\n"
       ]
      }
     ],
     "prompt_number": 19
    },
    {
     "cell_type": "markdown",
     "metadata": {},
     "source": [
      "Jak zale\u017c\u0105 wyniki od ilo\u015bci ukrytych neuron\u00f3w? A od sta\u0142ej uczenia? Co zmienia momentum?\n",
      "\n",
      "\n",
      "stala uczenia, jak bardzo poprawiamy wynik, jak damy za duza to bedziemy skakac, jak za mala to bedzie proces wydluzony i moze nam nei zbiegnac w rozsadnym czasie\n",
      "Moment odgrywa r\u00f3wnie\u017c pozytywn\u0105 rol\u0119 w przypadku wyst\u0119powania na powierzchni funkcji b\u0142\u0119du tzw. w\u0105woz\u00f3w, to znaczy w\u0105skich obszar\u00f3w o stromych \u015bcianach bocznych i g\u0142\u0119bokich dnach. Moment pe\u0142ni tu niejako rol\u0119 filtru dolnoprzepustowego dla zmian gradientu. Zmiany gradientu o wysokiej cz\u0119stotliwo\u015bci (oscylacje w poprzek \u015bcian w\u0105wozu) s\u0105 eliminowane, a wzmacniany jest sk\u0142adnik gradientu wymuszaj\u0105cy ruch w stron\u0119 dna. Modyfikacja momentowa BP ma ponadto korzystny wp\u0142yw na problem minim\u00f3w lokalnych. W pobli\u017cu takiego minimum sk\u0142adnik momentu, nie b\u0119d\u0105c zwi\u0105zany z aktualn\u0105 warto\u015bci\u0105 gradientu, mo\u017ce spowodowa\u0107 zmian\u0119 wag prowadz\u0105c\u0105 do chwilowego wzrostu warto\u015bci funkcji b\u0142\u0119du i w efekcie opuszczenia strefy \"przyci\u0105gania\" tego minimum."
     ]
    },
    {
     "cell_type": "markdown",
     "metadata": {},
     "source": [
      "Poni\u017cszy kod wizualizuje wagi warstwy ukrytej, uruchom go dla swojej sieci. "
     ]
    },
    {
     "cell_type": "code",
     "collapsed": false,
     "input": [
      "# img_size powinno zawierac szerokosc obrazka\n",
      "rows = 10\n",
      "cols = 200 / rows\n",
      "img_size = 20\n",
      "img = np.zeros(((img_size+5) * rows, (img_size+5) * cols), dtype='f')\n",
      "for i, pix in enumerate(exp.network.find(1, 0).get_value().T):\n",
      "    r, c = divmod(i, cols)\n",
      "    img[r * (img_size+5): r*(img_size+5) + img_size, \n",
      "        c * (img_size+5): c * (img_size+5) + img_size] = pix.reshape((img_size, img_size))\n",
      "\n",
      "plt.figure()\n",
      "plt.imshow(img, cmap=plt.cm.gray)\n",
      "plt.show()"
     ],
     "language": "python",
     "metadata": {},
     "outputs": [
      {
       "metadata": {},
       "output_type": "display_data",
       "png": "[encoded data removed]",
       "text": [
        "<matplotlib.figure.Figure at 0x7f87a3a405d0>"
       ]
      }
     ],
     "prompt_number": 20
    },
    {
     "cell_type": "markdown",
     "metadata": {},
     "source": [
      "Czym s\u0105 te wagi? Czy mo\u017cesz poda\u0107 jak\u0105\u015b ich interpretacj\u0119? Dlaczego tak wygl\u0105daj\u0105?\n",
      "\n",
      "nie mam pojecia jeszcze!"
     ]
    },
    {
     "cell_type": "heading",
     "level": 5,
     "metadata": {},
     "source": [
      "Zadanie programistyczne"
     ]
    },
    {
     "cell_type": "markdown",
     "metadata": {},
     "source": [
      "Opakuj siec z theanets w skladnie `scikit-learn`, tzn. spraw zeby dalo sie go uzywac wg. nastepujacych zasad:\n",
      "\n",
      "* wszelkie istotne charakterystyki powinny byc przekazywane jako argumenty konstruktora\n",
      "* uczenie powinno byc wywolywane metoda `fit(X, y)`\n",
      "* przewidywanie etykiet powinno byc wywolywane metoda `predict(X)`\n",
      "* powinno dac sie odzyskac prawdopodobienstwa klasyfikacji przez `predict_proba(X)`"
     ]
    }
   ],
   "metadata": {}
  }
 ]
}